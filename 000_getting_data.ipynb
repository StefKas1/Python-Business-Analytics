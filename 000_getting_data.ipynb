{
 "cells": [
  {
   "cell_type": "markdown",
   "source": [
    "## Get individual customer data to answer questions that lead to actionable advice and business results"
   ],
   "metadata": {}
  },
  {
   "cell_type": "markdown",
   "source": [
    "Questions:\r\n",
    "-\tSales are declining, why?\r\n",
    "-\tWho (demography, income, personal attributes) buys our products? Who buys competitor products?\r\n",
    "-\tIf we do A (promotion, introduce new product, change …), will customers/competitors/… do B (e.g., buy product)?\r\n",
    "-\tHow is use changing over time?\r\n",
    "-\tWhat is popular right now? Who likes it? What will be popular?\r\n",
    "-\t…\r\n"
   ],
   "metadata": {}
  },
  {
   "cell_type": "markdown",
   "source": [
    "Get data:\r\n",
    "-\tFocus groups: 10 individuals, 1 moderator, probing questions for 1 hour.\r\n",
    "-\tInternet communities: 100 to 1000 to more individuals for months or years.\r\n",
    "-\tCustomer surveys (paper and mobile), give incentive (e.g., money) for them to do surveys.\r\n",
    "    -\tItemized-category\r\n",
    "    -\tComparative\r\n",
    "    -\tRanks\r\n",
    "    -\tPaired comparison\r\n",
    "    -\tLikert\r\n",
    "    -\tContinuous (e.g., move a slider between do not like and strongly like)\r\n",
    "    -\tNet promoter score (great tool) [is it related to profitability, yes: low NPS (dissatisfied customers) has big negative impact on profitability, middle NPS (satisfied) has no real impact (does not matter if customer is satisfied or a bit more or less satisfied), and high NPS (customers are delighted – better than all or most competitors) has high positive impact on profitability].\r\n",
    "-\tRegular customer feedback.\r\n",
    "-\tRetailer scanner data (article sold in a store (geography) on a given day (time), quantity, price, category; perhaps to whom, …).\r\n",
    "-\tSocial media analytics (how and what do customers talk about you on social media? To answer: customer engagement after ad campaign, sentiment, brand mentions as compared to competitors).\r\n",
    "-\tWeb data: Google Analytics (own websites), Google AdSense (many other websites).\r\n",
    "![media](images/media.png \"media\")<br>\r\n",
    "-\tMobile data, same as web data but with location (where are they, with whom are they with, what is around?\r\n",
    "-\tDo A/B testing.\r\n",
    "\r\n"
   ],
   "metadata": {}
  },
  {
   "cell_type": "markdown",
   "source": [
    "How to create customer surveys?\r\n",
    "1.\tWhat are the questions we need answers to? (E.g., would group A buy if our product could do B? In which market can we achieve the highest growth? ...).\r\n",
    "2.\tThink about questions to answer these questions.\r\n",
    "3.\tGet customer sample size that is representative for entire population (e.g., sample only contains men or people with low incomes, but the population for product also includes women and higher earners, then it is not a representative sample.).\r\n"
   ],
   "metadata": {}
  },
  {
   "cell_type": "markdown",
   "source": [
    "### Hold in mind"
   ],
   "metadata": {}
  },
  {
   "cell_type": "markdown",
   "source": [
    "Regression (predict future: next 1 to 5 periods):\r\n",
    "-\tsales_quantity ~ price\t\t-> use these data points to calculate revenue, and max profit.<br>\r\n",
    "-\tsales_quantity ~ price + promotions <br>\r\n",
    "-\tcustomer_worth ~ recency + frequency + monetary_value_per_transaction (recency trumps frequency) <br>\r\n",
    "-\tbehavior_in_future ~ behavior_in_past <br>\r\n",
    "-\tcustomer_churn ~ … <br>\r\n"
   ],
   "metadata": {}
  },
  {
   "cell_type": "markdown",
   "source": [
    "Probability model (predict future: ‘forever’); e.g., use different distributions and parameter values for different groups:\r\n",
    "-\tBuy till you die model.\r\n"
   ],
   "metadata": {}
  },
  {
   "cell_type": "markdown",
   "source": [
    "Profit = sum_over_all_customers(revenue_customer_i – cost_customer_i):\r\n",
    "-\tMake profit one customer at a time: get more high profit customers and fire negative profit customers\r\n"
   ],
   "metadata": {}
  }
 ],
 "metadata": {
  "orig_nbformat": 4,
  "language_info": {
   "name": "python"
  }
 },
 "nbformat": 4,
 "nbformat_minor": 2
}