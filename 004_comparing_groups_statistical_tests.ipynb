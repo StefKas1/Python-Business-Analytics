{
  "nbformat": 4,
  "nbformat_minor": 2,
  "metadata": {
    "colab": {
      "name": "Chapter 6 - Comparing Groups: Statistical Tests",
      "provenance": [],
      "collapsed_sections": []
    },
    "kernelspec": {
      "name": "python3",
      "display_name": "Python 3.9.6 64-bit (windows store)"
    },
    "language_info": {
      "name": "python",
      "version": "3.9.6",
      "mimetype": "text/x-python",
      "codemirror_mode": {
        "name": "ipython",
        "version": 3
      },
      "pygments_lexer": "ipython3",
      "nbconvert_exporter": "python",
      "file_extension": ".py"
    },
    "interpreter": {
      "hash": "6db5d46a41b79ad12981e1da1e0664220e3a15f1d25f3c0e5cad55223dd7e911"
    }
  },
  "cells": [
    {
      "cell_type": "markdown",
      "source": [
        "## Statistical tests to determine whether differences between two or more groups are real or might be due to minor variation (\"noise\") in the data"
      ],
      "metadata": {}
    },
    {
      "cell_type": "code",
      "execution_count": 1,
      "source": [
        "import pandas as pd\r\n",
        "import numpy as np\r\n",
        "from scipy import stats\r\n",
        "\r\n",
        "seg_df = pd.read_csv('data/003_segments.csv')\r\n",
        "seg_df.head()"
      ],
      "outputs": [
        {
          "output_type": "execute_result",
          "data": {
            "text/plain": [
              "     Segment        age  gender         income  kids  own_home  subscribe\n",
              "0  travelers  60.794945    male   57014.537526     0      True      False\n",
              "1  travelers  61.764535  female   43796.941252     0     False      False\n",
              "2  travelers  47.493356    male   51095.344683     0      True      False\n",
              "3  travelers  60.963694    male   56457.722237     0      True       True\n",
              "4  travelers  60.594199  female  103020.070798     0      True      False"
            ],
            "text/html": [
              "<div>\n",
              "<style scoped>\n",
              "    .dataframe tbody tr th:only-of-type {\n",
              "        vertical-align: middle;\n",
              "    }\n",
              "\n",
              "    .dataframe tbody tr th {\n",
              "        vertical-align: top;\n",
              "    }\n",
              "\n",
              "    .dataframe thead th {\n",
              "        text-align: right;\n",
              "    }\n",
              "</style>\n",
              "<table border=\"1\" class=\"dataframe\">\n",
              "  <thead>\n",
              "    <tr style=\"text-align: right;\">\n",
              "      <th></th>\n",
              "      <th>Segment</th>\n",
              "      <th>age</th>\n",
              "      <th>gender</th>\n",
              "      <th>income</th>\n",
              "      <th>kids</th>\n",
              "      <th>own_home</th>\n",
              "      <th>subscribe</th>\n",
              "    </tr>\n",
              "  </thead>\n",
              "  <tbody>\n",
              "    <tr>\n",
              "      <th>0</th>\n",
              "      <td>travelers</td>\n",
              "      <td>60.794945</td>\n",
              "      <td>male</td>\n",
              "      <td>57014.537526</td>\n",
              "      <td>0</td>\n",
              "      <td>True</td>\n",
              "      <td>False</td>\n",
              "    </tr>\n",
              "    <tr>\n",
              "      <th>1</th>\n",
              "      <td>travelers</td>\n",
              "      <td>61.764535</td>\n",
              "      <td>female</td>\n",
              "      <td>43796.941252</td>\n",
              "      <td>0</td>\n",
              "      <td>False</td>\n",
              "      <td>False</td>\n",
              "    </tr>\n",
              "    <tr>\n",
              "      <th>2</th>\n",
              "      <td>travelers</td>\n",
              "      <td>47.493356</td>\n",
              "      <td>male</td>\n",
              "      <td>51095.344683</td>\n",
              "      <td>0</td>\n",
              "      <td>True</td>\n",
              "      <td>False</td>\n",
              "    </tr>\n",
              "    <tr>\n",
              "      <th>3</th>\n",
              "      <td>travelers</td>\n",
              "      <td>60.963694</td>\n",
              "      <td>male</td>\n",
              "      <td>56457.722237</td>\n",
              "      <td>0</td>\n",
              "      <td>True</td>\n",
              "      <td>True</td>\n",
              "    </tr>\n",
              "    <tr>\n",
              "      <th>4</th>\n",
              "      <td>travelers</td>\n",
              "      <td>60.594199</td>\n",
              "      <td>female</td>\n",
              "      <td>103020.070798</td>\n",
              "      <td>0</td>\n",
              "      <td>True</td>\n",
              "      <td>False</td>\n",
              "    </tr>\n",
              "  </tbody>\n",
              "</table>\n",
              "</div>"
            ]
          },
          "metadata": {},
          "execution_count": 1
        }
      ],
      "metadata": {
        "id": "GIUnwdWcyqdx",
        "colab_type": "code",
        "colab": {}
      }
    },
    {
      "cell_type": "markdown",
      "source": [
        "## Testing Group Frequencies: chisq.test()."
      ],
      "metadata": {
        "id": "gZESoDahBq7o",
        "colab_type": "text"
      }
    },
    {
      "cell_type": "code",
      "execution_count": 2,
      "source": [
        "seg_df.Segment.value_counts()"
      ],
      "outputs": [
        {
          "output_type": "execute_result",
          "data": {
            "text/plain": [
              "suburb_mix    100\n",
              "travelers      80\n",
              "moving_up      70\n",
              "urban_hip      50\n",
              "Name: Segment, dtype: int64"
            ]
          },
          "metadata": {},
          "execution_count": 2
        }
      ],
      "metadata": {
        "id": "3cd-r8pI8sPq",
        "colab_type": "code",
        "colab": {}
      }
    },
    {
      "cell_type": "code",
      "execution_count": 3,
      "source": [
        "stats.chisquare(seg_df.Segment.value_counts())\r\n",
        "# p-value < 0.05, can reject null hypothesis (H0: segments are of same size) with 95% confidence."
      ],
      "outputs": [
        {
          "output_type": "execute_result",
          "data": {
            "text/plain": [
              "Power_divergenceResult(statistic=17.333333333333336, pvalue=0.0006034948344733141)"
            ]
          },
          "metadata": {},
          "execution_count": 3
        }
      ],
      "metadata": {
        "id": "0Y5FGW5B7KC9",
        "colab_type": "code",
        "colab": {}
      }
    },
    {
      "cell_type": "code",
      "execution_count": 4,
      "source": [
        "# Is subscription status independent from home ownership (is there a relationship, e.g., own_home True\r\n",
        "# has subscription - and own_home False has no subscription).\r\n",
        "# This could be difficult to answer with just crosstable.\r\n",
        "pd.crosstab(seg_df.subscribe, columns=seg_df.own_home)"
      ],
      "outputs": [
        {
          "output_type": "execute_result",
          "data": {
            "text/plain": [
              "own_home   False  True\n",
              "subscribe             \n",
              "False        143   122\n",
              "True          24    11"
            ],
            "text/html": [
              "<div>\n",
              "<style scoped>\n",
              "    .dataframe tbody tr th:only-of-type {\n",
              "        vertical-align: middle;\n",
              "    }\n",
              "\n",
              "    .dataframe tbody tr th {\n",
              "        vertical-align: top;\n",
              "    }\n",
              "\n",
              "    .dataframe thead th {\n",
              "        text-align: right;\n",
              "    }\n",
              "</style>\n",
              "<table border=\"1\" class=\"dataframe\">\n",
              "  <thead>\n",
              "    <tr style=\"text-align: right;\">\n",
              "      <th>own_home</th>\n",
              "      <th>False</th>\n",
              "      <th>True</th>\n",
              "    </tr>\n",
              "    <tr>\n",
              "      <th>subscribe</th>\n",
              "      <th></th>\n",
              "      <th></th>\n",
              "    </tr>\n",
              "  </thead>\n",
              "  <tbody>\n",
              "    <tr>\n",
              "      <th>False</th>\n",
              "      <td>143</td>\n",
              "      <td>122</td>\n",
              "    </tr>\n",
              "    <tr>\n",
              "      <th>True</th>\n",
              "      <td>24</td>\n",
              "      <td>11</td>\n",
              "    </tr>\n",
              "  </tbody>\n",
              "</table>\n",
              "</div>"
            ]
          },
          "metadata": {},
          "execution_count": 4
        }
      ],
      "metadata": {
        "id": "m4gMVcCE8mHU",
        "colab_type": "code",
        "colab": {}
      }
    },
    {
      "cell_type": "code",
      "execution_count": 5,
      "source": [
        "# But easier to answer with chi2_contingency.\r\n",
        "# H0: subscribe and own_home are unrelated/independent of each other (no evidence that subscribe and own_home are related).\r\n",
        "# p-value (0.1459) > 0.05, cannot reject null hypothesis.\r\n",
        "stats.chi2_contingency(pd.crosstab(seg_df.subscribe, columns=seg_df.own_home))"
      ],
      "outputs": [
        {
          "output_type": "execute_result",
          "data": {
            "text/plain": [
              "(2.114527405072716,\n",
              " 0.14590708913184341,\n",
              " 1,\n",
              " array([[147.51666667, 117.48333333],\n",
              "        [ 19.48333333,  15.51666667]]))"
            ]
          },
          "metadata": {},
          "execution_count": 5
        }
      ],
      "metadata": {
        "id": "HL730q5X_-Jp",
        "colab_type": "code",
        "colab": {}
      }
    },
    {
      "cell_type": "code",
      "execution_count": 6,
      "source": [
        "# Same but with labels.\r\n",
        "sub_by_home = pd.crosstab(seg_df.subscribe, columns=seg_df.own_home)\r\n",
        "print('chisq_stat: {0}\\np_value: {1}\\ndof: {2}\\nexpected_values: {3}'\r\n",
        "      .format(*stats.chi2_contingency(sub_by_home)))"
      ],
      "outputs": [
        {
          "output_type": "stream",
          "name": "stdout",
          "text": [
            "chisq_stat: 2.114527405072716\n",
            "p_value: 0.14590708913184341\n",
            "dof: 1\n",
            "expected_values: [[147.51666667 117.48333333]\n",
            " [ 19.48333333  15.51666667]]\n"
          ]
        }
      ],
      "metadata": {
        "id": "SpEb3FlO9EIL",
        "colab_type": "code",
        "colab": {}
      }
    },
    {
      "cell_type": "markdown",
      "source": [
        "## Testing Group Means: t.test()"
      ],
      "metadata": {
        "id": "RT7mpJNZgYn-",
        "colab_type": "text"
      }
    },
    {
      "cell_type": "code",
      "execution_count": 8,
      "source": [
        "# A t-test compares the mean of one sample against the mean of another sample.\r\n",
        "# Many statistical tests assume that the data follow a normal distribution or some other smooth \r\n",
        "# continuous distribution; skewness or outliers violate those assumptions and might lead to an\r\n",
        "# inaccurate test. \r\n",
        "# Below, not optimal: \r\n",
        "# - Distributions are skewed, not perfect normal distributions.\r\n",
        "# - Income True has outliers.\r\n",
        "# - QQ plot: One tail of the income distribution bows away from the line that represents an exact \r\n",
        "# normal distribution, income distribution is skewed.\r\n",
        "\r\n",
        "from scipy import stats\r\n",
        "import matplotlib.pyplot as plt\r\n",
        "\r\n",
        "income_own_home = seg_df.income[seg_df.own_home]\r\n",
        "income_dont_own_home = seg_df.income[~seg_df.own_home]\r\n",
        "\r\n",
        "seg_df.income.hist() # Not shown.\r\n",
        "income_own_home.hist(alpha=0.5) # Not shown.\r\n",
        "income_dont_own_home.hist(alpha=0.5) # Not shown.\r\n",
        "seg_df.boxplot(column='income', by='own_home') # Not shown.\r\n",
        "plt.figure()\r\n",
        "_ = stats.probplot(seg_df.income, dist='norm', plot=plt) # Not shown."
      ],
      "outputs": [
        {
          "output_type": "display_data",
          "data": {
            "text/plain": [
              "<Figure size 432x288 with 1 Axes>"
            ],
            "image/svg+xml": "<?xml version=\"1.0\" encoding=\"utf-8\" standalone=\"no\"?>\r\n<!DOCTYPE svg PUBLIC \"-//W3C//DTD SVG 1.1//EN\"\r\n  \"http://www.w3.org/Graphics/SVG/1.1/DTD/svg11.dtd\">\r\n<svg height=\"250.031333pt\" version=\"1.1\" viewBox=\"0 0 368.925 250.031333\" width=\"368.925pt\" xmlns=\"http://www.w3.org/2000/svg\" xmlns:xlink=\"http://www.w3.org/1999/xlink\">\r\n <metadata>\r\n  <rdf:RDF xmlns:cc=\"http://creativecommons.org/ns#\" xmlns:dc=\"http://purl.org/dc/elements/1.1/\" xmlns:rdf=\"http://www.w3.org/1999/02/22-rdf-syntax-ns#\">\r\n   <cc:Work>\r\n    <dc:type rdf:resource=\"http://purl.org/dc/dcmitype/StillImage\"/>\r\n    <dc:date>2021-08-30T09:47:38.937980</dc:date>\r\n    <dc:format>image/svg+xml</dc:format>\r\n    <dc:creator>\r\n     <cc:Agent>\r\n      <dc:title>Matplotlib v3.4.2, https://matplotlib.org/</dc:title>\r\n     </cc:Agent>\r\n    </dc:creator>\r\n   </cc:Work>\r\n  </rdf:RDF>\r\n </metadata>\r\n <defs>\r\n  <style type=\"text/css\">*{stroke-linecap:butt;stroke-linejoin:round;}</style>\r\n </defs>\r\n <g id=\"figure_1\">\r\n  <g id=\"patch_1\">\r\n   <path d=\"M -0 250.031333 \r\nL 368.925 250.031333 \r\nL 368.925 0 \r\nL -0 0 \r\nz\r\n\" style=\"fill:none;\"/>\r\n  </g>\r\n  <g id=\"axes_1\">\r\n   <g id=\"patch_2\">\r\n    <path d=\"M 26.925 226.153208 \r\nL 361.725 226.153208 \r\nL 361.725 8.713208 \r\nL 26.925 8.713208 \r\nz\r\n\" style=\"fill:#ffffff;\"/>\r\n   </g>\r\n   <g id=\"patch_3\">\r\n    <path clip-path=\"url(#pb62bac7472)\" d=\"M 42.143182 226.153208 \r\nL 72.579545 226.153208 \r\nL 72.579545 145.470462 \r\nL 42.143182 145.470462 \r\nz\r\n\" style=\"fill:#1f77b4;\"/>\r\n   </g>\r\n   <g id=\"patch_4\">\r\n    <path clip-path=\"url(#pb62bac7472)\" d=\"M 72.579545 226.153208 \r\nL 103.015909 226.153208 \r\nL 103.015909 164.296436 \r\nL 72.579545 164.296436 \r\nz\r\n\" style=\"fill:#1f77b4;\"/>\r\n   </g>\r\n   <g id=\"patch_5\">\r\n    <path clip-path=\"url(#pb62bac7472)\" d=\"M 103.015909 226.153208 \r\nL 133.452273 226.153208 \r\nL 133.452273 177.74356 \r\nL 103.015909 177.74356 \r\nz\r\n\" style=\"fill:#1f77b4;\"/>\r\n   </g>\r\n   <g id=\"patch_6\">\r\n    <path clip-path=\"url(#pb62bac7472)\" d=\"M 133.452273 226.153208 \r\nL 163.888636 226.153208 \r\nL 163.888636 45.961742 \r\nL 133.452273 45.961742 \r\nz\r\n\" style=\"fill:#1f77b4;\"/>\r\n   </g>\r\n   <g id=\"patch_7\">\r\n    <path clip-path=\"url(#pb62bac7472)\" d=\"M 163.888636 226.153208 \r\nL 194.325 226.153208 \r\nL 194.325 19.067493 \r\nL 163.888636 19.067493 \r\nz\r\n\" style=\"fill:#1f77b4;\"/>\r\n   </g>\r\n   <g id=\"patch_8\">\r\n    <path clip-path=\"url(#pb62bac7472)\" d=\"M 194.325 226.153208 \r\nL 224.761364 226.153208 \r\nL 224.761364 118.576213 \r\nL 194.325 118.576213 \r\nz\r\n\" style=\"fill:#1f77b4;\"/>\r\n   </g>\r\n   <g id=\"patch_9\">\r\n    <path clip-path=\"url(#pb62bac7472)\" d=\"M 224.761364 226.153208 \r\nL 255.197727 226.153208 \r\nL 255.197727 150.849312 \r\nL 224.761364 150.849312 \r\nz\r\n\" style=\"fill:#1f77b4;\"/>\r\n   </g>\r\n   <g id=\"patch_10\">\r\n    <path clip-path=\"url(#pb62bac7472)\" d=\"M 255.197727 226.153208 \r\nL 285.634091 226.153208 \r\nL 285.634091 199.258959 \r\nL 255.197727 199.258959 \r\nz\r\n\" style=\"fill:#1f77b4;\"/>\r\n   </g>\r\n   <g id=\"patch_11\">\r\n    <path clip-path=\"url(#pb62bac7472)\" d=\"M 285.634091 226.153208 \r\nL 316.070455 226.153208 \r\nL 316.070455 218.084933 \r\nL 285.634091 218.084933 \r\nz\r\n\" style=\"fill:#1f77b4;\"/>\r\n   </g>\r\n   <g id=\"patch_12\">\r\n    <path clip-path=\"url(#pb62bac7472)\" d=\"M 316.070455 226.153208 \r\nL 346.506818 226.153208 \r\nL 346.506818 215.395508 \r\nL 316.070455 215.395508 \r\nz\r\n\" style=\"fill:#1f77b4;\"/>\r\n   </g>\r\n   <g id=\"patch_13\">\r\n    <path clip-path=\"url(#pb62bac7472)\" d=\"M 49.692878 226.153208 \r\nL 79.374272 226.153208 \r\nL 79.374272 215.395508 \r\nL 49.692878 215.395508 \r\nz\r\n\" style=\"fill:#ff7f0e;opacity:0.5;\"/>\r\n   </g>\r\n   <g id=\"patch_14\">\r\n    <path clip-path=\"url(#pb62bac7472)\" d=\"M 79.374272 226.153208 \r\nL 109.055666 226.153208 \r\nL 109.055666 212.706083 \r\nL 79.374272 212.706083 \r\nz\r\n\" style=\"fill:#ff7f0e;opacity:0.5;\"/>\r\n   </g>\r\n   <g id=\"patch_15\">\r\n    <path clip-path=\"url(#pb62bac7472)\" d=\"M 109.055666 226.153208 \r\nL 138.73706 226.153208 \r\nL 138.73706 199.258959 \r\nL 109.055666 199.258959 \r\nz\r\n\" style=\"fill:#ff7f0e;opacity:0.5;\"/>\r\n   </g>\r\n   <g id=\"patch_16\">\r\n    <path clip-path=\"url(#pb62bac7472)\" d=\"M 138.73706 226.153208 \r\nL 168.418454 226.153208 \r\nL 168.418454 110.507939 \r\nL 138.73706 110.507939 \r\nz\r\n\" style=\"fill:#ff7f0e;opacity:0.5;\"/>\r\n   </g>\r\n   <g id=\"patch_17\">\r\n    <path clip-path=\"url(#pb62bac7472)\" d=\"M 168.418454 226.153208 \r\nL 198.099848 226.153208 \r\nL 198.099848 140.091612 \r\nL 168.418454 140.091612 \r\nz\r\n\" style=\"fill:#ff7f0e;opacity:0.5;\"/>\r\n   </g>\r\n   <g id=\"patch_18\">\r\n    <path clip-path=\"url(#pb62bac7472)\" d=\"M 198.099848 226.153208 \r\nL 227.781242 226.153208 \r\nL 227.781242 185.811835 \r\nL 198.099848 185.811835 \r\nz\r\n\" style=\"fill:#ff7f0e;opacity:0.5;\"/>\r\n   </g>\r\n   <g id=\"patch_19\">\r\n    <path clip-path=\"url(#pb62bac7472)\" d=\"M 227.781242 226.153208 \r\nL 257.462636 226.153208 \r\nL 257.462636 188.50126 \r\nL 227.781242 188.50126 \r\nz\r\n\" style=\"fill:#ff7f0e;opacity:0.5;\"/>\r\n   </g>\r\n   <g id=\"patch_20\">\r\n    <path clip-path=\"url(#pb62bac7472)\" d=\"M 257.462636 226.153208 \r\nL 287.14403 226.153208 \r\nL 287.14403 210.016658 \r\nL 257.462636 210.016658 \r\nz\r\n\" style=\"fill:#ff7f0e;opacity:0.5;\"/>\r\n   </g>\r\n   <g id=\"patch_21\">\r\n    <path clip-path=\"url(#pb62bac7472)\" d=\"M 287.14403 226.153208 \r\nL 316.825424 226.153208 \r\nL 316.825424 223.463783 \r\nL 287.14403 223.463783 \r\nz\r\n\" style=\"fill:#ff7f0e;opacity:0.5;\"/>\r\n   </g>\r\n   <g id=\"patch_22\">\r\n    <path clip-path=\"url(#pb62bac7472)\" d=\"M 316.825424 226.153208 \r\nL 346.506818 226.153208 \r\nL 346.506818 218.084933 \r\nL 316.825424 218.084933 \r\nz\r\n\" style=\"fill:#ff7f0e;opacity:0.5;\"/>\r\n   </g>\r\n   <g id=\"patch_23\">\r\n    <path clip-path=\"url(#pb62bac7472)\" d=\"M 42.143182 226.153208 \r\nL 69.724241 226.153208 \r\nL 69.724241 161.607011 \r\nL 42.143182 161.607011 \r\nz\r\n\" style=\"fill:#2ca02c;opacity:0.5;\"/>\r\n   </g>\r\n   <g id=\"patch_24\">\r\n    <path clip-path=\"url(#pb62bac7472)\" d=\"M 69.724241 226.153208 \r\nL 97.305301 226.153208 \r\nL 97.305301 175.054135 \r\nL 69.724241 175.054135 \r\nz\r\n\" style=\"fill:#2ca02c;opacity:0.5;\"/>\r\n   </g>\r\n   <g id=\"patch_25\">\r\n    <path clip-path=\"url(#pb62bac7472)\" d=\"M 97.305301 226.153208 \r\nL 124.88636 226.153208 \r\nL 124.88636 193.880109 \r\nL 97.305301 193.880109 \r\nz\r\n\" style=\"fill:#2ca02c;opacity:0.5;\"/>\r\n   </g>\r\n   <g id=\"patch_26\">\r\n    <path clip-path=\"url(#pb62bac7472)\" d=\"M 124.88636 226.153208 \r\nL 152.46742 226.153208 \r\nL 152.46742 185.811835 \r\nL 124.88636 185.811835 \r\nz\r\n\" style=\"fill:#2ca02c;opacity:0.5;\"/>\r\n   </g>\r\n   <g id=\"patch_27\">\r\n    <path clip-path=\"url(#pb62bac7472)\" d=\"M 152.46742 226.153208 \r\nL 180.048479 226.153208 \r\nL 180.048479 129.333913 \r\nL 152.46742 129.333913 \r\nz\r\n\" style=\"fill:#2ca02c;opacity:0.5;\"/>\r\n   </g>\r\n   <g id=\"patch_28\">\r\n    <path clip-path=\"url(#pb62bac7472)\" d=\"M 180.048479 226.153208 \r\nL 207.629539 226.153208 \r\nL 207.629539 145.470462 \r\nL 180.048479 145.470462 \r\nz\r\n\" style=\"fill:#2ca02c;opacity:0.5;\"/>\r\n   </g>\r\n   <g id=\"patch_29\">\r\n    <path clip-path=\"url(#pb62bac7472)\" d=\"M 207.629539 226.153208 \r\nL 235.210598 226.153208 \r\nL 235.210598 180.432985 \r\nL 207.629539 180.432985 \r\nz\r\n\" style=\"fill:#2ca02c;opacity:0.5;\"/>\r\n   </g>\r\n   <g id=\"patch_30\">\r\n    <path clip-path=\"url(#pb62bac7472)\" d=\"M 235.210598 226.153208 \r\nL 262.791657 226.153208 \r\nL 262.791657 201.948384 \r\nL 235.210598 201.948384 \r\nz\r\n\" style=\"fill:#2ca02c;opacity:0.5;\"/>\r\n   </g>\r\n   <g id=\"patch_31\">\r\n    <path clip-path=\"url(#pb62bac7472)\" d=\"M 262.791657 226.153208 \r\nL 290.372717 226.153208 \r\nL 290.372717 220.774358 \r\nL 262.791657 220.774358 \r\nz\r\n\" style=\"fill:#2ca02c;opacity:0.5;\"/>\r\n   </g>\r\n   <g id=\"patch_32\">\r\n    <path clip-path=\"url(#pb62bac7472)\" d=\"M 290.372717 226.153208 \r\nL 317.953776 226.153208 \r\nL 317.953776 218.084933 \r\nL 290.372717 218.084933 \r\nz\r\n\" style=\"fill:#2ca02c;opacity:0.5;\"/>\r\n   </g>\r\n   <g id=\"matplotlib.axis_1\">\r\n    <g id=\"xtick_1\">\r\n     <g id=\"line2d_1\">\r\n      <path clip-path=\"url(#pb62bac7472)\" d=\"M 69.300969 226.153208 \r\nL 69.300969 8.713208 \r\n\" style=\"fill:none;stroke:#b0b0b0;stroke-linecap:square;stroke-width:0.8;\"/>\r\n     </g>\r\n     <g id=\"line2d_2\">\r\n      <defs>\r\n       <path d=\"M 0 0 \r\nL 0 3.5 \r\n\" id=\"m73b2492d01\" style=\"stroke:#000000;stroke-width:0.8;\"/>\r\n      </defs>\r\n      <g>\r\n       <use style=\"stroke:#000000;stroke-width:0.8;\" x=\"69.300969\" xlink:href=\"#m73b2492d01\" y=\"226.153208\"/>\r\n      </g>\r\n     </g>\r\n     <g id=\"text_1\">\r\n      <!-- 20000 -->\r\n      <g transform=\"translate(53.394719 240.751645)scale(0.1 -0.1)\">\r\n       <defs>\r\n        <path d=\"M 1228 531 \r\nL 3431 531 \r\nL 3431 0 \r\nL 469 0 \r\nL 469 531 \r\nQ 828 903 1448 1529 \r\nQ 2069 2156 2228 2338 \r\nQ 2531 2678 2651 2914 \r\nQ 2772 3150 2772 3378 \r\nQ 2772 3750 2511 3984 \r\nQ 2250 4219 1831 4219 \r\nQ 1534 4219 1204 4116 \r\nQ 875 4013 500 3803 \r\nL 500 4441 \r\nQ 881 4594 1212 4672 \r\nQ 1544 4750 1819 4750 \r\nQ 2544 4750 2975 4387 \r\nQ 3406 4025 3406 3419 \r\nQ 3406 3131 3298 2873 \r\nQ 3191 2616 2906 2266 \r\nQ 2828 2175 2409 1742 \r\nQ 1991 1309 1228 531 \r\nz\r\n\" id=\"DejaVuSans-32\" transform=\"scale(0.015625)\"/>\r\n        <path d=\"M 2034 4250 \r\nQ 1547 4250 1301 3770 \r\nQ 1056 3291 1056 2328 \r\nQ 1056 1369 1301 889 \r\nQ 1547 409 2034 409 \r\nQ 2525 409 2770 889 \r\nQ 3016 1369 3016 2328 \r\nQ 3016 3291 2770 3770 \r\nQ 2525 4250 2034 4250 \r\nz\r\nM 2034 4750 \r\nQ 2819 4750 3233 4129 \r\nQ 3647 3509 3647 2328 \r\nQ 3647 1150 3233 529 \r\nQ 2819 -91 2034 -91 \r\nQ 1250 -91 836 529 \r\nQ 422 1150 422 2328 \r\nQ 422 3509 836 4129 \r\nQ 1250 4750 2034 4750 \r\nz\r\n\" id=\"DejaVuSans-30\" transform=\"scale(0.015625)\"/>\r\n       </defs>\r\n       <use xlink:href=\"#DejaVuSans-32\"/>\r\n       <use x=\"63.623047\" xlink:href=\"#DejaVuSans-30\"/>\r\n       <use x=\"127.246094\" xlink:href=\"#DejaVuSans-30\"/>\r\n       <use x=\"190.869141\" xlink:href=\"#DejaVuSans-30\"/>\r\n       <use x=\"254.492188\" xlink:href=\"#DejaVuSans-30\"/>\r\n      </g>\r\n     </g>\r\n    </g>\r\n    <g id=\"xtick_2\">\r\n     <g id=\"line2d_3\">\r\n      <path clip-path=\"url(#pb62bac7472)\" d=\"M 131.71336 226.153208 \r\nL 131.71336 8.713208 \r\n\" style=\"fill:none;stroke:#b0b0b0;stroke-linecap:square;stroke-width:0.8;\"/>\r\n     </g>\r\n     <g id=\"line2d_4\">\r\n      <g>\r\n       <use style=\"stroke:#000000;stroke-width:0.8;\" x=\"131.71336\" xlink:href=\"#m73b2492d01\" y=\"226.153208\"/>\r\n      </g>\r\n     </g>\r\n     <g id=\"text_2\">\r\n      <!-- 40000 -->\r\n      <g transform=\"translate(115.80711 240.751645)scale(0.1 -0.1)\">\r\n       <defs>\r\n        <path d=\"M 2419 4116 \r\nL 825 1625 \r\nL 2419 1625 \r\nL 2419 4116 \r\nz\r\nM 2253 4666 \r\nL 3047 4666 \r\nL 3047 1625 \r\nL 3713 1625 \r\nL 3713 1100 \r\nL 3047 1100 \r\nL 3047 0 \r\nL 2419 0 \r\nL 2419 1100 \r\nL 313 1100 \r\nL 313 1709 \r\nL 2253 4666 \r\nz\r\n\" id=\"DejaVuSans-34\" transform=\"scale(0.015625)\"/>\r\n       </defs>\r\n       <use xlink:href=\"#DejaVuSans-34\"/>\r\n       <use x=\"63.623047\" xlink:href=\"#DejaVuSans-30\"/>\r\n       <use x=\"127.246094\" xlink:href=\"#DejaVuSans-30\"/>\r\n       <use x=\"190.869141\" xlink:href=\"#DejaVuSans-30\"/>\r\n       <use x=\"254.492188\" xlink:href=\"#DejaVuSans-30\"/>\r\n      </g>\r\n     </g>\r\n    </g>\r\n    <g id=\"xtick_3\">\r\n     <g id=\"line2d_5\">\r\n      <path clip-path=\"url(#pb62bac7472)\" d=\"M 194.125752 226.153208 \r\nL 194.125752 8.713208 \r\n\" style=\"fill:none;stroke:#b0b0b0;stroke-linecap:square;stroke-width:0.8;\"/>\r\n     </g>\r\n     <g id=\"line2d_6\">\r\n      <g>\r\n       <use style=\"stroke:#000000;stroke-width:0.8;\" x=\"194.125752\" xlink:href=\"#m73b2492d01\" y=\"226.153208\"/>\r\n      </g>\r\n     </g>\r\n     <g id=\"text_3\">\r\n      <!-- 60000 -->\r\n      <g transform=\"translate(178.219502 240.751645)scale(0.1 -0.1)\">\r\n       <defs>\r\n        <path d=\"M 2113 2584 \r\nQ 1688 2584 1439 2293 \r\nQ 1191 2003 1191 1497 \r\nQ 1191 994 1439 701 \r\nQ 1688 409 2113 409 \r\nQ 2538 409 2786 701 \r\nQ 3034 994 3034 1497 \r\nQ 3034 2003 2786 2293 \r\nQ 2538 2584 2113 2584 \r\nz\r\nM 3366 4563 \r\nL 3366 3988 \r\nQ 3128 4100 2886 4159 \r\nQ 2644 4219 2406 4219 \r\nQ 1781 4219 1451 3797 \r\nQ 1122 3375 1075 2522 \r\nQ 1259 2794 1537 2939 \r\nQ 1816 3084 2150 3084 \r\nQ 2853 3084 3261 2657 \r\nQ 3669 2231 3669 1497 \r\nQ 3669 778 3244 343 \r\nQ 2819 -91 2113 -91 \r\nQ 1303 -91 875 529 \r\nQ 447 1150 447 2328 \r\nQ 447 3434 972 4092 \r\nQ 1497 4750 2381 4750 \r\nQ 2619 4750 2861 4703 \r\nQ 3103 4656 3366 4563 \r\nz\r\n\" id=\"DejaVuSans-36\" transform=\"scale(0.015625)\"/>\r\n       </defs>\r\n       <use xlink:href=\"#DejaVuSans-36\"/>\r\n       <use x=\"63.623047\" xlink:href=\"#DejaVuSans-30\"/>\r\n       <use x=\"127.246094\" xlink:href=\"#DejaVuSans-30\"/>\r\n       <use x=\"190.869141\" xlink:href=\"#DejaVuSans-30\"/>\r\n       <use x=\"254.492188\" xlink:href=\"#DejaVuSans-30\"/>\r\n      </g>\r\n     </g>\r\n    </g>\r\n    <g id=\"xtick_4\">\r\n     <g id=\"line2d_7\">\r\n      <path clip-path=\"url(#pb62bac7472)\" d=\"M 256.538143 226.153208 \r\nL 256.538143 8.713208 \r\n\" style=\"fill:none;stroke:#b0b0b0;stroke-linecap:square;stroke-width:0.8;\"/>\r\n     </g>\r\n     <g id=\"line2d_8\">\r\n      <g>\r\n       <use style=\"stroke:#000000;stroke-width:0.8;\" x=\"256.538143\" xlink:href=\"#m73b2492d01\" y=\"226.153208\"/>\r\n      </g>\r\n     </g>\r\n     <g id=\"text_4\">\r\n      <!-- 80000 -->\r\n      <g transform=\"translate(240.631893 240.751645)scale(0.1 -0.1)\">\r\n       <defs>\r\n        <path d=\"M 2034 2216 \r\nQ 1584 2216 1326 1975 \r\nQ 1069 1734 1069 1313 \r\nQ 1069 891 1326 650 \r\nQ 1584 409 2034 409 \r\nQ 2484 409 2743 651 \r\nQ 3003 894 3003 1313 \r\nQ 3003 1734 2745 1975 \r\nQ 2488 2216 2034 2216 \r\nz\r\nM 1403 2484 \r\nQ 997 2584 770 2862 \r\nQ 544 3141 544 3541 \r\nQ 544 4100 942 4425 \r\nQ 1341 4750 2034 4750 \r\nQ 2731 4750 3128 4425 \r\nQ 3525 4100 3525 3541 \r\nQ 3525 3141 3298 2862 \r\nQ 3072 2584 2669 2484 \r\nQ 3125 2378 3379 2068 \r\nQ 3634 1759 3634 1313 \r\nQ 3634 634 3220 271 \r\nQ 2806 -91 2034 -91 \r\nQ 1263 -91 848 271 \r\nQ 434 634 434 1313 \r\nQ 434 1759 690 2068 \r\nQ 947 2378 1403 2484 \r\nz\r\nM 1172 3481 \r\nQ 1172 3119 1398 2916 \r\nQ 1625 2713 2034 2713 \r\nQ 2441 2713 2670 2916 \r\nQ 2900 3119 2900 3481 \r\nQ 2900 3844 2670 4047 \r\nQ 2441 4250 2034 4250 \r\nQ 1625 4250 1398 4047 \r\nQ 1172 3844 1172 3481 \r\nz\r\n\" id=\"DejaVuSans-38\" transform=\"scale(0.015625)\"/>\r\n       </defs>\r\n       <use xlink:href=\"#DejaVuSans-38\"/>\r\n       <use x=\"63.623047\" xlink:href=\"#DejaVuSans-30\"/>\r\n       <use x=\"127.246094\" xlink:href=\"#DejaVuSans-30\"/>\r\n       <use x=\"190.869141\" xlink:href=\"#DejaVuSans-30\"/>\r\n       <use x=\"254.492188\" xlink:href=\"#DejaVuSans-30\"/>\r\n      </g>\r\n     </g>\r\n    </g>\r\n    <g id=\"xtick_5\">\r\n     <g id=\"line2d_9\">\r\n      <path clip-path=\"url(#pb62bac7472)\" d=\"M 318.950534 226.153208 \r\nL 318.950534 8.713208 \r\n\" style=\"fill:none;stroke:#b0b0b0;stroke-linecap:square;stroke-width:0.8;\"/>\r\n     </g>\r\n     <g id=\"line2d_10\">\r\n      <g>\r\n       <use style=\"stroke:#000000;stroke-width:0.8;\" x=\"318.950534\" xlink:href=\"#m73b2492d01\" y=\"226.153208\"/>\r\n      </g>\r\n     </g>\r\n     <g id=\"text_5\">\r\n      <!-- 100000 -->\r\n      <g transform=\"translate(299.863034 240.751645)scale(0.1 -0.1)\">\r\n       <defs>\r\n        <path d=\"M 794 531 \r\nL 1825 531 \r\nL 1825 4091 \r\nL 703 3866 \r\nL 703 4441 \r\nL 1819 4666 \r\nL 2450 4666 \r\nL 2450 531 \r\nL 3481 531 \r\nL 3481 0 \r\nL 794 0 \r\nL 794 531 \r\nz\r\n\" id=\"DejaVuSans-31\" transform=\"scale(0.015625)\"/>\r\n       </defs>\r\n       <use xlink:href=\"#DejaVuSans-31\"/>\r\n       <use x=\"63.623047\" xlink:href=\"#DejaVuSans-30\"/>\r\n       <use x=\"127.246094\" xlink:href=\"#DejaVuSans-30\"/>\r\n       <use x=\"190.869141\" xlink:href=\"#DejaVuSans-30\"/>\r\n       <use x=\"254.492188\" xlink:href=\"#DejaVuSans-30\"/>\r\n       <use x=\"318.115234\" xlink:href=\"#DejaVuSans-30\"/>\r\n      </g>\r\n     </g>\r\n    </g>\r\n   </g>\r\n   <g id=\"matplotlib.axis_2\">\r\n    <g id=\"ytick_1\">\r\n     <g id=\"line2d_11\">\r\n      <path clip-path=\"url(#pb62bac7472)\" d=\"M 26.925 226.153208 \r\nL 361.725 226.153208 \r\n\" style=\"fill:none;stroke:#b0b0b0;stroke-linecap:square;stroke-width:0.8;\"/>\r\n     </g>\r\n     <g id=\"line2d_12\">\r\n      <defs>\r\n       <path d=\"M 0 0 \r\nL -3.5 0 \r\n\" id=\"mfdd4ae5e14\" style=\"stroke:#000000;stroke-width:0.8;\"/>\r\n      </defs>\r\n      <g>\r\n       <use style=\"stroke:#000000;stroke-width:0.8;\" x=\"26.925\" xlink:href=\"#mfdd4ae5e14\" y=\"226.153208\"/>\r\n      </g>\r\n     </g>\r\n     <g id=\"text_6\">\r\n      <!-- 0 -->\r\n      <g transform=\"translate(13.5625 229.952426)scale(0.1 -0.1)\">\r\n       <use xlink:href=\"#DejaVuSans-30\"/>\r\n      </g>\r\n     </g>\r\n    </g>\r\n    <g id=\"ytick_2\">\r\n     <g id=\"line2d_13\">\r\n      <path clip-path=\"url(#pb62bac7472)\" d=\"M 26.925 199.258959 \r\nL 361.725 199.258959 \r\n\" style=\"fill:none;stroke:#b0b0b0;stroke-linecap:square;stroke-width:0.8;\"/>\r\n     </g>\r\n     <g id=\"line2d_14\">\r\n      <g>\r\n       <use style=\"stroke:#000000;stroke-width:0.8;\" x=\"26.925\" xlink:href=\"#mfdd4ae5e14\" y=\"199.258959\"/>\r\n      </g>\r\n     </g>\r\n     <g id=\"text_7\">\r\n      <!-- 10 -->\r\n      <g transform=\"translate(7.2 203.058178)scale(0.1 -0.1)\">\r\n       <use xlink:href=\"#DejaVuSans-31\"/>\r\n       <use x=\"63.623047\" xlink:href=\"#DejaVuSans-30\"/>\r\n      </g>\r\n     </g>\r\n    </g>\r\n    <g id=\"ytick_3\">\r\n     <g id=\"line2d_15\">\r\n      <path clip-path=\"url(#pb62bac7472)\" d=\"M 26.925 172.36471 \r\nL 361.725 172.36471 \r\n\" style=\"fill:none;stroke:#b0b0b0;stroke-linecap:square;stroke-width:0.8;\"/>\r\n     </g>\r\n     <g id=\"line2d_16\">\r\n      <g>\r\n       <use style=\"stroke:#000000;stroke-width:0.8;\" x=\"26.925\" xlink:href=\"#mfdd4ae5e14\" y=\"172.36471\"/>\r\n      </g>\r\n     </g>\r\n     <g id=\"text_8\">\r\n      <!-- 20 -->\r\n      <g transform=\"translate(7.2 176.163929)scale(0.1 -0.1)\">\r\n       <use xlink:href=\"#DejaVuSans-32\"/>\r\n       <use x=\"63.623047\" xlink:href=\"#DejaVuSans-30\"/>\r\n      </g>\r\n     </g>\r\n    </g>\r\n    <g id=\"ytick_4\">\r\n     <g id=\"line2d_17\">\r\n      <path clip-path=\"url(#pb62bac7472)\" d=\"M 26.925 145.470462 \r\nL 361.725 145.470462 \r\n\" style=\"fill:none;stroke:#b0b0b0;stroke-linecap:square;stroke-width:0.8;\"/>\r\n     </g>\r\n     <g id=\"line2d_18\">\r\n      <g>\r\n       <use style=\"stroke:#000000;stroke-width:0.8;\" x=\"26.925\" xlink:href=\"#mfdd4ae5e14\" y=\"145.470462\"/>\r\n      </g>\r\n     </g>\r\n     <g id=\"text_9\">\r\n      <!-- 30 -->\r\n      <g transform=\"translate(7.2 149.269681)scale(0.1 -0.1)\">\r\n       <defs>\r\n        <path d=\"M 2597 2516 \r\nQ 3050 2419 3304 2112 \r\nQ 3559 1806 3559 1356 \r\nQ 3559 666 3084 287 \r\nQ 2609 -91 1734 -91 \r\nQ 1441 -91 1130 -33 \r\nQ 819 25 488 141 \r\nL 488 750 \r\nQ 750 597 1062 519 \r\nQ 1375 441 1716 441 \r\nQ 2309 441 2620 675 \r\nQ 2931 909 2931 1356 \r\nQ 2931 1769 2642 2001 \r\nQ 2353 2234 1838 2234 \r\nL 1294 2234 \r\nL 1294 2753 \r\nL 1863 2753 \r\nQ 2328 2753 2575 2939 \r\nQ 2822 3125 2822 3475 \r\nQ 2822 3834 2567 4026 \r\nQ 2313 4219 1838 4219 \r\nQ 1578 4219 1281 4162 \r\nQ 984 4106 628 3988 \r\nL 628 4550 \r\nQ 988 4650 1302 4700 \r\nQ 1616 4750 1894 4750 \r\nQ 2613 4750 3031 4423 \r\nQ 3450 4097 3450 3541 \r\nQ 3450 3153 3228 2886 \r\nQ 3006 2619 2597 2516 \r\nz\r\n\" id=\"DejaVuSans-33\" transform=\"scale(0.015625)\"/>\r\n       </defs>\r\n       <use xlink:href=\"#DejaVuSans-33\"/>\r\n       <use x=\"63.623047\" xlink:href=\"#DejaVuSans-30\"/>\r\n      </g>\r\n     </g>\r\n    </g>\r\n    <g id=\"ytick_5\">\r\n     <g id=\"line2d_19\">\r\n      <path clip-path=\"url(#pb62bac7472)\" d=\"M 26.925 118.576213 \r\nL 361.725 118.576213 \r\n\" style=\"fill:none;stroke:#b0b0b0;stroke-linecap:square;stroke-width:0.8;\"/>\r\n     </g>\r\n     <g id=\"line2d_20\">\r\n      <g>\r\n       <use style=\"stroke:#000000;stroke-width:0.8;\" x=\"26.925\" xlink:href=\"#mfdd4ae5e14\" y=\"118.576213\"/>\r\n      </g>\r\n     </g>\r\n     <g id=\"text_10\">\r\n      <!-- 40 -->\r\n      <g transform=\"translate(7.2 122.375432)scale(0.1 -0.1)\">\r\n       <use xlink:href=\"#DejaVuSans-34\"/>\r\n       <use x=\"63.623047\" xlink:href=\"#DejaVuSans-30\"/>\r\n      </g>\r\n     </g>\r\n    </g>\r\n    <g id=\"ytick_6\">\r\n     <g id=\"line2d_21\">\r\n      <path clip-path=\"url(#pb62bac7472)\" d=\"M 26.925 91.681965 \r\nL 361.725 91.681965 \r\n\" style=\"fill:none;stroke:#b0b0b0;stroke-linecap:square;stroke-width:0.8;\"/>\r\n     </g>\r\n     <g id=\"line2d_22\">\r\n      <g>\r\n       <use style=\"stroke:#000000;stroke-width:0.8;\" x=\"26.925\" xlink:href=\"#mfdd4ae5e14\" y=\"91.681965\"/>\r\n      </g>\r\n     </g>\r\n     <g id=\"text_11\">\r\n      <!-- 50 -->\r\n      <g transform=\"translate(7.2 95.481183)scale(0.1 -0.1)\">\r\n       <defs>\r\n        <path d=\"M 691 4666 \r\nL 3169 4666 \r\nL 3169 4134 \r\nL 1269 4134 \r\nL 1269 2991 \r\nQ 1406 3038 1543 3061 \r\nQ 1681 3084 1819 3084 \r\nQ 2600 3084 3056 2656 \r\nQ 3513 2228 3513 1497 \r\nQ 3513 744 3044 326 \r\nQ 2575 -91 1722 -91 \r\nQ 1428 -91 1123 -41 \r\nQ 819 9 494 109 \r\nL 494 744 \r\nQ 775 591 1075 516 \r\nQ 1375 441 1709 441 \r\nQ 2250 441 2565 725 \r\nQ 2881 1009 2881 1497 \r\nQ 2881 1984 2565 2268 \r\nQ 2250 2553 1709 2553 \r\nQ 1456 2553 1204 2497 \r\nQ 953 2441 691 2322 \r\nL 691 4666 \r\nz\r\n\" id=\"DejaVuSans-35\" transform=\"scale(0.015625)\"/>\r\n       </defs>\r\n       <use xlink:href=\"#DejaVuSans-35\"/>\r\n       <use x=\"63.623047\" xlink:href=\"#DejaVuSans-30\"/>\r\n      </g>\r\n     </g>\r\n    </g>\r\n    <g id=\"ytick_7\">\r\n     <g id=\"line2d_23\">\r\n      <path clip-path=\"url(#pb62bac7472)\" d=\"M 26.925 64.787716 \r\nL 361.725 64.787716 \r\n\" style=\"fill:none;stroke:#b0b0b0;stroke-linecap:square;stroke-width:0.8;\"/>\r\n     </g>\r\n     <g id=\"line2d_24\">\r\n      <g>\r\n       <use style=\"stroke:#000000;stroke-width:0.8;\" x=\"26.925\" xlink:href=\"#mfdd4ae5e14\" y=\"64.787716\"/>\r\n      </g>\r\n     </g>\r\n     <g id=\"text_12\">\r\n      <!-- 60 -->\r\n      <g transform=\"translate(7.2 68.586935)scale(0.1 -0.1)\">\r\n       <use xlink:href=\"#DejaVuSans-36\"/>\r\n       <use x=\"63.623047\" xlink:href=\"#DejaVuSans-30\"/>\r\n      </g>\r\n     </g>\r\n    </g>\r\n    <g id=\"ytick_8\">\r\n     <g id=\"line2d_25\">\r\n      <path clip-path=\"url(#pb62bac7472)\" d=\"M 26.925 37.893467 \r\nL 361.725 37.893467 \r\n\" style=\"fill:none;stroke:#b0b0b0;stroke-linecap:square;stroke-width:0.8;\"/>\r\n     </g>\r\n     <g id=\"line2d_26\">\r\n      <g>\r\n       <use style=\"stroke:#000000;stroke-width:0.8;\" x=\"26.925\" xlink:href=\"#mfdd4ae5e14\" y=\"37.893467\"/>\r\n      </g>\r\n     </g>\r\n     <g id=\"text_13\">\r\n      <!-- 70 -->\r\n      <g transform=\"translate(7.2 41.692686)scale(0.1 -0.1)\">\r\n       <defs>\r\n        <path d=\"M 525 4666 \r\nL 3525 4666 \r\nL 3525 4397 \r\nL 1831 0 \r\nL 1172 0 \r\nL 2766 4134 \r\nL 525 4134 \r\nL 525 4666 \r\nz\r\n\" id=\"DejaVuSans-37\" transform=\"scale(0.015625)\"/>\r\n       </defs>\r\n       <use xlink:href=\"#DejaVuSans-37\"/>\r\n       <use x=\"63.623047\" xlink:href=\"#DejaVuSans-30\"/>\r\n      </g>\r\n     </g>\r\n    </g>\r\n    <g id=\"ytick_9\">\r\n     <g id=\"line2d_27\">\r\n      <path clip-path=\"url(#pb62bac7472)\" d=\"M 26.925 10.999219 \r\nL 361.725 10.999219 \r\n\" style=\"fill:none;stroke:#b0b0b0;stroke-linecap:square;stroke-width:0.8;\"/>\r\n     </g>\r\n     <g id=\"line2d_28\">\r\n      <g>\r\n       <use style=\"stroke:#000000;stroke-width:0.8;\" x=\"26.925\" xlink:href=\"#mfdd4ae5e14\" y=\"10.999219\"/>\r\n      </g>\r\n     </g>\r\n     <g id=\"text_14\">\r\n      <!-- 80 -->\r\n      <g transform=\"translate(7.2 14.798437)scale(0.1 -0.1)\">\r\n       <use xlink:href=\"#DejaVuSans-38\"/>\r\n       <use x=\"63.623047\" xlink:href=\"#DejaVuSans-30\"/>\r\n      </g>\r\n     </g>\r\n    </g>\r\n   </g>\r\n   <g id=\"patch_33\">\r\n    <path d=\"M 26.925 226.153208 \r\nL 26.925 8.713208 \r\n\" style=\"fill:none;stroke:#000000;stroke-linecap:square;stroke-linejoin:miter;stroke-width:0.8;\"/>\r\n   </g>\r\n   <g id=\"patch_34\">\r\n    <path d=\"M 361.725 226.153208 \r\nL 361.725 8.713208 \r\n\" style=\"fill:none;stroke:#000000;stroke-linecap:square;stroke-linejoin:miter;stroke-width:0.8;\"/>\r\n   </g>\r\n   <g id=\"patch_35\">\r\n    <path d=\"M 26.925 226.153208 \r\nL 361.725 226.153208 \r\n\" style=\"fill:none;stroke:#000000;stroke-linecap:square;stroke-linejoin:miter;stroke-width:0.8;\"/>\r\n   </g>\r\n   <g id=\"patch_36\">\r\n    <path d=\"M 26.925 8.713208 \r\nL 361.725 8.713208 \r\n\" style=\"fill:none;stroke:#000000;stroke-linecap:square;stroke-linejoin:miter;stroke-width:0.8;\"/>\r\n   </g>\r\n  </g>\r\n </g>\r\n <defs>\r\n  <clipPath id=\"pb62bac7472\">\r\n   <rect height=\"217.44\" width=\"334.8\" x=\"26.925\" y=\"8.713208\"/>\r\n  </clipPath>\r\n </defs>\r\n</svg>\r\n",
            "image/png": "[encoded data removed]"
          },
          "metadata": {
            "needs_background": "light"
          }
        },
        {
          "output_type": "display_data",
          "data": {
            "text/plain": [
              "<Figure size 432x288 with 1 Axes>"
            ],
            "image/svg+xml": "<?xml version=\"1.0\" encoding=\"utf-8\" standalone=\"no\"?>\r\n<!DOCTYPE svg PUBLIC \"-//W3C//DTD SVG 1.1//EN\"\r\n  \"http://www.w3.org/Graphics/SVG/1.1/DTD/svg11.dtd\">\r\n<svg height=\"284.074375pt\" version=\"1.1\" viewBox=\"0 0 405.175 284.074375\" width=\"405.175pt\" xmlns=\"http://www.w3.org/2000/svg\" xmlns:xlink=\"http://www.w3.org/1999/xlink\">\r\n <metadata>\r\n  <rdf:RDF xmlns:cc=\"http://creativecommons.org/ns#\" xmlns:dc=\"http://purl.org/dc/elements/1.1/\" xmlns:rdf=\"http://www.w3.org/1999/02/22-rdf-syntax-ns#\">\r\n   <cc:Work>\r\n    <dc:type rdf:resource=\"http://purl.org/dc/dcmitype/StillImage\"/>\r\n    <dc:date>2021-08-30T09:47:39.597956</dc:date>\r\n    <dc:format>image/svg+xml</dc:format>\r\n    <dc:creator>\r\n     <cc:Agent>\r\n      <dc:title>Matplotlib v3.4.2, https://matplotlib.org/</dc:title>\r\n     </cc:Agent>\r\n    </dc:creator>\r\n   </cc:Work>\r\n  </rdf:RDF>\r\n </metadata>\r\n <defs>\r\n  <style type=\"text/css\">*{stroke-linecap:butt;stroke-linejoin:round;}</style>\r\n </defs>\r\n <g id=\"figure_1\">\r\n  <g id=\"patch_1\">\r\n   <path d=\"M 0 284.074375 \r\nL 405.175 284.074375 \r\nL 405.175 0 \r\nL 0 0 \r\nz\r\n\" style=\"fill:none;\"/>\r\n  </g>\r\n  <g id=\"axes_1\">\r\n   <g id=\"patch_2\">\r\n    <path d=\"M 52.375 246.24 \r\nL 397.975 246.24 \r\nL 397.975 30.24 \r\nL 52.375 30.24 \r\nz\r\n\" style=\"fill:#ffffff;\"/>\r\n   </g>\r\n   <g id=\"matplotlib.axis_1\">\r\n    <g id=\"xtick_1\">\r\n     <g id=\"line2d_1\">\r\n      <path clip-path=\"url(#p1c827b6ab4)\" d=\"M 138.775 246.24 \r\nL 138.775 30.24 \r\n\" style=\"fill:none;stroke:#b0b0b0;stroke-linecap:square;stroke-width:0.8;\"/>\r\n     </g>\r\n     <g id=\"line2d_2\">\r\n      <defs>\r\n       <path d=\"M 0 0 \r\nL 0 3.5 \r\n\" id=\"mee62771874\" style=\"stroke:#000000;stroke-width:0.8;\"/>\r\n      </defs>\r\n      <g>\r\n       <use style=\"stroke:#000000;stroke-width:0.8;\" x=\"138.775\" xlink:href=\"#mee62771874\" y=\"246.24\"/>\r\n      </g>\r\n     </g>\r\n     <g id=\"text_1\">\r\n      <!-- False -->\r\n      <g transform=\"translate(126.221094 260.838437)scale(0.1 -0.1)\">\r\n       <defs>\r\n        <path d=\"M 628 4666 \r\nL 3309 4666 \r\nL 3309 4134 \r\nL 1259 4134 \r\nL 1259 2759 \r\nL 3109 2759 \r\nL 3109 2228 \r\nL 1259 2228 \r\nL 1259 0 \r\nL 628 0 \r\nL 628 4666 \r\nz\r\n\" id=\"DejaVuSans-46\" transform=\"scale(0.015625)\"/>\r\n        <path d=\"M 2194 1759 \r\nQ 1497 1759 1228 1600 \r\nQ 959 1441 959 1056 \r\nQ 959 750 1161 570 \r\nQ 1363 391 1709 391 \r\nQ 2188 391 2477 730 \r\nQ 2766 1069 2766 1631 \r\nL 2766 1759 \r\nL 2194 1759 \r\nz\r\nM 3341 1997 \r\nL 3341 0 \r\nL 2766 0 \r\nL 2766 531 \r\nQ 2569 213 2275 61 \r\nQ 1981 -91 1556 -91 \r\nQ 1019 -91 701 211 \r\nQ 384 513 384 1019 \r\nQ 384 1609 779 1909 \r\nQ 1175 2209 1959 2209 \r\nL 2766 2209 \r\nL 2766 2266 \r\nQ 2766 2663 2505 2880 \r\nQ 2244 3097 1772 3097 \r\nQ 1472 3097 1187 3025 \r\nQ 903 2953 641 2809 \r\nL 641 3341 \r\nQ 956 3463 1253 3523 \r\nQ 1550 3584 1831 3584 \r\nQ 2591 3584 2966 3190 \r\nQ 3341 2797 3341 1997 \r\nz\r\n\" id=\"DejaVuSans-61\" transform=\"scale(0.015625)\"/>\r\n        <path d=\"M 603 4863 \r\nL 1178 4863 \r\nL 1178 0 \r\nL 603 0 \r\nL 603 4863 \r\nz\r\n\" id=\"DejaVuSans-6c\" transform=\"scale(0.015625)\"/>\r\n        <path d=\"M 2834 3397 \r\nL 2834 2853 \r\nQ 2591 2978 2328 3040 \r\nQ 2066 3103 1784 3103 \r\nQ 1356 3103 1142 2972 \r\nQ 928 2841 928 2578 \r\nQ 928 2378 1081 2264 \r\nQ 1234 2150 1697 2047 \r\nL 1894 2003 \r\nQ 2506 1872 2764 1633 \r\nQ 3022 1394 3022 966 \r\nQ 3022 478 2636 193 \r\nQ 2250 -91 1575 -91 \r\nQ 1294 -91 989 -36 \r\nQ 684 19 347 128 \r\nL 347 722 \r\nQ 666 556 975 473 \r\nQ 1284 391 1588 391 \r\nQ 1994 391 2212 530 \r\nQ 2431 669 2431 922 \r\nQ 2431 1156 2273 1281 \r\nQ 2116 1406 1581 1522 \r\nL 1381 1569 \r\nQ 847 1681 609 1914 \r\nQ 372 2147 372 2553 \r\nQ 372 3047 722 3315 \r\nQ 1072 3584 1716 3584 \r\nQ 2034 3584 2315 3537 \r\nQ 2597 3491 2834 3397 \r\nz\r\n\" id=\"DejaVuSans-73\" transform=\"scale(0.015625)\"/>\r\n        <path d=\"M 3597 1894 \r\nL 3597 1613 \r\nL 953 1613 \r\nQ 991 1019 1311 708 \r\nQ 1631 397 2203 397 \r\nQ 2534 397 2845 478 \r\nQ 3156 559 3463 722 \r\nL 3463 178 \r\nQ 3153 47 2828 -22 \r\nQ 2503 -91 2169 -91 \r\nQ 1331 -91 842 396 \r\nQ 353 884 353 1716 \r\nQ 353 2575 817 3079 \r\nQ 1281 3584 2069 3584 \r\nQ 2775 3584 3186 3129 \r\nQ 3597 2675 3597 1894 \r\nz\r\nM 3022 2063 \r\nQ 3016 2534 2758 2815 \r\nQ 2500 3097 2075 3097 \r\nQ 1594 3097 1305 2825 \r\nQ 1016 2553 972 2059 \r\nL 3022 2063 \r\nz\r\n\" id=\"DejaVuSans-65\" transform=\"scale(0.015625)\"/>\r\n       </defs>\r\n       <use xlink:href=\"#DejaVuSans-46\"/>\r\n       <use x=\"48.394531\" xlink:href=\"#DejaVuSans-61\"/>\r\n       <use x=\"109.673828\" xlink:href=\"#DejaVuSans-6c\"/>\r\n       <use x=\"137.457031\" xlink:href=\"#DejaVuSans-73\"/>\r\n       <use x=\"189.556641\" xlink:href=\"#DejaVuSans-65\"/>\r\n      </g>\r\n     </g>\r\n    </g>\r\n    <g id=\"xtick_2\">\r\n     <g id=\"line2d_3\">\r\n      <path clip-path=\"url(#p1c827b6ab4)\" d=\"M 311.575 246.24 \r\nL 311.575 30.24 \r\n\" style=\"fill:none;stroke:#b0b0b0;stroke-linecap:square;stroke-width:0.8;\"/>\r\n     </g>\r\n     <g id=\"line2d_4\">\r\n      <g>\r\n       <use style=\"stroke:#000000;stroke-width:0.8;\" x=\"311.575\" xlink:href=\"#mee62771874\" y=\"246.24\"/>\r\n      </g>\r\n     </g>\r\n     <g id=\"text_2\">\r\n      <!-- True -->\r\n      <g transform=\"translate(300.957813 260.838437)scale(0.1 -0.1)\">\r\n       <defs>\r\n        <path d=\"M -19 4666 \r\nL 3928 4666 \r\nL 3928 4134 \r\nL 2272 4134 \r\nL 2272 0 \r\nL 1638 0 \r\nL 1638 4134 \r\nL -19 4134 \r\nL -19 4666 \r\nz\r\n\" id=\"DejaVuSans-54\" transform=\"scale(0.015625)\"/>\r\n        <path d=\"M 2631 2963 \r\nQ 2534 3019 2420 3045 \r\nQ 2306 3072 2169 3072 \r\nQ 1681 3072 1420 2755 \r\nQ 1159 2438 1159 1844 \r\nL 1159 0 \r\nL 581 0 \r\nL 581 3500 \r\nL 1159 3500 \r\nL 1159 2956 \r\nQ 1341 3275 1631 3429 \r\nQ 1922 3584 2338 3584 \r\nQ 2397 3584 2469 3576 \r\nQ 2541 3569 2628 3553 \r\nL 2631 2963 \r\nz\r\n\" id=\"DejaVuSans-72\" transform=\"scale(0.015625)\"/>\r\n        <path d=\"M 544 1381 \r\nL 544 3500 \r\nL 1119 3500 \r\nL 1119 1403 \r\nQ 1119 906 1312 657 \r\nQ 1506 409 1894 409 \r\nQ 2359 409 2629 706 \r\nQ 2900 1003 2900 1516 \r\nL 2900 3500 \r\nL 3475 3500 \r\nL 3475 0 \r\nL 2900 0 \r\nL 2900 538 \r\nQ 2691 219 2414 64 \r\nQ 2138 -91 1772 -91 \r\nQ 1169 -91 856 284 \r\nQ 544 659 544 1381 \r\nz\r\nM 1991 3584 \r\nL 1991 3584 \r\nz\r\n\" id=\"DejaVuSans-75\" transform=\"scale(0.015625)\"/>\r\n       </defs>\r\n       <use xlink:href=\"#DejaVuSans-54\"/>\r\n       <use x=\"46.333984\" xlink:href=\"#DejaVuSans-72\"/>\r\n       <use x=\"87.447266\" xlink:href=\"#DejaVuSans-75\"/>\r\n       <use x=\"150.826172\" xlink:href=\"#DejaVuSans-65\"/>\r\n      </g>\r\n     </g>\r\n    </g>\r\n    <g id=\"text_3\">\r\n     <!-- own_home -->\r\n     <g transform=\"translate(198.182813 274.516562)scale(0.1 -0.1)\">\r\n      <defs>\r\n       <path d=\"M 1959 3097 \r\nQ 1497 3097 1228 2736 \r\nQ 959 2375 959 1747 \r\nQ 959 1119 1226 758 \r\nQ 1494 397 1959 397 \r\nQ 2419 397 2687 759 \r\nQ 2956 1122 2956 1747 \r\nQ 2956 2369 2687 2733 \r\nQ 2419 3097 1959 3097 \r\nz\r\nM 1959 3584 \r\nQ 2709 3584 3137 3096 \r\nQ 3566 2609 3566 1747 \r\nQ 3566 888 3137 398 \r\nQ 2709 -91 1959 -91 \r\nQ 1206 -91 779 398 \r\nQ 353 888 353 1747 \r\nQ 353 2609 779 3096 \r\nQ 1206 3584 1959 3584 \r\nz\r\n\" id=\"DejaVuSans-6f\" transform=\"scale(0.015625)\"/>\r\n       <path d=\"M 269 3500 \r\nL 844 3500 \r\nL 1563 769 \r\nL 2278 3500 \r\nL 2956 3500 \r\nL 3675 769 \r\nL 4391 3500 \r\nL 4966 3500 \r\nL 4050 0 \r\nL 3372 0 \r\nL 2619 2869 \r\nL 1863 0 \r\nL 1184 0 \r\nL 269 3500 \r\nz\r\n\" id=\"DejaVuSans-77\" transform=\"scale(0.015625)\"/>\r\n       <path d=\"M 3513 2113 \r\nL 3513 0 \r\nL 2938 0 \r\nL 2938 2094 \r\nQ 2938 2591 2744 2837 \r\nQ 2550 3084 2163 3084 \r\nQ 1697 3084 1428 2787 \r\nQ 1159 2491 1159 1978 \r\nL 1159 0 \r\nL 581 0 \r\nL 581 3500 \r\nL 1159 3500 \r\nL 1159 2956 \r\nQ 1366 3272 1645 3428 \r\nQ 1925 3584 2291 3584 \r\nQ 2894 3584 3203 3211 \r\nQ 3513 2838 3513 2113 \r\nz\r\n\" id=\"DejaVuSans-6e\" transform=\"scale(0.015625)\"/>\r\n       <path d=\"M 3263 -1063 \r\nL 3263 -1509 \r\nL -63 -1509 \r\nL -63 -1063 \r\nL 3263 -1063 \r\nz\r\n\" id=\"DejaVuSans-5f\" transform=\"scale(0.015625)\"/>\r\n       <path d=\"M 3513 2113 \r\nL 3513 0 \r\nL 2938 0 \r\nL 2938 2094 \r\nQ 2938 2591 2744 2837 \r\nQ 2550 3084 2163 3084 \r\nQ 1697 3084 1428 2787 \r\nQ 1159 2491 1159 1978 \r\nL 1159 0 \r\nL 581 0 \r\nL 581 4863 \r\nL 1159 4863 \r\nL 1159 2956 \r\nQ 1366 3272 1645 3428 \r\nQ 1925 3584 2291 3584 \r\nQ 2894 3584 3203 3211 \r\nQ 3513 2838 3513 2113 \r\nz\r\n\" id=\"DejaVuSans-68\" transform=\"scale(0.015625)\"/>\r\n       <path d=\"M 3328 2828 \r\nQ 3544 3216 3844 3400 \r\nQ 4144 3584 4550 3584 \r\nQ 5097 3584 5394 3201 \r\nQ 5691 2819 5691 2113 \r\nL 5691 0 \r\nL 5113 0 \r\nL 5113 2094 \r\nQ 5113 2597 4934 2840 \r\nQ 4756 3084 4391 3084 \r\nQ 3944 3084 3684 2787 \r\nQ 3425 2491 3425 1978 \r\nL 3425 0 \r\nL 2847 0 \r\nL 2847 2094 \r\nQ 2847 2600 2669 2842 \r\nQ 2491 3084 2119 3084 \r\nQ 1678 3084 1418 2786 \r\nQ 1159 2488 1159 1978 \r\nL 1159 0 \r\nL 581 0 \r\nL 581 3500 \r\nL 1159 3500 \r\nL 1159 2956 \r\nQ 1356 3278 1631 3431 \r\nQ 1906 3584 2284 3584 \r\nQ 2666 3584 2933 3390 \r\nQ 3200 3197 3328 2828 \r\nz\r\n\" id=\"DejaVuSans-6d\" transform=\"scale(0.015625)\"/>\r\n      </defs>\r\n      <use xlink:href=\"#DejaVuSans-6f\"/>\r\n      <use x=\"61.181641\" xlink:href=\"#DejaVuSans-77\"/>\r\n      <use x=\"142.96875\" xlink:href=\"#DejaVuSans-6e\"/>\r\n      <use x=\"206.347656\" xlink:href=\"#DejaVuSans-5f\"/>\r\n      <use x=\"256.347656\" xlink:href=\"#DejaVuSans-68\"/>\r\n      <use x=\"319.726562\" xlink:href=\"#DejaVuSans-6f\"/>\r\n      <use x=\"380.908203\" xlink:href=\"#DejaVuSans-6d\"/>\r\n      <use x=\"478.320312\" xlink:href=\"#DejaVuSans-65\"/>\r\n     </g>\r\n    </g>\r\n   </g>\r\n   <g id=\"matplotlib.axis_2\">\r\n    <g id=\"ytick_1\">\r\n     <g id=\"line2d_5\">\r\n      <path clip-path=\"url(#p1c827b6ab4)\" d=\"M 52.375 218.900665 \r\nL 397.975 218.900665 \r\n\" style=\"fill:none;stroke:#b0b0b0;stroke-linecap:square;stroke-width:0.8;\"/>\r\n     </g>\r\n     <g id=\"line2d_6\">\r\n      <defs>\r\n       <path d=\"M 0 0 \r\nL -3.5 0 \r\n\" id=\"mcb83dd0dc8\" style=\"stroke:#000000;stroke-width:0.8;\"/>\r\n      </defs>\r\n      <g>\r\n       <use style=\"stroke:#000000;stroke-width:0.8;\" x=\"52.375\" xlink:href=\"#mcb83dd0dc8\" y=\"218.900665\"/>\r\n      </g>\r\n     </g>\r\n     <g id=\"text_4\">\r\n      <!-- 20000 -->\r\n      <g transform=\"translate(13.5625 222.699884)scale(0.1 -0.1)\">\r\n       <defs>\r\n        <path d=\"M 1228 531 \r\nL 3431 531 \r\nL 3431 0 \r\nL 469 0 \r\nL 469 531 \r\nQ 828 903 1448 1529 \r\nQ 2069 2156 2228 2338 \r\nQ 2531 2678 2651 2914 \r\nQ 2772 3150 2772 3378 \r\nQ 2772 3750 2511 3984 \r\nQ 2250 4219 1831 4219 \r\nQ 1534 4219 1204 4116 \r\nQ 875 4013 500 3803 \r\nL 500 4441 \r\nQ 881 4594 1212 4672 \r\nQ 1544 4750 1819 4750 \r\nQ 2544 4750 2975 4387 \r\nQ 3406 4025 3406 3419 \r\nQ 3406 3131 3298 2873 \r\nQ 3191 2616 2906 2266 \r\nQ 2828 2175 2409 1742 \r\nQ 1991 1309 1228 531 \r\nz\r\n\" id=\"DejaVuSans-32\" transform=\"scale(0.015625)\"/>\r\n        <path d=\"M 2034 4250 \r\nQ 1547 4250 1301 3770 \r\nQ 1056 3291 1056 2328 \r\nQ 1056 1369 1301 889 \r\nQ 1547 409 2034 409 \r\nQ 2525 409 2770 889 \r\nQ 3016 1369 3016 2328 \r\nQ 3016 3291 2770 3770 \r\nQ 2525 4250 2034 4250 \r\nz\r\nM 2034 4750 \r\nQ 2819 4750 3233 4129 \r\nQ 3647 3509 3647 2328 \r\nQ 3647 1150 3233 529 \r\nQ 2819 -91 2034 -91 \r\nQ 1250 -91 836 529 \r\nQ 422 1150 422 2328 \r\nQ 422 3509 836 4129 \r\nQ 1250 4750 2034 4750 \r\nz\r\n\" id=\"DejaVuSans-30\" transform=\"scale(0.015625)\"/>\r\n       </defs>\r\n       <use xlink:href=\"#DejaVuSans-32\"/>\r\n       <use x=\"63.623047\" xlink:href=\"#DejaVuSans-30\"/>\r\n       <use x=\"127.246094\" xlink:href=\"#DejaVuSans-30\"/>\r\n       <use x=\"190.869141\" xlink:href=\"#DejaVuSans-30\"/>\r\n       <use x=\"254.492188\" xlink:href=\"#DejaVuSans-30\"/>\r\n      </g>\r\n     </g>\r\n    </g>\r\n    <g id=\"ytick_2\">\r\n     <g id=\"line2d_7\">\r\n      <path clip-path=\"url(#p1c827b6ab4)\" d=\"M 52.375 178.634606 \r\nL 397.975 178.634606 \r\n\" style=\"fill:none;stroke:#b0b0b0;stroke-linecap:square;stroke-width:0.8;\"/>\r\n     </g>\r\n     <g id=\"line2d_8\">\r\n      <g>\r\n       <use style=\"stroke:#000000;stroke-width:0.8;\" x=\"52.375\" xlink:href=\"#mcb83dd0dc8\" y=\"178.634606\"/>\r\n      </g>\r\n     </g>\r\n     <g id=\"text_5\">\r\n      <!-- 40000 -->\r\n      <g transform=\"translate(13.5625 182.433825)scale(0.1 -0.1)\">\r\n       <defs>\r\n        <path d=\"M 2419 4116 \r\nL 825 1625 \r\nL 2419 1625 \r\nL 2419 4116 \r\nz\r\nM 2253 4666 \r\nL 3047 4666 \r\nL 3047 1625 \r\nL 3713 1625 \r\nL 3713 1100 \r\nL 3047 1100 \r\nL 3047 0 \r\nL 2419 0 \r\nL 2419 1100 \r\nL 313 1100 \r\nL 313 1709 \r\nL 2253 4666 \r\nz\r\n\" id=\"DejaVuSans-34\" transform=\"scale(0.015625)\"/>\r\n       </defs>\r\n       <use xlink:href=\"#DejaVuSans-34\"/>\r\n       <use x=\"63.623047\" xlink:href=\"#DejaVuSans-30\"/>\r\n       <use x=\"127.246094\" xlink:href=\"#DejaVuSans-30\"/>\r\n       <use x=\"190.869141\" xlink:href=\"#DejaVuSans-30\"/>\r\n       <use x=\"254.492188\" xlink:href=\"#DejaVuSans-30\"/>\r\n      </g>\r\n     </g>\r\n    </g>\r\n    <g id=\"ytick_3\">\r\n     <g id=\"line2d_9\">\r\n      <path clip-path=\"url(#p1c827b6ab4)\" d=\"M 52.375 138.368547 \r\nL 397.975 138.368547 \r\n\" style=\"fill:none;stroke:#b0b0b0;stroke-linecap:square;stroke-width:0.8;\"/>\r\n     </g>\r\n     <g id=\"line2d_10\">\r\n      <g>\r\n       <use style=\"stroke:#000000;stroke-width:0.8;\" x=\"52.375\" xlink:href=\"#mcb83dd0dc8\" y=\"138.368547\"/>\r\n      </g>\r\n     </g>\r\n     <g id=\"text_6\">\r\n      <!-- 60000 -->\r\n      <g transform=\"translate(13.5625 142.167766)scale(0.1 -0.1)\">\r\n       <defs>\r\n        <path d=\"M 2113 2584 \r\nQ 1688 2584 1439 2293 \r\nQ 1191 2003 1191 1497 \r\nQ 1191 994 1439 701 \r\nQ 1688 409 2113 409 \r\nQ 2538 409 2786 701 \r\nQ 3034 994 3034 1497 \r\nQ 3034 2003 2786 2293 \r\nQ 2538 2584 2113 2584 \r\nz\r\nM 3366 4563 \r\nL 3366 3988 \r\nQ 3128 4100 2886 4159 \r\nQ 2644 4219 2406 4219 \r\nQ 1781 4219 1451 3797 \r\nQ 1122 3375 1075 2522 \r\nQ 1259 2794 1537 2939 \r\nQ 1816 3084 2150 3084 \r\nQ 2853 3084 3261 2657 \r\nQ 3669 2231 3669 1497 \r\nQ 3669 778 3244 343 \r\nQ 2819 -91 2113 -91 \r\nQ 1303 -91 875 529 \r\nQ 447 1150 447 2328 \r\nQ 447 3434 972 4092 \r\nQ 1497 4750 2381 4750 \r\nQ 2619 4750 2861 4703 \r\nQ 3103 4656 3366 4563 \r\nz\r\n\" id=\"DejaVuSans-36\" transform=\"scale(0.015625)\"/>\r\n       </defs>\r\n       <use xlink:href=\"#DejaVuSans-36\"/>\r\n       <use x=\"63.623047\" xlink:href=\"#DejaVuSans-30\"/>\r\n       <use x=\"127.246094\" xlink:href=\"#DejaVuSans-30\"/>\r\n       <use x=\"190.869141\" xlink:href=\"#DejaVuSans-30\"/>\r\n       <use x=\"254.492188\" xlink:href=\"#DejaVuSans-30\"/>\r\n      </g>\r\n     </g>\r\n    </g>\r\n    <g id=\"ytick_4\">\r\n     <g id=\"line2d_11\">\r\n      <path clip-path=\"url(#p1c827b6ab4)\" d=\"M 52.375 98.102488 \r\nL 397.975 98.102488 \r\n\" style=\"fill:none;stroke:#b0b0b0;stroke-linecap:square;stroke-width:0.8;\"/>\r\n     </g>\r\n     <g id=\"line2d_12\">\r\n      <g>\r\n       <use style=\"stroke:#000000;stroke-width:0.8;\" x=\"52.375\" xlink:href=\"#mcb83dd0dc8\" y=\"98.102488\"/>\r\n      </g>\r\n     </g>\r\n     <g id=\"text_7\">\r\n      <!-- 80000 -->\r\n      <g transform=\"translate(13.5625 101.901707)scale(0.1 -0.1)\">\r\n       <defs>\r\n        <path d=\"M 2034 2216 \r\nQ 1584 2216 1326 1975 \r\nQ 1069 1734 1069 1313 \r\nQ 1069 891 1326 650 \r\nQ 1584 409 2034 409 \r\nQ 2484 409 2743 651 \r\nQ 3003 894 3003 1313 \r\nQ 3003 1734 2745 1975 \r\nQ 2488 2216 2034 2216 \r\nz\r\nM 1403 2484 \r\nQ 997 2584 770 2862 \r\nQ 544 3141 544 3541 \r\nQ 544 4100 942 4425 \r\nQ 1341 4750 2034 4750 \r\nQ 2731 4750 3128 4425 \r\nQ 3525 4100 3525 3541 \r\nQ 3525 3141 3298 2862 \r\nQ 3072 2584 2669 2484 \r\nQ 3125 2378 3379 2068 \r\nQ 3634 1759 3634 1313 \r\nQ 3634 634 3220 271 \r\nQ 2806 -91 2034 -91 \r\nQ 1263 -91 848 271 \r\nQ 434 634 434 1313 \r\nQ 434 1759 690 2068 \r\nQ 947 2378 1403 2484 \r\nz\r\nM 1172 3481 \r\nQ 1172 3119 1398 2916 \r\nQ 1625 2713 2034 2713 \r\nQ 2441 2713 2670 2916 \r\nQ 2900 3119 2900 3481 \r\nQ 2900 3844 2670 4047 \r\nQ 2441 4250 2034 4250 \r\nQ 1625 4250 1398 4047 \r\nQ 1172 3844 1172 3481 \r\nz\r\n\" id=\"DejaVuSans-38\" transform=\"scale(0.015625)\"/>\r\n       </defs>\r\n       <use xlink:href=\"#DejaVuSans-38\"/>\r\n       <use x=\"63.623047\" xlink:href=\"#DejaVuSans-30\"/>\r\n       <use x=\"127.246094\" xlink:href=\"#DejaVuSans-30\"/>\r\n       <use x=\"190.869141\" xlink:href=\"#DejaVuSans-30\"/>\r\n       <use x=\"254.492188\" xlink:href=\"#DejaVuSans-30\"/>\r\n      </g>\r\n     </g>\r\n    </g>\r\n    <g id=\"ytick_5\">\r\n     <g id=\"line2d_13\">\r\n      <path clip-path=\"url(#p1c827b6ab4)\" d=\"M 52.375 57.836429 \r\nL 397.975 57.836429 \r\n\" style=\"fill:none;stroke:#b0b0b0;stroke-linecap:square;stroke-width:0.8;\"/>\r\n     </g>\r\n     <g id=\"line2d_14\">\r\n      <g>\r\n       <use style=\"stroke:#000000;stroke-width:0.8;\" x=\"52.375\" xlink:href=\"#mcb83dd0dc8\" y=\"57.836429\"/>\r\n      </g>\r\n     </g>\r\n     <g id=\"text_8\">\r\n      <!-- 100000 -->\r\n      <g transform=\"translate(7.2 61.635648)scale(0.1 -0.1)\">\r\n       <defs>\r\n        <path d=\"M 794 531 \r\nL 1825 531 \r\nL 1825 4091 \r\nL 703 3866 \r\nL 703 4441 \r\nL 1819 4666 \r\nL 2450 4666 \r\nL 2450 531 \r\nL 3481 531 \r\nL 3481 0 \r\nL 794 0 \r\nL 794 531 \r\nz\r\n\" id=\"DejaVuSans-31\" transform=\"scale(0.015625)\"/>\r\n       </defs>\r\n       <use xlink:href=\"#DejaVuSans-31\"/>\r\n       <use x=\"63.623047\" xlink:href=\"#DejaVuSans-30\"/>\r\n       <use x=\"127.246094\" xlink:href=\"#DejaVuSans-30\"/>\r\n       <use x=\"190.869141\" xlink:href=\"#DejaVuSans-30\"/>\r\n       <use x=\"254.492188\" xlink:href=\"#DejaVuSans-30\"/>\r\n       <use x=\"318.115234\" xlink:href=\"#DejaVuSans-30\"/>\r\n      </g>\r\n     </g>\r\n    </g>\r\n   </g>\r\n   <g id=\"line2d_15\">\r\n    <path clip-path=\"url(#p1c827b6ab4)\" d=\"M 125.815 203.733168 \r\nL 151.735 203.733168 \r\nL 151.735 137.23339 \r\nL 125.815 137.23339 \r\nL 125.815 203.733168 \r\n\" style=\"fill:none;stroke:#1f77b4;stroke-linecap:square;\"/>\r\n   </g>\r\n   <g id=\"line2d_16\">\r\n    <path clip-path=\"url(#p1c827b6ab4)\" d=\"M 138.775 203.733168 \r\nL 138.775 236.421818 \r\n\" style=\"fill:none;stroke:#1f77b4;stroke-linecap:square;\"/>\r\n   </g>\r\n   <g id=\"line2d_17\">\r\n    <path clip-path=\"url(#p1c827b6ab4)\" d=\"M 138.775 137.23339 \r\nL 138.775 58.479499 \r\n\" style=\"fill:none;stroke:#1f77b4;stroke-linecap:square;\"/>\r\n   </g>\r\n   <g id=\"line2d_18\">\r\n    <path clip-path=\"url(#p1c827b6ab4)\" d=\"M 132.295 236.421818 \r\nL 145.255 236.421818 \r\n\" style=\"fill:none;stroke:#000000;stroke-linecap:square;\"/>\r\n   </g>\r\n   <g id=\"line2d_19\">\r\n    <path clip-path=\"url(#p1c827b6ab4)\" d=\"M 132.295 58.479499 \r\nL 145.255 58.479499 \r\n\" style=\"fill:none;stroke:#000000;stroke-linecap:square;\"/>\r\n   </g>\r\n   <g id=\"line2d_20\"/>\r\n   <g id=\"line2d_21\">\r\n    <path clip-path=\"url(#p1c827b6ab4)\" d=\"M 298.615 168.587512 \r\nL 324.535 168.587512 \r\nL 324.535 130.81588 \r\nL 298.615 130.81588 \r\nL 298.615 168.587512 \r\n\" style=\"fill:none;stroke:#1f77b4;stroke-linecap:square;\"/>\r\n   </g>\r\n   <g id=\"line2d_22\">\r\n    <path clip-path=\"url(#p1c827b6ab4)\" d=\"M 311.575 168.587512 \r\nL 311.575 218.345564 \r\n\" style=\"fill:none;stroke:#1f77b4;stroke-linecap:square;\"/>\r\n   </g>\r\n   <g id=\"line2d_23\">\r\n    <path clip-path=\"url(#p1c827b6ab4)\" d=\"M 311.575 130.81588 \r\nL 311.575 80.695743 \r\n\" style=\"fill:none;stroke:#1f77b4;stroke-linecap:square;\"/>\r\n   </g>\r\n   <g id=\"line2d_24\">\r\n    <path clip-path=\"url(#p1c827b6ab4)\" d=\"M 305.095 218.345564 \r\nL 318.055 218.345564 \r\n\" style=\"fill:none;stroke:#000000;stroke-linecap:square;\"/>\r\n   </g>\r\n   <g id=\"line2d_25\">\r\n    <path clip-path=\"url(#p1c827b6ab4)\" d=\"M 305.095 80.695743 \r\nL 318.055 80.695743 \r\n\" style=\"fill:none;stroke:#000000;stroke-linecap:square;\"/>\r\n   </g>\r\n   <g id=\"line2d_26\">\r\n    <defs>\r\n     <path d=\"M 0 3 \r\nC 0.795609 3 1.55874 2.683901 2.12132 2.12132 \r\nC 2.683901 1.55874 3 0.795609 3 0 \r\nC 3 -0.795609 2.683901 -1.55874 2.12132 -2.12132 \r\nC 1.55874 -2.683901 0.795609 -3 0 -3 \r\nC -0.795609 -3 -1.55874 -2.683901 -2.12132 -2.12132 \r\nC -2.683901 -1.55874 -3 -0.795609 -3 0 \r\nC -3 0.795609 -2.683901 1.55874 -2.12132 2.12132 \r\nC -1.55874 2.683901 -0.795609 3 0 3 \r\nz\r\n\" id=\"me7fbd03198\" style=\"stroke:#000000;\"/>\r\n    </defs>\r\n    <g clip-path=\"url(#p1c827b6ab4)\">\r\n     <use style=\"fill-opacity:0;stroke:#000000;\" x=\"311.575\" xlink:href=\"#me7fbd03198\" y=\"231.551046\"/>\r\n     <use style=\"fill-opacity:0;stroke:#000000;\" x=\"311.575\" xlink:href=\"#me7fbd03198\" y=\"226.735034\"/>\r\n     <use style=\"fill-opacity:0;stroke:#000000;\" x=\"311.575\" xlink:href=\"#me7fbd03198\" y=\"51.756112\"/>\r\n     <use style=\"fill-opacity:0;stroke:#000000;\" x=\"311.575\" xlink:href=\"#me7fbd03198\" y=\"52.823372\"/>\r\n     <use style=\"fill-opacity:0;stroke:#000000;\" x=\"311.575\" xlink:href=\"#me7fbd03198\" y=\"40.058182\"/>\r\n     <use style=\"fill-opacity:0;stroke:#000000;\" x=\"311.575\" xlink:href=\"#me7fbd03198\" y=\"69.095203\"/>\r\n    </g>\r\n   </g>\r\n   <g id=\"line2d_27\">\r\n    <path clip-path=\"url(#p1c827b6ab4)\" d=\"M 125.815 158.351921 \r\nL 151.735 158.351921 \r\n\" style=\"fill:none;stroke:#2ca02c;stroke-linecap:square;\"/>\r\n   </g>\r\n   <g id=\"line2d_28\">\r\n    <path clip-path=\"url(#p1c827b6ab4)\" d=\"M 298.615 152.625265 \r\nL 324.535 152.625265 \r\n\" style=\"fill:none;stroke:#2ca02c;stroke-linecap:square;\"/>\r\n   </g>\r\n   <g id=\"patch_3\">\r\n    <path d=\"M 52.375 246.24 \r\nL 52.375 30.24 \r\n\" style=\"fill:none;stroke:#000000;stroke-linecap:square;stroke-linejoin:miter;stroke-width:0.8;\"/>\r\n   </g>\r\n   <g id=\"patch_4\">\r\n    <path d=\"M 397.975 246.24 \r\nL 397.975 30.24 \r\n\" style=\"fill:none;stroke:#000000;stroke-linecap:square;stroke-linejoin:miter;stroke-width:0.8;\"/>\r\n   </g>\r\n   <g id=\"patch_5\">\r\n    <path d=\"M 52.375 246.24 \r\nL 397.975 246.24 \r\n\" style=\"fill:none;stroke:#000000;stroke-linecap:square;stroke-linejoin:miter;stroke-width:0.8;\"/>\r\n   </g>\r\n   <g id=\"patch_6\">\r\n    <path d=\"M 52.375 30.24 \r\nL 397.975 30.24 \r\n\" style=\"fill:none;stroke:#000000;stroke-linecap:square;stroke-linejoin:miter;stroke-width:0.8;\"/>\r\n   </g>\r\n   <g id=\"text_9\">\r\n    <!-- income -->\r\n    <g transform=\"translate(203.199063 24.24)scale(0.12 -0.12)\">\r\n     <defs>\r\n      <path d=\"M 603 3500 \r\nL 1178 3500 \r\nL 1178 0 \r\nL 603 0 \r\nL 603 3500 \r\nz\r\nM 603 4863 \r\nL 1178 4863 \r\nL 1178 4134 \r\nL 603 4134 \r\nL 603 4863 \r\nz\r\n\" id=\"DejaVuSans-69\" transform=\"scale(0.015625)\"/>\r\n      <path d=\"M 3122 3366 \r\nL 3122 2828 \r\nQ 2878 2963 2633 3030 \r\nQ 2388 3097 2138 3097 \r\nQ 1578 3097 1268 2742 \r\nQ 959 2388 959 1747 \r\nQ 959 1106 1268 751 \r\nQ 1578 397 2138 397 \r\nQ 2388 397 2633 464 \r\nQ 2878 531 3122 666 \r\nL 3122 134 \r\nQ 2881 22 2623 -34 \r\nQ 2366 -91 2075 -91 \r\nQ 1284 -91 818 406 \r\nQ 353 903 353 1747 \r\nQ 353 2603 823 3093 \r\nQ 1294 3584 2113 3584 \r\nQ 2378 3584 2631 3529 \r\nQ 2884 3475 3122 3366 \r\nz\r\n\" id=\"DejaVuSans-63\" transform=\"scale(0.015625)\"/>\r\n     </defs>\r\n     <use xlink:href=\"#DejaVuSans-69\"/>\r\n     <use x=\"27.783203\" xlink:href=\"#DejaVuSans-6e\"/>\r\n     <use x=\"91.162109\" xlink:href=\"#DejaVuSans-63\"/>\r\n     <use x=\"146.142578\" xlink:href=\"#DejaVuSans-6f\"/>\r\n     <use x=\"207.324219\" xlink:href=\"#DejaVuSans-6d\"/>\r\n     <use x=\"304.736328\" xlink:href=\"#DejaVuSans-65\"/>\r\n    </g>\r\n   </g>\r\n  </g>\r\n  <g id=\"text_10\">\r\n   <!-- Boxplot grouped by own_home -->\r\n   <g transform=\"translate(132.128125 16.318125)scale(0.12 -0.12)\">\r\n    <defs>\r\n     <path d=\"M 1259 2228 \r\nL 1259 519 \r\nL 2272 519 \r\nQ 2781 519 3026 730 \r\nQ 3272 941 3272 1375 \r\nQ 3272 1813 3026 2020 \r\nQ 2781 2228 2272 2228 \r\nL 1259 2228 \r\nz\r\nM 1259 4147 \r\nL 1259 2741 \r\nL 2194 2741 \r\nQ 2656 2741 2882 2914 \r\nQ 3109 3088 3109 3444 \r\nQ 3109 3797 2882 3972 \r\nQ 2656 4147 2194 4147 \r\nL 1259 4147 \r\nz\r\nM 628 4666 \r\nL 2241 4666 \r\nQ 2963 4666 3353 4366 \r\nQ 3744 4066 3744 3513 \r\nQ 3744 3084 3544 2831 \r\nQ 3344 2578 2956 2516 \r\nQ 3422 2416 3680 2098 \r\nQ 3938 1781 3938 1306 \r\nQ 3938 681 3513 340 \r\nQ 3088 0 2303 0 \r\nL 628 0 \r\nL 628 4666 \r\nz\r\n\" id=\"DejaVuSans-42\" transform=\"scale(0.015625)\"/>\r\n     <path d=\"M 3513 3500 \r\nL 2247 1797 \r\nL 3578 0 \r\nL 2900 0 \r\nL 1881 1375 \r\nL 863 0 \r\nL 184 0 \r\nL 1544 1831 \r\nL 300 3500 \r\nL 978 3500 \r\nL 1906 2253 \r\nL 2834 3500 \r\nL 3513 3500 \r\nz\r\n\" id=\"DejaVuSans-78\" transform=\"scale(0.015625)\"/>\r\n     <path d=\"M 1159 525 \r\nL 1159 -1331 \r\nL 581 -1331 \r\nL 581 3500 \r\nL 1159 3500 \r\nL 1159 2969 \r\nQ 1341 3281 1617 3432 \r\nQ 1894 3584 2278 3584 \r\nQ 2916 3584 3314 3078 \r\nQ 3713 2572 3713 1747 \r\nQ 3713 922 3314 415 \r\nQ 2916 -91 2278 -91 \r\nQ 1894 -91 1617 61 \r\nQ 1341 213 1159 525 \r\nz\r\nM 3116 1747 \r\nQ 3116 2381 2855 2742 \r\nQ 2594 3103 2138 3103 \r\nQ 1681 3103 1420 2742 \r\nQ 1159 2381 1159 1747 \r\nQ 1159 1113 1420 752 \r\nQ 1681 391 2138 391 \r\nQ 2594 391 2855 752 \r\nQ 3116 1113 3116 1747 \r\nz\r\n\" id=\"DejaVuSans-70\" transform=\"scale(0.015625)\"/>\r\n     <path d=\"M 1172 4494 \r\nL 1172 3500 \r\nL 2356 3500 \r\nL 2356 3053 \r\nL 1172 3053 \r\nL 1172 1153 \r\nQ 1172 725 1289 603 \r\nQ 1406 481 1766 481 \r\nL 2356 481 \r\nL 2356 0 \r\nL 1766 0 \r\nQ 1100 0 847 248 \r\nQ 594 497 594 1153 \r\nL 594 3053 \r\nL 172 3053 \r\nL 172 3500 \r\nL 594 3500 \r\nL 594 4494 \r\nL 1172 4494 \r\nz\r\n\" id=\"DejaVuSans-74\" transform=\"scale(0.015625)\"/>\r\n     <path id=\"DejaVuSans-20\" transform=\"scale(0.015625)\"/>\r\n     <path d=\"M 2906 1791 \r\nQ 2906 2416 2648 2759 \r\nQ 2391 3103 1925 3103 \r\nQ 1463 3103 1205 2759 \r\nQ 947 2416 947 1791 \r\nQ 947 1169 1205 825 \r\nQ 1463 481 1925 481 \r\nQ 2391 481 2648 825 \r\nQ 2906 1169 2906 1791 \r\nz\r\nM 3481 434 \r\nQ 3481 -459 3084 -895 \r\nQ 2688 -1331 1869 -1331 \r\nQ 1566 -1331 1297 -1286 \r\nQ 1028 -1241 775 -1147 \r\nL 775 -588 \r\nQ 1028 -725 1275 -790 \r\nQ 1522 -856 1778 -856 \r\nQ 2344 -856 2625 -561 \r\nQ 2906 -266 2906 331 \r\nL 2906 616 \r\nQ 2728 306 2450 153 \r\nQ 2172 0 1784 0 \r\nQ 1141 0 747 490 \r\nQ 353 981 353 1791 \r\nQ 353 2603 747 3093 \r\nQ 1141 3584 1784 3584 \r\nQ 2172 3584 2450 3431 \r\nQ 2728 3278 2906 2969 \r\nL 2906 3500 \r\nL 3481 3500 \r\nL 3481 434 \r\nz\r\n\" id=\"DejaVuSans-67\" transform=\"scale(0.015625)\"/>\r\n     <path d=\"M 2906 2969 \r\nL 2906 4863 \r\nL 3481 4863 \r\nL 3481 0 \r\nL 2906 0 \r\nL 2906 525 \r\nQ 2725 213 2448 61 \r\nQ 2172 -91 1784 -91 \r\nQ 1150 -91 751 415 \r\nQ 353 922 353 1747 \r\nQ 353 2572 751 3078 \r\nQ 1150 3584 1784 3584 \r\nQ 2172 3584 2448 3432 \r\nQ 2725 3281 2906 2969 \r\nz\r\nM 947 1747 \r\nQ 947 1113 1208 752 \r\nQ 1469 391 1925 391 \r\nQ 2381 391 2643 752 \r\nQ 2906 1113 2906 1747 \r\nQ 2906 2381 2643 2742 \r\nQ 2381 3103 1925 3103 \r\nQ 1469 3103 1208 2742 \r\nQ 947 2381 947 1747 \r\nz\r\n\" id=\"DejaVuSans-64\" transform=\"scale(0.015625)\"/>\r\n     <path d=\"M 3116 1747 \r\nQ 3116 2381 2855 2742 \r\nQ 2594 3103 2138 3103 \r\nQ 1681 3103 1420 2742 \r\nQ 1159 2381 1159 1747 \r\nQ 1159 1113 1420 752 \r\nQ 1681 391 2138 391 \r\nQ 2594 391 2855 752 \r\nQ 3116 1113 3116 1747 \r\nz\r\nM 1159 2969 \r\nQ 1341 3281 1617 3432 \r\nQ 1894 3584 2278 3584 \r\nQ 2916 3584 3314 3078 \r\nQ 3713 2572 3713 1747 \r\nQ 3713 922 3314 415 \r\nQ 2916 -91 2278 -91 \r\nQ 1894 -91 1617 61 \r\nQ 1341 213 1159 525 \r\nL 1159 0 \r\nL 581 0 \r\nL 581 4863 \r\nL 1159 4863 \r\nL 1159 2969 \r\nz\r\n\" id=\"DejaVuSans-62\" transform=\"scale(0.015625)\"/>\r\n     <path d=\"M 2059 -325 \r\nQ 1816 -950 1584 -1140 \r\nQ 1353 -1331 966 -1331 \r\nL 506 -1331 \r\nL 506 -850 \r\nL 844 -850 \r\nQ 1081 -850 1212 -737 \r\nQ 1344 -625 1503 -206 \r\nL 1606 56 \r\nL 191 3500 \r\nL 800 3500 \r\nL 1894 763 \r\nL 2988 3500 \r\nL 3597 3500 \r\nL 2059 -325 \r\nz\r\n\" id=\"DejaVuSans-79\" transform=\"scale(0.015625)\"/>\r\n    </defs>\r\n    <use xlink:href=\"#DejaVuSans-42\"/>\r\n    <use x=\"68.603516\" xlink:href=\"#DejaVuSans-6f\"/>\r\n    <use x=\"126.660156\" xlink:href=\"#DejaVuSans-78\"/>\r\n    <use x=\"185.839844\" xlink:href=\"#DejaVuSans-70\"/>\r\n    <use x=\"249.316406\" xlink:href=\"#DejaVuSans-6c\"/>\r\n    <use x=\"277.099609\" xlink:href=\"#DejaVuSans-6f\"/>\r\n    <use x=\"338.28125\" xlink:href=\"#DejaVuSans-74\"/>\r\n    <use x=\"377.490234\" xlink:href=\"#DejaVuSans-20\"/>\r\n    <use x=\"409.277344\" xlink:href=\"#DejaVuSans-67\"/>\r\n    <use x=\"472.753906\" xlink:href=\"#DejaVuSans-72\"/>\r\n    <use x=\"511.617188\" xlink:href=\"#DejaVuSans-6f\"/>\r\n    <use x=\"572.798828\" xlink:href=\"#DejaVuSans-75\"/>\r\n    <use x=\"636.177734\" xlink:href=\"#DejaVuSans-70\"/>\r\n    <use x=\"699.654297\" xlink:href=\"#DejaVuSans-65\"/>\r\n    <use x=\"761.177734\" xlink:href=\"#DejaVuSans-64\"/>\r\n    <use x=\"824.654297\" xlink:href=\"#DejaVuSans-20\"/>\r\n    <use x=\"856.441406\" xlink:href=\"#DejaVuSans-62\"/>\r\n    <use x=\"919.917969\" xlink:href=\"#DejaVuSans-79\"/>\r\n    <use x=\"979.097656\" xlink:href=\"#DejaVuSans-20\"/>\r\n    <use x=\"1010.884766\" xlink:href=\"#DejaVuSans-6f\"/>\r\n    <use x=\"1072.066406\" xlink:href=\"#DejaVuSans-77\"/>\r\n    <use x=\"1153.853516\" xlink:href=\"#DejaVuSans-6e\"/>\r\n    <use x=\"1217.232422\" xlink:href=\"#DejaVuSans-5f\"/>\r\n    <use x=\"1267.232422\" xlink:href=\"#DejaVuSans-68\"/>\r\n    <use x=\"1330.611328\" xlink:href=\"#DejaVuSans-6f\"/>\r\n    <use x=\"1391.792969\" xlink:href=\"#DejaVuSans-6d\"/>\r\n    <use x=\"1489.205078\" xlink:href=\"#DejaVuSans-65\"/>\r\n   </g>\r\n  </g>\r\n </g>\r\n <defs>\r\n  <clipPath id=\"p1c827b6ab4\">\r\n   <rect height=\"216\" width=\"345.6\" x=\"52.375\" y=\"30.24\"/>\r\n  </clipPath>\r\n </defs>\r\n</svg>\r\n",
            "image/png": "[encoded data removed]"
          },
          "metadata": {
            "needs_background": "light"
          }
        },
        {
          "output_type": "display_data",
          "data": {
            "text/plain": [
              "<Figure size 432x288 with 1 Axes>"
            ],
            "image/svg+xml": "<?xml version=\"1.0\" encoding=\"utf-8\" standalone=\"no\"?>\r\n<!DOCTYPE svg PUBLIC \"-//W3C//DTD SVG 1.1//EN\"\r\n  \"http://www.w3.org/Graphics/SVG/1.1/DTD/svg11.dtd\">\r\n<svg height=\"277.314375pt\" version=\"1.1\" viewBox=\"0 0 408.053125 277.314375\" width=\"408.053125pt\" xmlns=\"http://www.w3.org/2000/svg\" xmlns:xlink=\"http://www.w3.org/1999/xlink\">\r\n <metadata>\r\n  <rdf:RDF xmlns:cc=\"http://creativecommons.org/ns#\" xmlns:dc=\"http://purl.org/dc/elements/1.1/\" xmlns:rdf=\"http://www.w3.org/1999/02/22-rdf-syntax-ns#\">\r\n   <cc:Work>\r\n    <dc:type rdf:resource=\"http://purl.org/dc/dcmitype/StillImage\"/>\r\n    <dc:date>2021-08-30T09:47:40.207962</dc:date>\r\n    <dc:format>image/svg+xml</dc:format>\r\n    <dc:creator>\r\n     <cc:Agent>\r\n      <dc:title>Matplotlib v3.4.2, https://matplotlib.org/</dc:title>\r\n     </cc:Agent>\r\n    </dc:creator>\r\n   </cc:Work>\r\n  </rdf:RDF>\r\n </metadata>\r\n <defs>\r\n  <style type=\"text/css\">*{stroke-linecap:butt;stroke-linejoin:round;}</style>\r\n </defs>\r\n <g id=\"figure_1\">\r\n  <g id=\"patch_1\">\r\n   <path d=\"M 0 277.314375 \r\nL 408.053125 277.314375 \r\nL 408.053125 0 \r\nL 0 0 \r\nz\r\n\" style=\"fill:none;\"/>\r\n  </g>\r\n  <g id=\"axes_1\">\r\n   <g id=\"patch_2\">\r\n    <path d=\"M 66.053125 239.758125 \r\nL 400.853125 239.758125 \r\nL 400.853125 22.318125 \r\nL 66.053125 22.318125 \r\nz\r\n\" style=\"fill:#ffffff;\"/>\r\n   </g>\r\n   <g id=\"matplotlib.axis_1\">\r\n    <g id=\"xtick_1\">\r\n     <g id=\"line2d_1\">\r\n      <defs>\r\n       <path d=\"M 0 0 \r\nL 0 3.5 \r\n\" id=\"m21fa48a852\" style=\"stroke:#000000;stroke-width:0.8;\"/>\r\n      </defs>\r\n      <g>\r\n       <use style=\"stroke:#000000;stroke-width:0.8;\" x=\"72.283493\" xlink:href=\"#m21fa48a852\" y=\"239.758125\"/>\r\n      </g>\r\n     </g>\r\n     <g id=\"text_1\">\r\n      <!-- −3 -->\r\n      <g transform=\"translate(64.912399 254.356562)scale(0.1 -0.1)\">\r\n       <defs>\r\n        <path d=\"M 678 2272 \r\nL 4684 2272 \r\nL 4684 1741 \r\nL 678 1741 \r\nL 678 2272 \r\nz\r\n\" id=\"DejaVuSans-2212\" transform=\"scale(0.015625)\"/>\r\n        <path d=\"M 2597 2516 \r\nQ 3050 2419 3304 2112 \r\nQ 3559 1806 3559 1356 \r\nQ 3559 666 3084 287 \r\nQ 2609 -91 1734 -91 \r\nQ 1441 -91 1130 -33 \r\nQ 819 25 488 141 \r\nL 488 750 \r\nQ 750 597 1062 519 \r\nQ 1375 441 1716 441 \r\nQ 2309 441 2620 675 \r\nQ 2931 909 2931 1356 \r\nQ 2931 1769 2642 2001 \r\nQ 2353 2234 1838 2234 \r\nL 1294 2234 \r\nL 1294 2753 \r\nL 1863 2753 \r\nQ 2328 2753 2575 2939 \r\nQ 2822 3125 2822 3475 \r\nQ 2822 3834 2567 4026 \r\nQ 2313 4219 1838 4219 \r\nQ 1578 4219 1281 4162 \r\nQ 984 4106 628 3988 \r\nL 628 4550 \r\nQ 988 4650 1302 4700 \r\nQ 1616 4750 1894 4750 \r\nQ 2613 4750 3031 4423 \r\nQ 3450 4097 3450 3541 \r\nQ 3450 3153 3228 2886 \r\nQ 3006 2619 2597 2516 \r\nz\r\n\" id=\"DejaVuSans-33\" transform=\"scale(0.015625)\"/>\r\n       </defs>\r\n       <use xlink:href=\"#DejaVuSans-2212\"/>\r\n       <use x=\"83.789062\" xlink:href=\"#DejaVuSans-33\"/>\r\n      </g>\r\n     </g>\r\n    </g>\r\n    <g id=\"xtick_2\">\r\n     <g id=\"line2d_2\">\r\n      <g>\r\n       <use style=\"stroke:#000000;stroke-width:0.8;\" x=\"126.006703\" xlink:href=\"#m21fa48a852\" y=\"239.758125\"/>\r\n      </g>\r\n     </g>\r\n     <g id=\"text_2\">\r\n      <!-- −2 -->\r\n      <g transform=\"translate(118.63561 254.356562)scale(0.1 -0.1)\">\r\n       <defs>\r\n        <path d=\"M 1228 531 \r\nL 3431 531 \r\nL 3431 0 \r\nL 469 0 \r\nL 469 531 \r\nQ 828 903 1448 1529 \r\nQ 2069 2156 2228 2338 \r\nQ 2531 2678 2651 2914 \r\nQ 2772 3150 2772 3378 \r\nQ 2772 3750 2511 3984 \r\nQ 2250 4219 1831 4219 \r\nQ 1534 4219 1204 4116 \r\nQ 875 4013 500 3803 \r\nL 500 4441 \r\nQ 881 4594 1212 4672 \r\nQ 1544 4750 1819 4750 \r\nQ 2544 4750 2975 4387 \r\nQ 3406 4025 3406 3419 \r\nQ 3406 3131 3298 2873 \r\nQ 3191 2616 2906 2266 \r\nQ 2828 2175 2409 1742 \r\nQ 1991 1309 1228 531 \r\nz\r\n\" id=\"DejaVuSans-32\" transform=\"scale(0.015625)\"/>\r\n       </defs>\r\n       <use xlink:href=\"#DejaVuSans-2212\"/>\r\n       <use x=\"83.789062\" xlink:href=\"#DejaVuSans-32\"/>\r\n      </g>\r\n     </g>\r\n    </g>\r\n    <g id=\"xtick_3\">\r\n     <g id=\"line2d_3\">\r\n      <g>\r\n       <use style=\"stroke:#000000;stroke-width:0.8;\" x=\"179.729914\" xlink:href=\"#m21fa48a852\" y=\"239.758125\"/>\r\n      </g>\r\n     </g>\r\n     <g id=\"text_3\">\r\n      <!-- −1 -->\r\n      <g transform=\"translate(172.35882 254.356562)scale(0.1 -0.1)\">\r\n       <defs>\r\n        <path d=\"M 794 531 \r\nL 1825 531 \r\nL 1825 4091 \r\nL 703 3866 \r\nL 703 4441 \r\nL 1819 4666 \r\nL 2450 4666 \r\nL 2450 531 \r\nL 3481 531 \r\nL 3481 0 \r\nL 794 0 \r\nL 794 531 \r\nz\r\n\" id=\"DejaVuSans-31\" transform=\"scale(0.015625)\"/>\r\n       </defs>\r\n       <use xlink:href=\"#DejaVuSans-2212\"/>\r\n       <use x=\"83.789062\" xlink:href=\"#DejaVuSans-31\"/>\r\n      </g>\r\n     </g>\r\n    </g>\r\n    <g id=\"xtick_4\">\r\n     <g id=\"line2d_4\">\r\n      <g>\r\n       <use style=\"stroke:#000000;stroke-width:0.8;\" x=\"233.453125\" xlink:href=\"#m21fa48a852\" y=\"239.758125\"/>\r\n      </g>\r\n     </g>\r\n     <g id=\"text_4\">\r\n      <!-- 0 -->\r\n      <g transform=\"translate(230.271875 254.356562)scale(0.1 -0.1)\">\r\n       <defs>\r\n        <path d=\"M 2034 4250 \r\nQ 1547 4250 1301 3770 \r\nQ 1056 3291 1056 2328 \r\nQ 1056 1369 1301 889 \r\nQ 1547 409 2034 409 \r\nQ 2525 409 2770 889 \r\nQ 3016 1369 3016 2328 \r\nQ 3016 3291 2770 3770 \r\nQ 2525 4250 2034 4250 \r\nz\r\nM 2034 4750 \r\nQ 2819 4750 3233 4129 \r\nQ 3647 3509 3647 2328 \r\nQ 3647 1150 3233 529 \r\nQ 2819 -91 2034 -91 \r\nQ 1250 -91 836 529 \r\nQ 422 1150 422 2328 \r\nQ 422 3509 836 4129 \r\nQ 1250 4750 2034 4750 \r\nz\r\n\" id=\"DejaVuSans-30\" transform=\"scale(0.015625)\"/>\r\n       </defs>\r\n       <use xlink:href=\"#DejaVuSans-30\"/>\r\n      </g>\r\n     </g>\r\n    </g>\r\n    <g id=\"xtick_5\">\r\n     <g id=\"line2d_5\">\r\n      <g>\r\n       <use style=\"stroke:#000000;stroke-width:0.8;\" x=\"287.176336\" xlink:href=\"#m21fa48a852\" y=\"239.758125\"/>\r\n      </g>\r\n     </g>\r\n     <g id=\"text_5\">\r\n      <!-- 1 -->\r\n      <g transform=\"translate(283.995086 254.356562)scale(0.1 -0.1)\">\r\n       <use xlink:href=\"#DejaVuSans-31\"/>\r\n      </g>\r\n     </g>\r\n    </g>\r\n    <g id=\"xtick_6\">\r\n     <g id=\"line2d_6\">\r\n      <g>\r\n       <use style=\"stroke:#000000;stroke-width:0.8;\" x=\"340.899547\" xlink:href=\"#m21fa48a852\" y=\"239.758125\"/>\r\n      </g>\r\n     </g>\r\n     <g id=\"text_6\">\r\n      <!-- 2 -->\r\n      <g transform=\"translate(337.718297 254.356562)scale(0.1 -0.1)\">\r\n       <use xlink:href=\"#DejaVuSans-32\"/>\r\n      </g>\r\n     </g>\r\n    </g>\r\n    <g id=\"xtick_7\">\r\n     <g id=\"line2d_7\">\r\n      <g>\r\n       <use style=\"stroke:#000000;stroke-width:0.8;\" x=\"394.622757\" xlink:href=\"#m21fa48a852\" y=\"239.758125\"/>\r\n      </g>\r\n     </g>\r\n     <g id=\"text_7\">\r\n      <!-- 3 -->\r\n      <g transform=\"translate(391.441507 254.356562)scale(0.1 -0.1)\">\r\n       <use xlink:href=\"#DejaVuSans-33\"/>\r\n      </g>\r\n     </g>\r\n    </g>\r\n    <g id=\"text_8\">\r\n     <!-- Theoretical quantiles -->\r\n     <g transform=\"translate(180.939063 268.034687)scale(0.1 -0.1)\">\r\n      <defs>\r\n       <path d=\"M -19 4666 \r\nL 3928 4666 \r\nL 3928 4134 \r\nL 2272 4134 \r\nL 2272 0 \r\nL 1638 0 \r\nL 1638 4134 \r\nL -19 4134 \r\nL -19 4666 \r\nz\r\n\" id=\"DejaVuSans-54\" transform=\"scale(0.015625)\"/>\r\n       <path d=\"M 3513 2113 \r\nL 3513 0 \r\nL 2938 0 \r\nL 2938 2094 \r\nQ 2938 2591 2744 2837 \r\nQ 2550 3084 2163 3084 \r\nQ 1697 3084 1428 2787 \r\nQ 1159 2491 1159 1978 \r\nL 1159 0 \r\nL 581 0 \r\nL 581 4863 \r\nL 1159 4863 \r\nL 1159 2956 \r\nQ 1366 3272 1645 3428 \r\nQ 1925 3584 2291 3584 \r\nQ 2894 3584 3203 3211 \r\nQ 3513 2838 3513 2113 \r\nz\r\n\" id=\"DejaVuSans-68\" transform=\"scale(0.015625)\"/>\r\n       <path d=\"M 3597 1894 \r\nL 3597 1613 \r\nL 953 1613 \r\nQ 991 1019 1311 708 \r\nQ 1631 397 2203 397 \r\nQ 2534 397 2845 478 \r\nQ 3156 559 3463 722 \r\nL 3463 178 \r\nQ 3153 47 2828 -22 \r\nQ 2503 -91 2169 -91 \r\nQ 1331 -91 842 396 \r\nQ 353 884 353 1716 \r\nQ 353 2575 817 3079 \r\nQ 1281 3584 2069 3584 \r\nQ 2775 3584 3186 3129 \r\nQ 3597 2675 3597 1894 \r\nz\r\nM 3022 2063 \r\nQ 3016 2534 2758 2815 \r\nQ 2500 3097 2075 3097 \r\nQ 1594 3097 1305 2825 \r\nQ 1016 2553 972 2059 \r\nL 3022 2063 \r\nz\r\n\" id=\"DejaVuSans-65\" transform=\"scale(0.015625)\"/>\r\n       <path d=\"M 1959 3097 \r\nQ 1497 3097 1228 2736 \r\nQ 959 2375 959 1747 \r\nQ 959 1119 1226 758 \r\nQ 1494 397 1959 397 \r\nQ 2419 397 2687 759 \r\nQ 2956 1122 2956 1747 \r\nQ 2956 2369 2687 2733 \r\nQ 2419 3097 1959 3097 \r\nz\r\nM 1959 3584 \r\nQ 2709 3584 3137 3096 \r\nQ 3566 2609 3566 1747 \r\nQ 3566 888 3137 398 \r\nQ 2709 -91 1959 -91 \r\nQ 1206 -91 779 398 \r\nQ 353 888 353 1747 \r\nQ 353 2609 779 3096 \r\nQ 1206 3584 1959 3584 \r\nz\r\n\" id=\"DejaVuSans-6f\" transform=\"scale(0.015625)\"/>\r\n       <path d=\"M 2631 2963 \r\nQ 2534 3019 2420 3045 \r\nQ 2306 3072 2169 3072 \r\nQ 1681 3072 1420 2755 \r\nQ 1159 2438 1159 1844 \r\nL 1159 0 \r\nL 581 0 \r\nL 581 3500 \r\nL 1159 3500 \r\nL 1159 2956 \r\nQ 1341 3275 1631 3429 \r\nQ 1922 3584 2338 3584 \r\nQ 2397 3584 2469 3576 \r\nQ 2541 3569 2628 3553 \r\nL 2631 2963 \r\nz\r\n\" id=\"DejaVuSans-72\" transform=\"scale(0.015625)\"/>\r\n       <path d=\"M 1172 4494 \r\nL 1172 3500 \r\nL 2356 3500 \r\nL 2356 3053 \r\nL 1172 3053 \r\nL 1172 1153 \r\nQ 1172 725 1289 603 \r\nQ 1406 481 1766 481 \r\nL 2356 481 \r\nL 2356 0 \r\nL 1766 0 \r\nQ 1100 0 847 248 \r\nQ 594 497 594 1153 \r\nL 594 3053 \r\nL 172 3053 \r\nL 172 3500 \r\nL 594 3500 \r\nL 594 4494 \r\nL 1172 4494 \r\nz\r\n\" id=\"DejaVuSans-74\" transform=\"scale(0.015625)\"/>\r\n       <path d=\"M 603 3500 \r\nL 1178 3500 \r\nL 1178 0 \r\nL 603 0 \r\nL 603 3500 \r\nz\r\nM 603 4863 \r\nL 1178 4863 \r\nL 1178 4134 \r\nL 603 4134 \r\nL 603 4863 \r\nz\r\n\" id=\"DejaVuSans-69\" transform=\"scale(0.015625)\"/>\r\n       <path d=\"M 3122 3366 \r\nL 3122 2828 \r\nQ 2878 2963 2633 3030 \r\nQ 2388 3097 2138 3097 \r\nQ 1578 3097 1268 2742 \r\nQ 959 2388 959 1747 \r\nQ 959 1106 1268 751 \r\nQ 1578 397 2138 397 \r\nQ 2388 397 2633 464 \r\nQ 2878 531 3122 666 \r\nL 3122 134 \r\nQ 2881 22 2623 -34 \r\nQ 2366 -91 2075 -91 \r\nQ 1284 -91 818 406 \r\nQ 353 903 353 1747 \r\nQ 353 2603 823 3093 \r\nQ 1294 3584 2113 3584 \r\nQ 2378 3584 2631 3529 \r\nQ 2884 3475 3122 3366 \r\nz\r\n\" id=\"DejaVuSans-63\" transform=\"scale(0.015625)\"/>\r\n       <path d=\"M 2194 1759 \r\nQ 1497 1759 1228 1600 \r\nQ 959 1441 959 1056 \r\nQ 959 750 1161 570 \r\nQ 1363 391 1709 391 \r\nQ 2188 391 2477 730 \r\nQ 2766 1069 2766 1631 \r\nL 2766 1759 \r\nL 2194 1759 \r\nz\r\nM 3341 1997 \r\nL 3341 0 \r\nL 2766 0 \r\nL 2766 531 \r\nQ 2569 213 2275 61 \r\nQ 1981 -91 1556 -91 \r\nQ 1019 -91 701 211 \r\nQ 384 513 384 1019 \r\nQ 384 1609 779 1909 \r\nQ 1175 2209 1959 2209 \r\nL 2766 2209 \r\nL 2766 2266 \r\nQ 2766 2663 2505 2880 \r\nQ 2244 3097 1772 3097 \r\nQ 1472 3097 1187 3025 \r\nQ 903 2953 641 2809 \r\nL 641 3341 \r\nQ 956 3463 1253 3523 \r\nQ 1550 3584 1831 3584 \r\nQ 2591 3584 2966 3190 \r\nQ 3341 2797 3341 1997 \r\nz\r\n\" id=\"DejaVuSans-61\" transform=\"scale(0.015625)\"/>\r\n       <path d=\"M 603 4863 \r\nL 1178 4863 \r\nL 1178 0 \r\nL 603 0 \r\nL 603 4863 \r\nz\r\n\" id=\"DejaVuSans-6c\" transform=\"scale(0.015625)\"/>\r\n       <path id=\"DejaVuSans-20\" transform=\"scale(0.015625)\"/>\r\n       <path d=\"M 947 1747 \r\nQ 947 1113 1208 752 \r\nQ 1469 391 1925 391 \r\nQ 2381 391 2643 752 \r\nQ 2906 1113 2906 1747 \r\nQ 2906 2381 2643 2742 \r\nQ 2381 3103 1925 3103 \r\nQ 1469 3103 1208 2742 \r\nQ 947 2381 947 1747 \r\nz\r\nM 2906 525 \r\nQ 2725 213 2448 61 \r\nQ 2172 -91 1784 -91 \r\nQ 1150 -91 751 415 \r\nQ 353 922 353 1747 \r\nQ 353 2572 751 3078 \r\nQ 1150 3584 1784 3584 \r\nQ 2172 3584 2448 3432 \r\nQ 2725 3281 2906 2969 \r\nL 2906 3500 \r\nL 3481 3500 \r\nL 3481 -1331 \r\nL 2906 -1331 \r\nL 2906 525 \r\nz\r\n\" id=\"DejaVuSans-71\" transform=\"scale(0.015625)\"/>\r\n       <path d=\"M 544 1381 \r\nL 544 3500 \r\nL 1119 3500 \r\nL 1119 1403 \r\nQ 1119 906 1312 657 \r\nQ 1506 409 1894 409 \r\nQ 2359 409 2629 706 \r\nQ 2900 1003 2900 1516 \r\nL 2900 3500 \r\nL 3475 3500 \r\nL 3475 0 \r\nL 2900 0 \r\nL 2900 538 \r\nQ 2691 219 2414 64 \r\nQ 2138 -91 1772 -91 \r\nQ 1169 -91 856 284 \r\nQ 544 659 544 1381 \r\nz\r\nM 1991 3584 \r\nL 1991 3584 \r\nz\r\n\" id=\"DejaVuSans-75\" transform=\"scale(0.015625)\"/>\r\n       <path d=\"M 3513 2113 \r\nL 3513 0 \r\nL 2938 0 \r\nL 2938 2094 \r\nQ 2938 2591 2744 2837 \r\nQ 2550 3084 2163 3084 \r\nQ 1697 3084 1428 2787 \r\nQ 1159 2491 1159 1978 \r\nL 1159 0 \r\nL 581 0 \r\nL 581 3500 \r\nL 1159 3500 \r\nL 1159 2956 \r\nQ 1366 3272 1645 3428 \r\nQ 1925 3584 2291 3584 \r\nQ 2894 3584 3203 3211 \r\nQ 3513 2838 3513 2113 \r\nz\r\n\" id=\"DejaVuSans-6e\" transform=\"scale(0.015625)\"/>\r\n       <path d=\"M 2834 3397 \r\nL 2834 2853 \r\nQ 2591 2978 2328 3040 \r\nQ 2066 3103 1784 3103 \r\nQ 1356 3103 1142 2972 \r\nQ 928 2841 928 2578 \r\nQ 928 2378 1081 2264 \r\nQ 1234 2150 1697 2047 \r\nL 1894 2003 \r\nQ 2506 1872 2764 1633 \r\nQ 3022 1394 3022 966 \r\nQ 3022 478 2636 193 \r\nQ 2250 -91 1575 -91 \r\nQ 1294 -91 989 -36 \r\nQ 684 19 347 128 \r\nL 347 722 \r\nQ 666 556 975 473 \r\nQ 1284 391 1588 391 \r\nQ 1994 391 2212 530 \r\nQ 2431 669 2431 922 \r\nQ 2431 1156 2273 1281 \r\nQ 2116 1406 1581 1522 \r\nL 1381 1569 \r\nQ 847 1681 609 1914 \r\nQ 372 2147 372 2553 \r\nQ 372 3047 722 3315 \r\nQ 1072 3584 1716 3584 \r\nQ 2034 3584 2315 3537 \r\nQ 2597 3491 2834 3397 \r\nz\r\n\" id=\"DejaVuSans-73\" transform=\"scale(0.015625)\"/>\r\n      </defs>\r\n      <use xlink:href=\"#DejaVuSans-54\"/>\r\n      <use x=\"61.083984\" xlink:href=\"#DejaVuSans-68\"/>\r\n      <use x=\"124.462891\" xlink:href=\"#DejaVuSans-65\"/>\r\n      <use x=\"185.986328\" xlink:href=\"#DejaVuSans-6f\"/>\r\n      <use x=\"247.167969\" xlink:href=\"#DejaVuSans-72\"/>\r\n      <use x=\"286.03125\" xlink:href=\"#DejaVuSans-65\"/>\r\n      <use x=\"347.554688\" xlink:href=\"#DejaVuSans-74\"/>\r\n      <use x=\"386.763672\" xlink:href=\"#DejaVuSans-69\"/>\r\n      <use x=\"414.546875\" xlink:href=\"#DejaVuSans-63\"/>\r\n      <use x=\"469.527344\" xlink:href=\"#DejaVuSans-61\"/>\r\n      <use x=\"530.806641\" xlink:href=\"#DejaVuSans-6c\"/>\r\n      <use x=\"558.589844\" xlink:href=\"#DejaVuSans-20\"/>\r\n      <use x=\"590.376953\" xlink:href=\"#DejaVuSans-71\"/>\r\n      <use x=\"653.853516\" xlink:href=\"#DejaVuSans-75\"/>\r\n      <use x=\"717.232422\" xlink:href=\"#DejaVuSans-61\"/>\r\n      <use x=\"778.511719\" xlink:href=\"#DejaVuSans-6e\"/>\r\n      <use x=\"841.890625\" xlink:href=\"#DejaVuSans-74\"/>\r\n      <use x=\"881.099609\" xlink:href=\"#DejaVuSans-69\"/>\r\n      <use x=\"908.882812\" xlink:href=\"#DejaVuSans-6c\"/>\r\n      <use x=\"936.666016\" xlink:href=\"#DejaVuSans-65\"/>\r\n      <use x=\"998.189453\" xlink:href=\"#DejaVuSans-73\"/>\r\n     </g>\r\n    </g>\r\n   </g>\r\n   <g id=\"matplotlib.axis_2\">\r\n    <g id=\"ytick_1\">\r\n     <g id=\"line2d_8\">\r\n      <defs>\r\n       <path d=\"M 0 0 \r\nL -3.5 0 \r\n\" id=\"me209ad2c07\" style=\"stroke:#000000;stroke-width:0.8;\"/>\r\n      </defs>\r\n      <g>\r\n       <use style=\"stroke:#000000;stroke-width:0.8;\" x=\"66.053125\" xlink:href=\"#me209ad2c07\" y=\"223.048282\"/>\r\n      </g>\r\n     </g>\r\n     <g id=\"text_9\">\r\n      <!-- 0 -->\r\n      <g transform=\"translate(52.690625 226.847501)scale(0.1 -0.1)\">\r\n       <use xlink:href=\"#DejaVuSans-30\"/>\r\n      </g>\r\n     </g>\r\n    </g>\r\n    <g id=\"ytick_2\">\r\n     <g id=\"line2d_9\">\r\n      <g>\r\n       <use style=\"stroke:#000000;stroke-width:0.8;\" x=\"66.053125\" xlink:href=\"#me209ad2c07\" y=\"187.975997\"/>\r\n      </g>\r\n     </g>\r\n     <g id=\"text_10\">\r\n      <!-- 20000 -->\r\n      <g transform=\"translate(27.240625 191.775216)scale(0.1 -0.1)\">\r\n       <use xlink:href=\"#DejaVuSans-32\"/>\r\n       <use x=\"63.623047\" xlink:href=\"#DejaVuSans-30\"/>\r\n       <use x=\"127.246094\" xlink:href=\"#DejaVuSans-30\"/>\r\n       <use x=\"190.869141\" xlink:href=\"#DejaVuSans-30\"/>\r\n       <use x=\"254.492188\" xlink:href=\"#DejaVuSans-30\"/>\r\n      </g>\r\n     </g>\r\n    </g>\r\n    <g id=\"ytick_3\">\r\n     <g id=\"line2d_10\">\r\n      <g>\r\n       <use style=\"stroke:#000000;stroke-width:0.8;\" x=\"66.053125\" xlink:href=\"#me209ad2c07\" y=\"152.903712\"/>\r\n      </g>\r\n     </g>\r\n     <g id=\"text_11\">\r\n      <!-- 40000 -->\r\n      <g transform=\"translate(27.240625 156.702931)scale(0.1 -0.1)\">\r\n       <defs>\r\n        <path d=\"M 2419 4116 \r\nL 825 1625 \r\nL 2419 1625 \r\nL 2419 4116 \r\nz\r\nM 2253 4666 \r\nL 3047 4666 \r\nL 3047 1625 \r\nL 3713 1625 \r\nL 3713 1100 \r\nL 3047 1100 \r\nL 3047 0 \r\nL 2419 0 \r\nL 2419 1100 \r\nL 313 1100 \r\nL 313 1709 \r\nL 2253 4666 \r\nz\r\n\" id=\"DejaVuSans-34\" transform=\"scale(0.015625)\"/>\r\n       </defs>\r\n       <use xlink:href=\"#DejaVuSans-34\"/>\r\n       <use x=\"63.623047\" xlink:href=\"#DejaVuSans-30\"/>\r\n       <use x=\"127.246094\" xlink:href=\"#DejaVuSans-30\"/>\r\n       <use x=\"190.869141\" xlink:href=\"#DejaVuSans-30\"/>\r\n       <use x=\"254.492188\" xlink:href=\"#DejaVuSans-30\"/>\r\n      </g>\r\n     </g>\r\n    </g>\r\n    <g id=\"ytick_4\">\r\n     <g id=\"line2d_11\">\r\n      <g>\r\n       <use style=\"stroke:#000000;stroke-width:0.8;\" x=\"66.053125\" xlink:href=\"#me209ad2c07\" y=\"117.831427\"/>\r\n      </g>\r\n     </g>\r\n     <g id=\"text_12\">\r\n      <!-- 60000 -->\r\n      <g transform=\"translate(27.240625 121.630646)scale(0.1 -0.1)\">\r\n       <defs>\r\n        <path d=\"M 2113 2584 \r\nQ 1688 2584 1439 2293 \r\nQ 1191 2003 1191 1497 \r\nQ 1191 994 1439 701 \r\nQ 1688 409 2113 409 \r\nQ 2538 409 2786 701 \r\nQ 3034 994 3034 1497 \r\nQ 3034 2003 2786 2293 \r\nQ 2538 2584 2113 2584 \r\nz\r\nM 3366 4563 \r\nL 3366 3988 \r\nQ 3128 4100 2886 4159 \r\nQ 2644 4219 2406 4219 \r\nQ 1781 4219 1451 3797 \r\nQ 1122 3375 1075 2522 \r\nQ 1259 2794 1537 2939 \r\nQ 1816 3084 2150 3084 \r\nQ 2853 3084 3261 2657 \r\nQ 3669 2231 3669 1497 \r\nQ 3669 778 3244 343 \r\nQ 2819 -91 2113 -91 \r\nQ 1303 -91 875 529 \r\nQ 447 1150 447 2328 \r\nQ 447 3434 972 4092 \r\nQ 1497 4750 2381 4750 \r\nQ 2619 4750 2861 4703 \r\nQ 3103 4656 3366 4563 \r\nz\r\n\" id=\"DejaVuSans-36\" transform=\"scale(0.015625)\"/>\r\n       </defs>\r\n       <use xlink:href=\"#DejaVuSans-36\"/>\r\n       <use x=\"63.623047\" xlink:href=\"#DejaVuSans-30\"/>\r\n       <use x=\"127.246094\" xlink:href=\"#DejaVuSans-30\"/>\r\n       <use x=\"190.869141\" xlink:href=\"#DejaVuSans-30\"/>\r\n       <use x=\"254.492188\" xlink:href=\"#DejaVuSans-30\"/>\r\n      </g>\r\n     </g>\r\n    </g>\r\n    <g id=\"ytick_5\">\r\n     <g id=\"line2d_12\">\r\n      <g>\r\n       <use style=\"stroke:#000000;stroke-width:0.8;\" x=\"66.053125\" xlink:href=\"#me209ad2c07\" y=\"82.759142\"/>\r\n      </g>\r\n     </g>\r\n     <g id=\"text_13\">\r\n      <!-- 80000 -->\r\n      <g transform=\"translate(27.240625 86.558361)scale(0.1 -0.1)\">\r\n       <defs>\r\n        <path d=\"M 2034 2216 \r\nQ 1584 2216 1326 1975 \r\nQ 1069 1734 1069 1313 \r\nQ 1069 891 1326 650 \r\nQ 1584 409 2034 409 \r\nQ 2484 409 2743 651 \r\nQ 3003 894 3003 1313 \r\nQ 3003 1734 2745 1975 \r\nQ 2488 2216 2034 2216 \r\nz\r\nM 1403 2484 \r\nQ 997 2584 770 2862 \r\nQ 544 3141 544 3541 \r\nQ 544 4100 942 4425 \r\nQ 1341 4750 2034 4750 \r\nQ 2731 4750 3128 4425 \r\nQ 3525 4100 3525 3541 \r\nQ 3525 3141 3298 2862 \r\nQ 3072 2584 2669 2484 \r\nQ 3125 2378 3379 2068 \r\nQ 3634 1759 3634 1313 \r\nQ 3634 634 3220 271 \r\nQ 2806 -91 2034 -91 \r\nQ 1263 -91 848 271 \r\nQ 434 634 434 1313 \r\nQ 434 1759 690 2068 \r\nQ 947 2378 1403 2484 \r\nz\r\nM 1172 3481 \r\nQ 1172 3119 1398 2916 \r\nQ 1625 2713 2034 2713 \r\nQ 2441 2713 2670 2916 \r\nQ 2900 3119 2900 3481 \r\nQ 2900 3844 2670 4047 \r\nQ 2441 4250 2034 4250 \r\nQ 1625 4250 1398 4047 \r\nQ 1172 3844 1172 3481 \r\nz\r\n\" id=\"DejaVuSans-38\" transform=\"scale(0.015625)\"/>\r\n       </defs>\r\n       <use xlink:href=\"#DejaVuSans-38\"/>\r\n       <use x=\"63.623047\" xlink:href=\"#DejaVuSans-30\"/>\r\n       <use x=\"127.246094\" xlink:href=\"#DejaVuSans-30\"/>\r\n       <use x=\"190.869141\" xlink:href=\"#DejaVuSans-30\"/>\r\n       <use x=\"254.492188\" xlink:href=\"#DejaVuSans-30\"/>\r\n      </g>\r\n     </g>\r\n    </g>\r\n    <g id=\"ytick_6\">\r\n     <g id=\"line2d_13\">\r\n      <g>\r\n       <use style=\"stroke:#000000;stroke-width:0.8;\" x=\"66.053125\" xlink:href=\"#me209ad2c07\" y=\"47.686857\"/>\r\n      </g>\r\n     </g>\r\n     <g id=\"text_14\">\r\n      <!-- 100000 -->\r\n      <g transform=\"translate(20.878125 51.486076)scale(0.1 -0.1)\">\r\n       <use xlink:href=\"#DejaVuSans-31\"/>\r\n       <use x=\"63.623047\" xlink:href=\"#DejaVuSans-30\"/>\r\n       <use x=\"127.246094\" xlink:href=\"#DejaVuSans-30\"/>\r\n       <use x=\"190.869141\" xlink:href=\"#DejaVuSans-30\"/>\r\n       <use x=\"254.492188\" xlink:href=\"#DejaVuSans-30\"/>\r\n       <use x=\"318.115234\" xlink:href=\"#DejaVuSans-30\"/>\r\n      </g>\r\n     </g>\r\n    </g>\r\n    <g id=\"text_15\">\r\n     <!-- Ordered Values -->\r\n     <g transform=\"translate(14.798438 169.311562)rotate(-90)scale(0.1 -0.1)\">\r\n      <defs>\r\n       <path d=\"M 2522 4238 \r\nQ 1834 4238 1429 3725 \r\nQ 1025 3213 1025 2328 \r\nQ 1025 1447 1429 934 \r\nQ 1834 422 2522 422 \r\nQ 3209 422 3611 934 \r\nQ 4013 1447 4013 2328 \r\nQ 4013 3213 3611 3725 \r\nQ 3209 4238 2522 4238 \r\nz\r\nM 2522 4750 \r\nQ 3503 4750 4090 4092 \r\nQ 4678 3434 4678 2328 \r\nQ 4678 1225 4090 567 \r\nQ 3503 -91 2522 -91 \r\nQ 1538 -91 948 565 \r\nQ 359 1222 359 2328 \r\nQ 359 3434 948 4092 \r\nQ 1538 4750 2522 4750 \r\nz\r\n\" id=\"DejaVuSans-4f\" transform=\"scale(0.015625)\"/>\r\n       <path d=\"M 2906 2969 \r\nL 2906 4863 \r\nL 3481 4863 \r\nL 3481 0 \r\nL 2906 0 \r\nL 2906 525 \r\nQ 2725 213 2448 61 \r\nQ 2172 -91 1784 -91 \r\nQ 1150 -91 751 415 \r\nQ 353 922 353 1747 \r\nQ 353 2572 751 3078 \r\nQ 1150 3584 1784 3584 \r\nQ 2172 3584 2448 3432 \r\nQ 2725 3281 2906 2969 \r\nz\r\nM 947 1747 \r\nQ 947 1113 1208 752 \r\nQ 1469 391 1925 391 \r\nQ 2381 391 2643 752 \r\nQ 2906 1113 2906 1747 \r\nQ 2906 2381 2643 2742 \r\nQ 2381 3103 1925 3103 \r\nQ 1469 3103 1208 2742 \r\nQ 947 2381 947 1747 \r\nz\r\n\" id=\"DejaVuSans-64\" transform=\"scale(0.015625)\"/>\r\n       <path d=\"M 1831 0 \r\nL 50 4666 \r\nL 709 4666 \r\nL 2188 738 \r\nL 3669 4666 \r\nL 4325 4666 \r\nL 2547 0 \r\nL 1831 0 \r\nz\r\n\" id=\"DejaVuSans-56\" transform=\"scale(0.015625)\"/>\r\n      </defs>\r\n      <use xlink:href=\"#DejaVuSans-4f\"/>\r\n      <use x=\"78.710938\" xlink:href=\"#DejaVuSans-72\"/>\r\n      <use x=\"118.074219\" xlink:href=\"#DejaVuSans-64\"/>\r\n      <use x=\"181.550781\" xlink:href=\"#DejaVuSans-65\"/>\r\n      <use x=\"243.074219\" xlink:href=\"#DejaVuSans-72\"/>\r\n      <use x=\"281.9375\" xlink:href=\"#DejaVuSans-65\"/>\r\n      <use x=\"343.460938\" xlink:href=\"#DejaVuSans-64\"/>\r\n      <use x=\"406.9375\" xlink:href=\"#DejaVuSans-20\"/>\r\n      <use x=\"438.724609\" xlink:href=\"#DejaVuSans-56\"/>\r\n      <use x=\"499.382812\" xlink:href=\"#DejaVuSans-61\"/>\r\n      <use x=\"560.662109\" xlink:href=\"#DejaVuSans-6c\"/>\r\n      <use x=\"588.445312\" xlink:href=\"#DejaVuSans-75\"/>\r\n      <use x=\"651.824219\" xlink:href=\"#DejaVuSans-65\"/>\r\n      <use x=\"713.347656\" xlink:href=\"#DejaVuSans-73\"/>\r\n     </g>\r\n    </g>\r\n   </g>\r\n   <g id=\"line2d_14\">\r\n    <defs>\r\n     <path d=\"M 0 3 \r\nC 0.795609 3 1.55874 2.683901 2.12132 2.12132 \r\nC 2.683901 1.55874 3 0.795609 3 0 \r\nC 3 -0.795609 2.683901 -1.55874 2.12132 -2.12132 \r\nC 1.55874 -2.683901 0.795609 -3 0 -3 \r\nC -0.795609 -3 -1.55874 -2.683901 -2.12132 -2.12132 \r\nC -2.683901 -1.55874 -3 -0.795609 -3 0 \r\nC -3 0.795609 -2.683901 1.55874 -2.12132 2.12132 \r\nC -1.55874 2.683901 -0.795609 3 0 3 \r\nz\r\n\" id=\"m1f59c9d920\" style=\"stroke:#0000ff;\"/>\r\n    </defs>\r\n    <g clip-path=\"url(#p7f13c4e4af)\">\r\n     <use style=\"fill:#0000ff;stroke:#0000ff;\" x=\"81.271307\" xlink:href=\"#m1f59c9d920\" y=\"203.23716\"/>\r\n     <use style=\"fill:#0000ff;stroke:#0000ff;\" x=\"97.194886\" xlink:href=\"#m1f59c9d920\" y=\"200.905394\"/>\r\n     <use style=\"fill:#0000ff;stroke:#0000ff;\" x=\"106.211059\" xlink:href=\"#m1f59c9d920\" y=\"200.77533\"/>\r\n     <use style=\"fill:#0000ff;stroke:#0000ff;\" x=\"112.636101\" xlink:href=\"#m1f59c9d920\" y=\"200.040854\"/>\r\n     <use style=\"fill:#0000ff;stroke:#0000ff;\" x=\"117.691204\" xlink:href=\"#m1f59c9d920\" y=\"199.179697\"/>\r\n     <use style=\"fill:#0000ff;stroke:#0000ff;\" x=\"121.890811\" xlink:href=\"#m1f59c9d920\" y=\"198.994651\"/>\r\n     <use style=\"fill:#0000ff;stroke:#0000ff;\" x=\"125.50228\" xlink:href=\"#m1f59c9d920\" y=\"198.167248\"/>\r\n     <use style=\"fill:#0000ff;stroke:#0000ff;\" x=\"128.683086\" xlink:href=\"#m1f59c9d920\" y=\"196.453061\"/>\r\n     <use style=\"fill:#0000ff;stroke:#0000ff;\" x=\"131.534111\" xlink:href=\"#m1f59c9d920\" y=\"196.305892\"/>\r\n     <use style=\"fill:#0000ff;stroke:#0000ff;\" x=\"134.124022\" xlink:href=\"#m1f59c9d920\" y=\"195.792061\"/>\r\n     <use style=\"fill:#0000ff;stroke:#0000ff;\" x=\"136.501758\" xlink:href=\"#m1f59c9d920\" y=\"195.222156\"/>\r\n     <use style=\"fill:#0000ff;stroke:#0000ff;\" x=\"138.703472\" xlink:href=\"#m1f59c9d920\" y=\"194.799839\"/>\r\n     <use style=\"fill:#0000ff;stroke:#0000ff;\" x=\"140.756664\" xlink:href=\"#m1f59c9d920\" y=\"193.959787\"/>\r\n     <use style=\"fill:#0000ff;stroke:#0000ff;\" x=\"142.682757\" xlink:href=\"#m1f59c9d920\" y=\"193.936433\"/>\r\n     <use style=\"fill:#0000ff;stroke:#0000ff;\" x=\"144.498779\" xlink:href=\"#m1f59c9d920\" y=\"192.949791\"/>\r\n     <use style=\"fill:#0000ff;stroke:#0000ff;\" x=\"146.218496\" xlink:href=\"#m1f59c9d920\" y=\"192.581656\"/>\r\n     <use style=\"fill:#0000ff;stroke:#0000ff;\" x=\"147.853204\" xlink:href=\"#m1f59c9d920\" y=\"192.368801\"/>\r\n     <use style=\"fill:#0000ff;stroke:#0000ff;\" x=\"149.412293\" xlink:href=\"#m1f59c9d920\" y=\"192.19189\"/>\r\n     <use style=\"fill:#0000ff;stroke:#0000ff;\" x=\"150.903652\" xlink:href=\"#m1f59c9d920\" y=\"192.111199\"/>\r\n     <use style=\"fill:#0000ff;stroke:#0000ff;\" x=\"152.33398\" xlink:href=\"#m1f59c9d920\" y=\"192.034086\"/>\r\n     <use style=\"fill:#0000ff;stroke:#0000ff;\" x=\"153.709014\" xlink:href=\"#m1f59c9d920\" y=\"191.842293\"/>\r\n     <use style=\"fill:#0000ff;stroke:#0000ff;\" x=\"155.033706\" xlink:href=\"#m1f59c9d920\" y=\"191.26251\"/>\r\n     <use style=\"fill:#0000ff;stroke:#0000ff;\" x=\"156.312365\" xlink:href=\"#m1f59c9d920\" y=\"191.109124\"/>\r\n     <use style=\"fill:#0000ff;stroke:#0000ff;\" x=\"157.54876\" xlink:href=\"#m1f59c9d920\" y=\"190.835797\"/>\r\n     <use style=\"fill:#0000ff;stroke:#0000ff;\" x=\"158.74621\" xlink:href=\"#m1f59c9d920\" y=\"190.622232\"/>\r\n     <use style=\"fill:#0000ff;stroke:#0000ff;\" x=\"159.907653\" xlink:href=\"#m1f59c9d920\" y=\"188.954062\"/>\r\n     <use style=\"fill:#0000ff;stroke:#0000ff;\" x=\"161.035705\" xlink:href=\"#m1f59c9d920\" y=\"187.729547\"/>\r\n     <use style=\"fill:#0000ff;stroke:#0000ff;\" x=\"162.132702\" xlink:href=\"#m1f59c9d920\" y=\"187.492497\"/>\r\n     <use style=\"fill:#0000ff;stroke:#0000ff;\" x=\"163.200742\" xlink:href=\"#m1f59c9d920\" y=\"186.703434\"/>\r\n     <use style=\"fill:#0000ff;stroke:#0000ff;\" x=\"164.241716\" xlink:href=\"#m1f59c9d920\" y=\"186.267848\"/>\r\n     <use style=\"fill:#0000ff;stroke:#0000ff;\" x=\"165.257333\" xlink:href=\"#m1f59c9d920\" y=\"186.056668\"/>\r\n     <use style=\"fill:#0000ff;stroke:#0000ff;\" x=\"166.249146\" xlink:href=\"#m1f59c9d920\" y=\"184.525037\"/>\r\n     <use style=\"fill:#0000ff;stroke:#0000ff;\" x=\"167.218569\" xlink:href=\"#m1f59c9d920\" y=\"184.340663\"/>\r\n     <use style=\"fill:#0000ff;stroke:#0000ff;\" x=\"168.166891\" xlink:href=\"#m1f59c9d920\" y=\"184.059016\"/>\r\n     <use style=\"fill:#0000ff;stroke:#0000ff;\" x=\"169.095296\" xlink:href=\"#m1f59c9d920\" y=\"183.964116\"/>\r\n     <use style=\"fill:#0000ff;stroke:#0000ff;\" x=\"170.004869\" xlink:href=\"#m1f59c9d920\" y=\"183.857873\"/>\r\n     <use style=\"fill:#0000ff;stroke:#0000ff;\" x=\"170.896609\" xlink:href=\"#m1f59c9d920\" y=\"183.852508\"/>\r\n     <use style=\"fill:#0000ff;stroke:#0000ff;\" x=\"171.771438\" xlink:href=\"#m1f59c9d920\" y=\"183.694785\"/>\r\n     <use style=\"fill:#0000ff;stroke:#0000ff;\" x=\"172.63021\" xlink:href=\"#m1f59c9d920\" y=\"183.659766\"/>\r\n     <use style=\"fill:#0000ff;stroke:#0000ff;\" x=\"173.473716\" xlink:href=\"#m1f59c9d920\" y=\"181.946979\"/>\r\n     <use style=\"fill:#0000ff;stroke:#0000ff;\" x=\"174.302689\" xlink:href=\"#m1f59c9d920\" y=\"181.180276\"/>\r\n     <use style=\"fill:#0000ff;stroke:#0000ff;\" x=\"175.117812\" xlink:href=\"#m1f59c9d920\" y=\"181.05851\"/>\r\n     <use style=\"fill:#0000ff;stroke:#0000ff;\" x=\"175.919723\" xlink:href=\"#m1f59c9d920\" y=\"180.943341\"/>\r\n     <use style=\"fill:#0000ff;stroke:#0000ff;\" x=\"176.709015\" xlink:href=\"#m1f59c9d920\" y=\"180.338233\"/>\r\n     <use style=\"fill:#0000ff;stroke:#0000ff;\" x=\"177.486246\" xlink:href=\"#m1f59c9d920\" y=\"179.435767\"/>\r\n     <use style=\"fill:#0000ff;stroke:#0000ff;\" x=\"178.251936\" xlink:href=\"#m1f59c9d920\" y=\"179.314958\"/>\r\n     <use style=\"fill:#0000ff;stroke:#0000ff;\" x=\"179.006573\" xlink:href=\"#m1f59c9d920\" y=\"179.148208\"/>\r\n     <use style=\"fill:#0000ff;stroke:#0000ff;\" x=\"179.750618\" xlink:href=\"#m1f59c9d920\" y=\"176.950886\"/>\r\n     <use style=\"fill:#0000ff;stroke:#0000ff;\" x=\"180.484502\" xlink:href=\"#m1f59c9d920\" y=\"175.031025\"/>\r\n     <use style=\"fill:#0000ff;stroke:#0000ff;\" x=\"181.208633\" xlink:href=\"#m1f59c9d920\" y=\"174.885291\"/>\r\n     <use style=\"fill:#0000ff;stroke:#0000ff;\" x=\"181.923394\" xlink:href=\"#m1f59c9d920\" y=\"174.64451\"/>\r\n     <use style=\"fill:#0000ff;stroke:#0000ff;\" x=\"182.629148\" xlink:href=\"#m1f59c9d920\" y=\"172.232002\"/>\r\n     <use style=\"fill:#0000ff;stroke:#0000ff;\" x=\"183.326238\" xlink:href=\"#m1f59c9d920\" y=\"170.317364\"/>\r\n     <use style=\"fill:#0000ff;stroke:#0000ff;\" x=\"184.014989\" xlink:href=\"#m1f59c9d920\" y=\"167.338429\"/>\r\n     <use style=\"fill:#0000ff;stroke:#0000ff;\" x=\"184.695708\" xlink:href=\"#m1f59c9d920\" y=\"166.909677\"/>\r\n     <use style=\"fill:#0000ff;stroke:#0000ff;\" x=\"185.368689\" xlink:href=\"#m1f59c9d920\" y=\"164.800361\"/>\r\n     <use style=\"fill:#0000ff;stroke:#0000ff;\" x=\"186.034207\" xlink:href=\"#m1f59c9d920\" y=\"164.068974\"/>\r\n     <use style=\"fill:#0000ff;stroke:#0000ff;\" x=\"186.692526\" xlink:href=\"#m1f59c9d920\" y=\"163.41654\"/>\r\n     <use style=\"fill:#0000ff;stroke:#0000ff;\" x=\"187.343898\" xlink:href=\"#m1f59c9d920\" y=\"162.664529\"/>\r\n     <use style=\"fill:#0000ff;stroke:#0000ff;\" x=\"187.988561\" xlink:href=\"#m1f59c9d920\" y=\"160.822403\"/>\r\n     <use style=\"fill:#0000ff;stroke:#0000ff;\" x=\"188.626743\" xlink:href=\"#m1f59c9d920\" y=\"159.892912\"/>\r\n     <use style=\"fill:#0000ff;stroke:#0000ff;\" x=\"189.258661\" xlink:href=\"#m1f59c9d920\" y=\"159.738995\"/>\r\n     <use style=\"fill:#0000ff;stroke:#0000ff;\" x=\"189.884523\" xlink:href=\"#m1f59c9d920\" y=\"159.014104\"/>\r\n     <use style=\"fill:#0000ff;stroke:#0000ff;\" x=\"190.504527\" xlink:href=\"#m1f59c9d920\" y=\"158.650303\"/>\r\n     <use style=\"fill:#0000ff;stroke:#0000ff;\" x=\"191.118863\" xlink:href=\"#m1f59c9d920\" y=\"157.406568\"/>\r\n     <use style=\"fill:#0000ff;stroke:#0000ff;\" x=\"191.727712\" xlink:href=\"#m1f59c9d920\" y=\"157.330735\"/>\r\n     <use style=\"fill:#0000ff;stroke:#0000ff;\" x=\"192.331249\" xlink:href=\"#m1f59c9d920\" y=\"156.618157\"/>\r\n     <use style=\"fill:#0000ff;stroke:#0000ff;\" x=\"192.92964\" xlink:href=\"#m1f59c9d920\" y=\"155.01025\"/>\r\n     <use style=\"fill:#0000ff;stroke:#0000ff;\" x=\"193.523045\" xlink:href=\"#m1f59c9d920\" y=\"153.962269\"/>\r\n     <use style=\"fill:#0000ff;stroke:#0000ff;\" x=\"194.111618\" xlink:href=\"#m1f59c9d920\" y=\"152.984401\"/>\r\n     <use style=\"fill:#0000ff;stroke:#0000ff;\" x=\"194.695507\" xlink:href=\"#m1f59c9d920\" y=\"152.400365\"/>\r\n     <use style=\"fill:#0000ff;stroke:#0000ff;\" x=\"195.274852\" xlink:href=\"#m1f59c9d920\" y=\"151.761218\"/>\r\n     <use style=\"fill:#0000ff;stroke:#0000ff;\" x=\"195.849792\" xlink:href=\"#m1f59c9d920\" y=\"151.579977\"/>\r\n     <use style=\"fill:#0000ff;stroke:#0000ff;\" x=\"196.420456\" xlink:href=\"#m1f59c9d920\" y=\"151.435887\"/>\r\n     <use style=\"fill:#0000ff;stroke:#0000ff;\" x=\"196.986972\" xlink:href=\"#m1f59c9d920\" y=\"151.361259\"/>\r\n     <use style=\"fill:#0000ff;stroke:#0000ff;\" x=\"197.549462\" xlink:href=\"#m1f59c9d920\" y=\"150.902469\"/>\r\n     <use style=\"fill:#0000ff;stroke:#0000ff;\" x=\"198.108044\" xlink:href=\"#m1f59c9d920\" y=\"150.506522\"/>\r\n     <use style=\"fill:#0000ff;stroke:#0000ff;\" x=\"198.66283\" xlink:href=\"#m1f59c9d920\" y=\"149.988528\"/>\r\n     <use style=\"fill:#0000ff;stroke:#0000ff;\" x=\"199.21393\" xlink:href=\"#m1f59c9d920\" y=\"149.843694\"/>\r\n     <use style=\"fill:#0000ff;stroke:#0000ff;\" x=\"199.761451\" xlink:href=\"#m1f59c9d920\" y=\"149.681682\"/>\r\n     <use style=\"fill:#0000ff;stroke:#0000ff;\" x=\"200.305495\" xlink:href=\"#m1f59c9d920\" y=\"149.112234\"/>\r\n     <use style=\"fill:#0000ff;stroke:#0000ff;\" x=\"200.84616\" xlink:href=\"#m1f59c9d920\" y=\"148.618936\"/>\r\n     <use style=\"fill:#0000ff;stroke:#0000ff;\" x=\"201.383543\" xlink:href=\"#m1f59c9d920\" y=\"148.523869\"/>\r\n     <use style=\"fill:#0000ff;stroke:#0000ff;\" x=\"201.917736\" xlink:href=\"#m1f59c9d920\" y=\"148.357912\"/>\r\n     <use style=\"fill:#0000ff;stroke:#0000ff;\" x=\"202.448829\" xlink:href=\"#m1f59c9d920\" y=\"148.162815\"/>\r\n     <use style=\"fill:#0000ff;stroke:#0000ff;\" x=\"202.976909\" xlink:href=\"#m1f59c9d920\" y=\"148.062245\"/>\r\n     <use style=\"fill:#0000ff;stroke:#0000ff;\" x=\"203.50206\" xlink:href=\"#m1f59c9d920\" y=\"148.055483\"/>\r\n     <use style=\"fill:#0000ff;stroke:#0000ff;\" x=\"204.024366\" xlink:href=\"#m1f59c9d920\" y=\"147.710967\"/>\r\n     <use style=\"fill:#0000ff;stroke:#0000ff;\" x=\"204.543904\" xlink:href=\"#m1f59c9d920\" y=\"147.703713\"/>\r\n     <use style=\"fill:#0000ff;stroke:#0000ff;\" x=\"205.060752\" xlink:href=\"#m1f59c9d920\" y=\"147.224693\"/>\r\n     <use style=\"fill:#0000ff;stroke:#0000ff;\" x=\"205.574986\" xlink:href=\"#m1f59c9d920\" y=\"146.718852\"/>\r\n     <use style=\"fill:#0000ff;stroke:#0000ff;\" x=\"206.086678\" xlink:href=\"#m1f59c9d920\" y=\"146.517989\"/>\r\n     <use style=\"fill:#0000ff;stroke:#0000ff;\" x=\"206.5959\" xlink:href=\"#m1f59c9d920\" y=\"146.393483\"/>\r\n     <use style=\"fill:#0000ff;stroke:#0000ff;\" x=\"207.10272\" xlink:href=\"#m1f59c9d920\" y=\"146.263096\"/>\r\n     <use style=\"fill:#0000ff;stroke:#0000ff;\" x=\"207.607205\" xlink:href=\"#m1f59c9d920\" y=\"146.245342\"/>\r\n     <use style=\"fill:#0000ff;stroke:#0000ff;\" x=\"208.109422\" xlink:href=\"#m1f59c9d920\" y=\"146.035467\"/>\r\n     <use style=\"fill:#0000ff;stroke:#0000ff;\" x=\"208.609433\" xlink:href=\"#m1f59c9d920\" y=\"145.639675\"/>\r\n     <use style=\"fill:#0000ff;stroke:#0000ff;\" x=\"209.107302\" xlink:href=\"#m1f59c9d920\" y=\"145.457781\"/>\r\n     <use style=\"fill:#0000ff;stroke:#0000ff;\" x=\"209.603088\" xlink:href=\"#m1f59c9d920\" y=\"145.270296\"/>\r\n     <use style=\"fill:#0000ff;stroke:#0000ff;\" x=\"210.096851\" xlink:href=\"#m1f59c9d920\" y=\"144.892281\"/>\r\n     <use style=\"fill:#0000ff;stroke:#0000ff;\" x=\"210.58865\" xlink:href=\"#m1f59c9d920\" y=\"144.299927\"/>\r\n     <use style=\"fill:#0000ff;stroke:#0000ff;\" x=\"211.078539\" xlink:href=\"#m1f59c9d920\" y=\"144.152556\"/>\r\n     <use style=\"fill:#0000ff;stroke:#0000ff;\" x=\"211.566575\" xlink:href=\"#m1f59c9d920\" y=\"142.983335\"/>\r\n     <use style=\"fill:#0000ff;stroke:#0000ff;\" x=\"212.052812\" xlink:href=\"#m1f59c9d920\" y=\"142.746646\"/>\r\n     <use style=\"fill:#0000ff;stroke:#0000ff;\" x=\"212.537302\" xlink:href=\"#m1f59c9d920\" y=\"142.585943\"/>\r\n     <use style=\"fill:#0000ff;stroke:#0000ff;\" x=\"213.020096\" xlink:href=\"#m1f59c9d920\" y=\"142.511849\"/>\r\n     <use style=\"fill:#0000ff;stroke:#0000ff;\" x=\"213.501246\" xlink:href=\"#m1f59c9d920\" y=\"142.35858\"/>\r\n     <use style=\"fill:#0000ff;stroke:#0000ff;\" x=\"213.980801\" xlink:href=\"#m1f59c9d920\" y=\"141.932831\"/>\r\n     <use style=\"fill:#0000ff;stroke:#0000ff;\" x=\"214.45881\" xlink:href=\"#m1f59c9d920\" y=\"141.642208\"/>\r\n     <use style=\"fill:#0000ff;stroke:#0000ff;\" x=\"214.935319\" xlink:href=\"#m1f59c9d920\" y=\"141.444834\"/>\r\n     <use style=\"fill:#0000ff;stroke:#0000ff;\" x=\"215.410376\" xlink:href=\"#m1f59c9d920\" y=\"141.202005\"/>\r\n     <use style=\"fill:#0000ff;stroke:#0000ff;\" x=\"215.884026\" xlink:href=\"#m1f59c9d920\" y=\"140.844675\"/>\r\n     <use style=\"fill:#0000ff;stroke:#0000ff;\" x=\"216.356314\" xlink:href=\"#m1f59c9d920\" y=\"139.942579\"/>\r\n     <use style=\"fill:#0000ff;stroke:#0000ff;\" x=\"216.827285\" xlink:href=\"#m1f59c9d920\" y=\"139.800242\"/>\r\n     <use style=\"fill:#0000ff;stroke:#0000ff;\" x=\"217.296982\" xlink:href=\"#m1f59c9d920\" y=\"139.711714\"/>\r\n     <use style=\"fill:#0000ff;stroke:#0000ff;\" x=\"217.765446\" xlink:href=\"#m1f59c9d920\" y=\"139.691458\"/>\r\n     <use style=\"fill:#0000ff;stroke:#0000ff;\" x=\"218.232721\" xlink:href=\"#m1f59c9d920\" y=\"139.643876\"/>\r\n     <use style=\"fill:#0000ff;stroke:#0000ff;\" x=\"218.698848\" xlink:href=\"#m1f59c9d920\" y=\"139.585321\"/>\r\n     <use style=\"fill:#0000ff;stroke:#0000ff;\" x=\"219.163866\" xlink:href=\"#m1f59c9d920\" y=\"139.082175\"/>\r\n     <use style=\"fill:#0000ff;stroke:#0000ff;\" x=\"219.627816\" xlink:href=\"#m1f59c9d920\" y=\"138.999252\"/>\r\n     <use style=\"fill:#0000ff;stroke:#0000ff;\" x=\"220.090737\" xlink:href=\"#m1f59c9d920\" y=\"138.877587\"/>\r\n     <use style=\"fill:#0000ff;stroke:#0000ff;\" x=\"220.552668\" xlink:href=\"#m1f59c9d920\" y=\"138.872408\"/>\r\n     <use style=\"fill:#0000ff;stroke:#0000ff;\" x=\"221.013647\" xlink:href=\"#m1f59c9d920\" y=\"138.662946\"/>\r\n     <use style=\"fill:#0000ff;stroke:#0000ff;\" x=\"221.473713\" xlink:href=\"#m1f59c9d920\" y=\"138.612913\"/>\r\n     <use style=\"fill:#0000ff;stroke:#0000ff;\" x=\"221.932901\" xlink:href=\"#m1f59c9d920\" y=\"137.971062\"/>\r\n     <use style=\"fill:#0000ff;stroke:#0000ff;\" x=\"222.391249\" xlink:href=\"#m1f59c9d920\" y=\"137.77465\"/>\r\n     <use style=\"fill:#0000ff;stroke:#0000ff;\" x=\"222.848794\" xlink:href=\"#m1f59c9d920\" y=\"137.613805\"/>\r\n     <use style=\"fill:#0000ff;stroke:#0000ff;\" x=\"223.30557\" xlink:href=\"#m1f59c9d920\" y=\"137.127495\"/>\r\n     <use style=\"fill:#0000ff;stroke:#0000ff;\" x=\"223.761614\" xlink:href=\"#m1f59c9d920\" y=\"137.113044\"/>\r\n     <use style=\"fill:#0000ff;stroke:#0000ff;\" x=\"224.216961\" xlink:href=\"#m1f59c9d920\" y=\"136.984326\"/>\r\n     <use style=\"fill:#0000ff;stroke:#0000ff;\" x=\"224.671646\" xlink:href=\"#m1f59c9d920\" y=\"136.982059\"/>\r\n     <use style=\"fill:#0000ff;stroke:#0000ff;\" x=\"225.125702\" xlink:href=\"#m1f59c9d920\" y=\"136.761365\"/>\r\n     <use style=\"fill:#0000ff;stroke:#0000ff;\" x=\"225.579164\" xlink:href=\"#m1f59c9d920\" y=\"136.680779\"/>\r\n     <use style=\"fill:#0000ff;stroke:#0000ff;\" x=\"226.032066\" xlink:href=\"#m1f59c9d920\" y=\"136.309097\"/>\r\n     <use style=\"fill:#0000ff;stroke:#0000ff;\" x=\"226.484441\" xlink:href=\"#m1f59c9d920\" y=\"135.646065\"/>\r\n     <use style=\"fill:#0000ff;stroke:#0000ff;\" x=\"226.936322\" xlink:href=\"#m1f59c9d920\" y=\"135.329822\"/>\r\n     <use style=\"fill:#0000ff;stroke:#0000ff;\" x=\"227.387743\" xlink:href=\"#m1f59c9d920\" y=\"135.237217\"/>\r\n     <use style=\"fill:#0000ff;stroke:#0000ff;\" x=\"227.838736\" xlink:href=\"#m1f59c9d920\" y=\"135.173531\"/>\r\n     <use style=\"fill:#0000ff;stroke:#0000ff;\" x=\"228.289333\" xlink:href=\"#m1f59c9d920\" y=\"134.646969\"/>\r\n     <use style=\"fill:#0000ff;stroke:#0000ff;\" x=\"228.739568\" xlink:href=\"#m1f59c9d920\" y=\"134.592888\"/>\r\n     <use style=\"fill:#0000ff;stroke:#0000ff;\" x=\"229.189472\" xlink:href=\"#m1f59c9d920\" y=\"134.235814\"/>\r\n     <use style=\"fill:#0000ff;stroke:#0000ff;\" x=\"229.639077\" xlink:href=\"#m1f59c9d920\" y=\"134.100706\"/>\r\n     <use style=\"fill:#0000ff;stroke:#0000ff;\" x=\"230.088415\" xlink:href=\"#m1f59c9d920\" y=\"134.094706\"/>\r\n     <use style=\"fill:#0000ff;stroke:#0000ff;\" x=\"230.537517\" xlink:href=\"#m1f59c9d920\" y=\"134.019139\"/>\r\n     <use style=\"fill:#0000ff;stroke:#0000ff;\" x=\"230.986416\" xlink:href=\"#m1f59c9d920\" y=\"133.785618\"/>\r\n     <use style=\"fill:#0000ff;stroke:#0000ff;\" x=\"231.435143\" xlink:href=\"#m1f59c9d920\" y=\"133.505483\"/>\r\n     <use style=\"fill:#0000ff;stroke:#0000ff;\" x=\"231.88373\" xlink:href=\"#m1f59c9d920\" y=\"133.446758\"/>\r\n     <use style=\"fill:#0000ff;stroke:#0000ff;\" x=\"232.332206\" xlink:href=\"#m1f59c9d920\" y=\"133.431606\"/>\r\n     <use style=\"fill:#0000ff;stroke:#0000ff;\" x=\"232.780605\" xlink:href=\"#m1f59c9d920\" y=\"133.34259\"/>\r\n     <use style=\"fill:#0000ff;stroke:#0000ff;\" x=\"233.228957\" xlink:href=\"#m1f59c9d920\" y=\"132.694558\"/>\r\n     <use style=\"fill:#0000ff;stroke:#0000ff;\" x=\"233.677293\" xlink:href=\"#m1f59c9d920\" y=\"132.568095\"/>\r\n     <use style=\"fill:#0000ff;stroke:#0000ff;\" x=\"234.125645\" xlink:href=\"#m1f59c9d920\" y=\"132.47511\"/>\r\n     <use style=\"fill:#0000ff;stroke:#0000ff;\" x=\"234.574044\" xlink:href=\"#m1f59c9d920\" y=\"132.473926\"/>\r\n     <use style=\"fill:#0000ff;stroke:#0000ff;\" x=\"235.02252\" xlink:href=\"#m1f59c9d920\" y=\"132.251081\"/>\r\n     <use style=\"fill:#0000ff;stroke:#0000ff;\" x=\"235.471107\" xlink:href=\"#m1f59c9d920\" y=\"131.701837\"/>\r\n     <use style=\"fill:#0000ff;stroke:#0000ff;\" x=\"235.919834\" xlink:href=\"#m1f59c9d920\" y=\"131.629056\"/>\r\n     <use style=\"fill:#0000ff;stroke:#0000ff;\" x=\"236.368733\" xlink:href=\"#m1f59c9d920\" y=\"131.593302\"/>\r\n     <use style=\"fill:#0000ff;stroke:#0000ff;\" x=\"236.817835\" xlink:href=\"#m1f59c9d920\" y=\"131.564874\"/>\r\n     <use style=\"fill:#0000ff;stroke:#0000ff;\" x=\"237.267173\" xlink:href=\"#m1f59c9d920\" y=\"131.451354\"/>\r\n     <use style=\"fill:#0000ff;stroke:#0000ff;\" x=\"237.716778\" xlink:href=\"#m1f59c9d920\" y=\"131.015231\"/>\r\n     <use style=\"fill:#0000ff;stroke:#0000ff;\" x=\"238.166682\" xlink:href=\"#m1f59c9d920\" y=\"130.971585\"/>\r\n     <use style=\"fill:#0000ff;stroke:#0000ff;\" x=\"238.616917\" xlink:href=\"#m1f59c9d920\" y=\"130.949643\"/>\r\n     <use style=\"fill:#0000ff;stroke:#0000ff;\" x=\"239.067514\" xlink:href=\"#m1f59c9d920\" y=\"130.249222\"/>\r\n     <use style=\"fill:#0000ff;stroke:#0000ff;\" x=\"239.518507\" xlink:href=\"#m1f59c9d920\" y=\"130.046484\"/>\r\n     <use style=\"fill:#0000ff;stroke:#0000ff;\" x=\"239.969928\" xlink:href=\"#m1f59c9d920\" y=\"129.967523\"/>\r\n     <use style=\"fill:#0000ff;stroke:#0000ff;\" x=\"240.421809\" xlink:href=\"#m1f59c9d920\" y=\"129.362428\"/>\r\n     <use style=\"fill:#0000ff;stroke:#0000ff;\" x=\"240.874184\" xlink:href=\"#m1f59c9d920\" y=\"129.12917\"/>\r\n     <use style=\"fill:#0000ff;stroke:#0000ff;\" x=\"241.327086\" xlink:href=\"#m1f59c9d920\" y=\"129.107769\"/>\r\n     <use style=\"fill:#0000ff;stroke:#0000ff;\" x=\"241.780548\" xlink:href=\"#m1f59c9d920\" y=\"128.630309\"/>\r\n     <use style=\"fill:#0000ff;stroke:#0000ff;\" x=\"242.234604\" xlink:href=\"#m1f59c9d920\" y=\"128.6018\"/>\r\n     <use style=\"fill:#0000ff;stroke:#0000ff;\" x=\"242.689289\" xlink:href=\"#m1f59c9d920\" y=\"128.371136\"/>\r\n     <use style=\"fill:#0000ff;stroke:#0000ff;\" x=\"243.144636\" xlink:href=\"#m1f59c9d920\" y=\"127.966164\"/>\r\n     <use style=\"fill:#0000ff;stroke:#0000ff;\" x=\"243.60068\" xlink:href=\"#m1f59c9d920\" y=\"127.804975\"/>\r\n     <use style=\"fill:#0000ff;stroke:#0000ff;\" x=\"244.057456\" xlink:href=\"#m1f59c9d920\" y=\"127.582833\"/>\r\n     <use style=\"fill:#0000ff;stroke:#0000ff;\" x=\"244.515001\" xlink:href=\"#m1f59c9d920\" y=\"127.393977\"/>\r\n     <use style=\"fill:#0000ff;stroke:#0000ff;\" x=\"244.973349\" xlink:href=\"#m1f59c9d920\" y=\"127.259626\"/>\r\n     <use style=\"fill:#0000ff;stroke:#0000ff;\" x=\"245.432537\" xlink:href=\"#m1f59c9d920\" y=\"127.07461\"/>\r\n     <use style=\"fill:#0000ff;stroke:#0000ff;\" x=\"245.892603\" xlink:href=\"#m1f59c9d920\" y=\"127.037686\"/>\r\n     <use style=\"fill:#0000ff;stroke:#0000ff;\" x=\"246.353582\" xlink:href=\"#m1f59c9d920\" y=\"125.954943\"/>\r\n     <use style=\"fill:#0000ff;stroke:#0000ff;\" x=\"246.815513\" xlink:href=\"#m1f59c9d920\" y=\"125.867518\"/>\r\n     <use style=\"fill:#0000ff;stroke:#0000ff;\" x=\"247.278434\" xlink:href=\"#m1f59c9d920\" y=\"125.752639\"/>\r\n     <use style=\"fill:#0000ff;stroke:#0000ff;\" x=\"247.742384\" xlink:href=\"#m1f59c9d920\" y=\"125.022832\"/>\r\n     <use style=\"fill:#0000ff;stroke:#0000ff;\" x=\"248.207402\" xlink:href=\"#m1f59c9d920\" y=\"124.869122\"/>\r\n     <use style=\"fill:#0000ff;stroke:#0000ff;\" x=\"248.673529\" xlink:href=\"#m1f59c9d920\" y=\"124.802985\"/>\r\n     <use style=\"fill:#0000ff;stroke:#0000ff;\" x=\"249.140804\" xlink:href=\"#m1f59c9d920\" y=\"124.555703\"/>\r\n     <use style=\"fill:#0000ff;stroke:#0000ff;\" x=\"249.609268\" xlink:href=\"#m1f59c9d920\" y=\"124.308414\"/>\r\n     <use style=\"fill:#0000ff;stroke:#0000ff;\" x=\"250.078965\" xlink:href=\"#m1f59c9d920\" y=\"124.290316\"/>\r\n     <use style=\"fill:#0000ff;stroke:#0000ff;\" x=\"250.549936\" xlink:href=\"#m1f59c9d920\" y=\"124.043216\"/>\r\n     <use style=\"fill:#0000ff;stroke:#0000ff;\" x=\"251.022224\" xlink:href=\"#m1f59c9d920\" y=\"123.968357\"/>\r\n     <use style=\"fill:#0000ff;stroke:#0000ff;\" x=\"251.495874\" xlink:href=\"#m1f59c9d920\" y=\"123.663997\"/>\r\n     <use style=\"fill:#0000ff;stroke:#0000ff;\" x=\"251.970931\" xlink:href=\"#m1f59c9d920\" y=\"123.51144\"/>\r\n     <use style=\"fill:#0000ff;stroke:#0000ff;\" x=\"252.44744\" xlink:href=\"#m1f59c9d920\" y=\"123.5071\"/>\r\n     <use style=\"fill:#0000ff;stroke:#0000ff;\" x=\"252.925449\" xlink:href=\"#m1f59c9d920\" y=\"123.066777\"/>\r\n     <use style=\"fill:#0000ff;stroke:#0000ff;\" x=\"253.405004\" xlink:href=\"#m1f59c9d920\" y=\"122.739332\"/>\r\n     <use style=\"fill:#0000ff;stroke:#0000ff;\" x=\"253.886154\" xlink:href=\"#m1f59c9d920\" y=\"122.662688\"/>\r\n     <use style=\"fill:#0000ff;stroke:#0000ff;\" x=\"254.368948\" xlink:href=\"#m1f59c9d920\" y=\"122.587898\"/>\r\n     <use style=\"fill:#0000ff;stroke:#0000ff;\" x=\"254.853438\" xlink:href=\"#m1f59c9d920\" y=\"121.5802\"/>\r\n     <use style=\"fill:#0000ff;stroke:#0000ff;\" x=\"255.339675\" xlink:href=\"#m1f59c9d920\" y=\"121.559235\"/>\r\n     <use style=\"fill:#0000ff;stroke:#0000ff;\" x=\"255.827711\" xlink:href=\"#m1f59c9d920\" y=\"121.518622\"/>\r\n     <use style=\"fill:#0000ff;stroke:#0000ff;\" x=\"256.3176\" xlink:href=\"#m1f59c9d920\" y=\"121.276938\"/>\r\n     <use style=\"fill:#0000ff;stroke:#0000ff;\" x=\"256.809399\" xlink:href=\"#m1f59c9d920\" y=\"121.202006\"/>\r\n     <use style=\"fill:#0000ff;stroke:#0000ff;\" x=\"257.303162\" xlink:href=\"#m1f59c9d920\" y=\"120.919711\"/>\r\n     <use style=\"fill:#0000ff;stroke:#0000ff;\" x=\"257.798948\" xlink:href=\"#m1f59c9d920\" y=\"120.551309\"/>\r\n     <use style=\"fill:#0000ff;stroke:#0000ff;\" x=\"258.296817\" xlink:href=\"#m1f59c9d920\" y=\"120.315262\"/>\r\n     <use style=\"fill:#0000ff;stroke:#0000ff;\" x=\"258.796828\" xlink:href=\"#m1f59c9d920\" y=\"120.227276\"/>\r\n     <use style=\"fill:#0000ff;stroke:#0000ff;\" x=\"259.299045\" xlink:href=\"#m1f59c9d920\" y=\"120.141237\"/>\r\n     <use style=\"fill:#0000ff;stroke:#0000ff;\" x=\"259.80353\" xlink:href=\"#m1f59c9d920\" y=\"120.002495\"/>\r\n     <use style=\"fill:#0000ff;stroke:#0000ff;\" x=\"260.31035\" xlink:href=\"#m1f59c9d920\" y=\"119.894822\"/>\r\n     <use style=\"fill:#0000ff;stroke:#0000ff;\" x=\"260.819572\" xlink:href=\"#m1f59c9d920\" y=\"119.824721\"/>\r\n     <use style=\"fill:#0000ff;stroke:#0000ff;\" x=\"261.331264\" xlink:href=\"#m1f59c9d920\" y=\"119.24797\"/>\r\n     <use style=\"fill:#0000ff;stroke:#0000ff;\" x=\"261.845498\" xlink:href=\"#m1f59c9d920\" y=\"119.004868\"/>\r\n     <use style=\"fill:#0000ff;stroke:#0000ff;\" x=\"262.362346\" xlink:href=\"#m1f59c9d920\" y=\"118.973618\"/>\r\n     <use style=\"fill:#0000ff;stroke:#0000ff;\" x=\"262.881884\" xlink:href=\"#m1f59c9d920\" y=\"118.74058\"/>\r\n     <use style=\"fill:#0000ff;stroke:#0000ff;\" x=\"263.40419\" xlink:href=\"#m1f59c9d920\" y=\"117.98445\"/>\r\n     <use style=\"fill:#0000ff;stroke:#0000ff;\" x=\"263.929341\" xlink:href=\"#m1f59c9d920\" y=\"117.877609\"/>\r\n     <use style=\"fill:#0000ff;stroke:#0000ff;\" x=\"264.457421\" xlink:href=\"#m1f59c9d920\" y=\"117.669874\"/>\r\n     <use style=\"fill:#0000ff;stroke:#0000ff;\" x=\"264.988514\" xlink:href=\"#m1f59c9d920\" y=\"117.173767\"/>\r\n     <use style=\"fill:#0000ff;stroke:#0000ff;\" x=\"265.522707\" xlink:href=\"#m1f59c9d920\" y=\"116.616458\"/>\r\n     <use style=\"fill:#0000ff;stroke:#0000ff;\" x=\"266.06009\" xlink:href=\"#m1f59c9d920\" y=\"116.524988\"/>\r\n     <use style=\"fill:#0000ff;stroke:#0000ff;\" x=\"266.600755\" xlink:href=\"#m1f59c9d920\" y=\"116.511613\"/>\r\n     <use style=\"fill:#0000ff;stroke:#0000ff;\" x=\"267.144799\" xlink:href=\"#m1f59c9d920\" y=\"116.248776\"/>\r\n     <use style=\"fill:#0000ff;stroke:#0000ff;\" x=\"267.69232\" xlink:href=\"#m1f59c9d920\" y=\"116.224811\"/>\r\n     <use style=\"fill:#0000ff;stroke:#0000ff;\" x=\"268.24342\" xlink:href=\"#m1f59c9d920\" y=\"115.842024\"/>\r\n     <use style=\"fill:#0000ff;stroke:#0000ff;\" x=\"268.798206\" xlink:href=\"#m1f59c9d920\" y=\"115.440398\"/>\r\n     <use style=\"fill:#0000ff;stroke:#0000ff;\" x=\"269.356788\" xlink:href=\"#m1f59c9d920\" y=\"114.058491\"/>\r\n     <use style=\"fill:#0000ff;stroke:#0000ff;\" x=\"269.919278\" xlink:href=\"#m1f59c9d920\" y=\"113.910145\"/>\r\n     <use style=\"fill:#0000ff;stroke:#0000ff;\" x=\"270.485794\" xlink:href=\"#m1f59c9d920\" y=\"112.771631\"/>\r\n     <use style=\"fill:#0000ff;stroke:#0000ff;\" x=\"271.056458\" xlink:href=\"#m1f59c9d920\" y=\"112.769281\"/>\r\n     <use style=\"fill:#0000ff;stroke:#0000ff;\" x=\"271.631398\" xlink:href=\"#m1f59c9d920\" y=\"112.557331\"/>\r\n     <use style=\"fill:#0000ff;stroke:#0000ff;\" x=\"272.210743\" xlink:href=\"#m1f59c9d920\" y=\"112.093892\"/>\r\n     <use style=\"fill:#0000ff;stroke:#0000ff;\" x=\"272.794632\" xlink:href=\"#m1f59c9d920\" y=\"112.075307\"/>\r\n     <use style=\"fill:#0000ff;stroke:#0000ff;\" x=\"273.383205\" xlink:href=\"#m1f59c9d920\" y=\"112.062797\"/>\r\n     <use style=\"fill:#0000ff;stroke:#0000ff;\" x=\"273.97661\" xlink:href=\"#m1f59c9d920\" y=\"111.824418\"/>\r\n     <use style=\"fill:#0000ff;stroke:#0000ff;\" x=\"274.575001\" xlink:href=\"#m1f59c9d920\" y=\"111.660986\"/>\r\n     <use style=\"fill:#0000ff;stroke:#0000ff;\" x=\"275.178538\" xlink:href=\"#m1f59c9d920\" y=\"111.252951\"/>\r\n     <use style=\"fill:#0000ff;stroke:#0000ff;\" x=\"275.787387\" xlink:href=\"#m1f59c9d920\" y=\"110.623098\"/>\r\n     <use style=\"fill:#0000ff;stroke:#0000ff;\" x=\"276.401723\" xlink:href=\"#m1f59c9d920\" y=\"110.299627\"/>\r\n     <use style=\"fill:#0000ff;stroke:#0000ff;\" x=\"277.021727\" xlink:href=\"#m1f59c9d920\" y=\"110.121884\"/>\r\n     <use style=\"fill:#0000ff;stroke:#0000ff;\" x=\"277.647589\" xlink:href=\"#m1f59c9d920\" y=\"110.073135\"/>\r\n     <use style=\"fill:#0000ff;stroke:#0000ff;\" x=\"278.279507\" xlink:href=\"#m1f59c9d920\" y=\"108.560073\"/>\r\n     <use style=\"fill:#0000ff;stroke:#0000ff;\" x=\"278.917689\" xlink:href=\"#m1f59c9d920\" y=\"108.190114\"/>\r\n     <use style=\"fill:#0000ff;stroke:#0000ff;\" x=\"279.562352\" xlink:href=\"#m1f59c9d920\" y=\"108.027572\"/>\r\n     <use style=\"fill:#0000ff;stroke:#0000ff;\" x=\"280.213724\" xlink:href=\"#m1f59c9d920\" y=\"107.760365\"/>\r\n     <use style=\"fill:#0000ff;stroke:#0000ff;\" x=\"280.872043\" xlink:href=\"#m1f59c9d920\" y=\"106.954872\"/>\r\n     <use style=\"fill:#0000ff;stroke:#0000ff;\" x=\"281.537561\" xlink:href=\"#m1f59c9d920\" y=\"106.732211\"/>\r\n     <use style=\"fill:#0000ff;stroke:#0000ff;\" x=\"282.210542\" xlink:href=\"#m1f59c9d920\" y=\"106.22482\"/>\r\n     <use style=\"fill:#0000ff;stroke:#0000ff;\" x=\"282.891261\" xlink:href=\"#m1f59c9d920\" y=\"106.030006\"/>\r\n     <use style=\"fill:#0000ff;stroke:#0000ff;\" x=\"283.580012\" xlink:href=\"#m1f59c9d920\" y=\"105.925849\"/>\r\n     <use style=\"fill:#0000ff;stroke:#0000ff;\" x=\"284.277102\" xlink:href=\"#m1f59c9d920\" y=\"105.560943\"/>\r\n     <use style=\"fill:#0000ff;stroke:#0000ff;\" x=\"284.982856\" xlink:href=\"#m1f59c9d920\" y=\"105.455834\"/>\r\n     <use style=\"fill:#0000ff;stroke:#0000ff;\" x=\"285.697617\" xlink:href=\"#m1f59c9d920\" y=\"103.923022\"/>\r\n     <use style=\"fill:#0000ff;stroke:#0000ff;\" x=\"286.421748\" xlink:href=\"#m1f59c9d920\" y=\"103.200485\"/>\r\n     <use style=\"fill:#0000ff;stroke:#0000ff;\" x=\"287.155632\" xlink:href=\"#m1f59c9d920\" y=\"102.669598\"/>\r\n     <use style=\"fill:#0000ff;stroke:#0000ff;\" x=\"287.899677\" xlink:href=\"#m1f59c9d920\" y=\"101.812381\"/>\r\n     <use style=\"fill:#0000ff;stroke:#0000ff;\" x=\"288.654314\" xlink:href=\"#m1f59c9d920\" y=\"100.826718\"/>\r\n     <use style=\"fill:#0000ff;stroke:#0000ff;\" x=\"289.420004\" xlink:href=\"#m1f59c9d920\" y=\"100.158357\"/>\r\n     <use style=\"fill:#0000ff;stroke:#0000ff;\" x=\"290.197235\" xlink:href=\"#m1f59c9d920\" y=\"100.019864\"/>\r\n     <use style=\"fill:#0000ff;stroke:#0000ff;\" x=\"290.986527\" xlink:href=\"#m1f59c9d920\" y=\"99.256664\"/>\r\n     <use style=\"fill:#0000ff;stroke:#0000ff;\" x=\"291.788438\" xlink:href=\"#m1f59c9d920\" y=\"98.085988\"/>\r\n     <use style=\"fill:#0000ff;stroke:#0000ff;\" x=\"292.603561\" xlink:href=\"#m1f59c9d920\" y=\"97.897302\"/>\r\n     <use style=\"fill:#0000ff;stroke:#0000ff;\" x=\"293.432534\" xlink:href=\"#m1f59c9d920\" y=\"97.157839\"/>\r\n     <use style=\"fill:#0000ff;stroke:#0000ff;\" x=\"294.27604\" xlink:href=\"#m1f59c9d920\" y=\"96.985292\"/>\r\n     <use style=\"fill:#0000ff;stroke:#0000ff;\" x=\"295.134812\" xlink:href=\"#m1f59c9d920\" y=\"96.514964\"/>\r\n     <use style=\"fill:#0000ff;stroke:#0000ff;\" x=\"296.009641\" xlink:href=\"#m1f59c9d920\" y=\"95.89843\"/>\r\n     <use style=\"fill:#0000ff;stroke:#0000ff;\" x=\"296.901381\" xlink:href=\"#m1f59c9d920\" y=\"94.966773\"/>\r\n     <use style=\"fill:#0000ff;stroke:#0000ff;\" x=\"297.810954\" xlink:href=\"#m1f59c9d920\" y=\"93.335486\"/>\r\n     <use style=\"fill:#0000ff;stroke:#0000ff;\" x=\"298.739359\" xlink:href=\"#m1f59c9d920\" y=\"92.063472\"/>\r\n     <use style=\"fill:#0000ff;stroke:#0000ff;\" x=\"299.687681\" xlink:href=\"#m1f59c9d920\" y=\"91.921884\"/>\r\n     <use style=\"fill:#0000ff;stroke:#0000ff;\" x=\"300.657104\" xlink:href=\"#m1f59c9d920\" y=\"91.869079\"/>\r\n     <use style=\"fill:#0000ff;stroke:#0000ff;\" x=\"301.648917\" xlink:href=\"#m1f59c9d920\" y=\"91.705294\"/>\r\n     <use style=\"fill:#0000ff;stroke:#0000ff;\" x=\"302.664534\" xlink:href=\"#m1f59c9d920\" y=\"91.582318\"/>\r\n     <use style=\"fill:#0000ff;stroke:#0000ff;\" x=\"303.705508\" xlink:href=\"#m1f59c9d920\" y=\"91.528086\"/>\r\n     <use style=\"fill:#0000ff;stroke:#0000ff;\" x=\"304.773548\" xlink:href=\"#m1f59c9d920\" y=\"90.766327\"/>\r\n     <use style=\"fill:#0000ff;stroke:#0000ff;\" x=\"305.870545\" xlink:href=\"#m1f59c9d920\" y=\"90.55509\"/>\r\n     <use style=\"fill:#0000ff;stroke:#0000ff;\" x=\"306.998597\" xlink:href=\"#m1f59c9d920\" y=\"89.671612\"/>\r\n     <use style=\"fill:#0000ff;stroke:#0000ff;\" x=\"308.16004\" xlink:href=\"#m1f59c9d920\" y=\"88.750104\"/>\r\n     <use style=\"fill:#0000ff;stroke:#0000ff;\" x=\"309.35749\" xlink:href=\"#m1f59c9d920\" y=\"87.503045\"/>\r\n     <use style=\"fill:#0000ff;stroke:#0000ff;\" x=\"310.593885\" xlink:href=\"#m1f59c9d920\" y=\"87.435372\"/>\r\n     <use style=\"fill:#0000ff;stroke:#0000ff;\" x=\"311.872544\" xlink:href=\"#m1f59c9d920\" y=\"86.989474\"/>\r\n     <use style=\"fill:#0000ff;stroke:#0000ff;\" x=\"313.197236\" xlink:href=\"#m1f59c9d920\" y=\"85.94949\"/>\r\n     <use style=\"fill:#0000ff;stroke:#0000ff;\" x=\"314.57227\" xlink:href=\"#m1f59c9d920\" y=\"84.847707\"/>\r\n     <use style=\"fill:#0000ff;stroke:#0000ff;\" x=\"316.002598\" xlink:href=\"#m1f59c9d920\" y=\"84.588007\"/>\r\n     <use style=\"fill:#0000ff;stroke:#0000ff;\" x=\"317.493957\" xlink:href=\"#m1f59c9d920\" y=\"84.400895\"/>\r\n     <use style=\"fill:#0000ff;stroke:#0000ff;\" x=\"319.053046\" xlink:href=\"#m1f59c9d920\" y=\"82.623904\"/>\r\n     <use style=\"fill:#0000ff;stroke:#0000ff;\" x=\"320.687754\" xlink:href=\"#m1f59c9d920\" y=\"81.068322\"/>\r\n     <use style=\"fill:#0000ff;stroke:#0000ff;\" x=\"322.407471\" xlink:href=\"#m1f59c9d920\" y=\"75.29476\"/>\r\n     <use style=\"fill:#0000ff;stroke:#0000ff;\" x=\"324.223493\" xlink:href=\"#m1f59c9d920\" y=\"74.036214\"/>\r\n     <use style=\"fill:#0000ff;stroke:#0000ff;\" x=\"326.149586\" xlink:href=\"#m1f59c9d920\" y=\"73.719867\"/>\r\n     <use style=\"fill:#0000ff;stroke:#0000ff;\" x=\"328.202778\" xlink:href=\"#m1f59c9d920\" y=\"73.014734\"/>\r\n     <use style=\"fill:#0000ff;stroke:#0000ff;\" x=\"330.404492\" xlink:href=\"#m1f59c9d920\" y=\"72.47955\"/>\r\n     <use style=\"fill:#0000ff;stroke:#0000ff;\" x=\"332.782228\" xlink:href=\"#m1f59c9d920\" y=\"71.061982\"/>\r\n     <use style=\"fill:#0000ff;stroke:#0000ff;\" x=\"335.372139\" xlink:href=\"#m1f59c9d920\" y=\"68.731396\"/>\r\n     <use style=\"fill:#0000ff;stroke:#0000ff;\" x=\"338.223164\" xlink:href=\"#m1f59c9d920\" y=\"67.59763\"/>\r\n     <use style=\"fill:#0000ff;stroke:#0000ff;\" x=\"341.40397\" xlink:href=\"#m1f59c9d920\" y=\"61.158168\"/>\r\n     <use style=\"fill:#0000ff;stroke:#0000ff;\" x=\"345.015439\" xlink:href=\"#m1f59c9d920\" y=\"57.493401\"/>\r\n     <use style=\"fill:#0000ff;stroke:#0000ff;\" x=\"349.215046\" xlink:href=\"#m1f59c9d920\" y=\"54.6144\"/>\r\n     <use style=\"fill:#0000ff;stroke:#0000ff;\" x=\"354.270149\" xlink:href=\"#m1f59c9d920\" y=\"48.246979\"/>\r\n     <use style=\"fill:#0000ff;stroke:#0000ff;\" x=\"360.695191\" xlink:href=\"#m1f59c9d920\" y=\"43.320416\"/>\r\n     <use style=\"fill:#0000ff;stroke:#0000ff;\" x=\"369.711364\" xlink:href=\"#m1f59c9d920\" y=\"42.390818\"/>\r\n     <use style=\"fill:#0000ff;stroke:#0000ff;\" x=\"385.634943\" xlink:href=\"#m1f59c9d920\" y=\"32.201761\"/>\r\n    </g>\r\n   </g>\r\n   <g id=\"line2d_15\">\r\n    <path clip-path=\"url(#p7f13c4e4af)\" d=\"M 81.271307 229.874489 \r\nL 385.634943 38.512722 \r\nL 385.634943 38.512722 \r\n\" style=\"fill:none;stroke:#ff0000;stroke-linecap:square;stroke-width:1.5;\"/>\r\n   </g>\r\n   <g id=\"patch_3\">\r\n    <path d=\"M 66.053125 239.758125 \r\nL 66.053125 22.318125 \r\n\" style=\"fill:none;stroke:#000000;stroke-linecap:square;stroke-linejoin:miter;stroke-width:0.8;\"/>\r\n   </g>\r\n   <g id=\"patch_4\">\r\n    <path d=\"M 400.853125 239.758125 \r\nL 400.853125 22.318125 \r\n\" style=\"fill:none;stroke:#000000;stroke-linecap:square;stroke-linejoin:miter;stroke-width:0.8;\"/>\r\n   </g>\r\n   <g id=\"patch_5\">\r\n    <path d=\"M 66.053125 239.758125 \r\nL 400.853125 239.758125 \r\n\" style=\"fill:none;stroke:#000000;stroke-linecap:square;stroke-linejoin:miter;stroke-width:0.8;\"/>\r\n   </g>\r\n   <g id=\"patch_6\">\r\n    <path d=\"M 66.053125 22.318125 \r\nL 400.853125 22.318125 \r\n\" style=\"fill:none;stroke:#000000;stroke-linecap:square;stroke-linejoin:miter;stroke-width:0.8;\"/>\r\n   </g>\r\n   <g id=\"text_16\">\r\n    <!-- Probability Plot -->\r\n    <g transform=\"translate(188.523438 16.318125)scale(0.12 -0.12)\">\r\n     <defs>\r\n      <path d=\"M 1259 4147 \r\nL 1259 2394 \r\nL 2053 2394 \r\nQ 2494 2394 2734 2622 \r\nQ 2975 2850 2975 3272 \r\nQ 2975 3691 2734 3919 \r\nQ 2494 4147 2053 4147 \r\nL 1259 4147 \r\nz\r\nM 628 4666 \r\nL 2053 4666 \r\nQ 2838 4666 3239 4311 \r\nQ 3641 3956 3641 3272 \r\nQ 3641 2581 3239 2228 \r\nQ 2838 1875 2053 1875 \r\nL 1259 1875 \r\nL 1259 0 \r\nL 628 0 \r\nL 628 4666 \r\nz\r\n\" id=\"DejaVuSans-50\" transform=\"scale(0.015625)\"/>\r\n      <path d=\"M 3116 1747 \r\nQ 3116 2381 2855 2742 \r\nQ 2594 3103 2138 3103 \r\nQ 1681 3103 1420 2742 \r\nQ 1159 2381 1159 1747 \r\nQ 1159 1113 1420 752 \r\nQ 1681 391 2138 391 \r\nQ 2594 391 2855 752 \r\nQ 3116 1113 3116 1747 \r\nz\r\nM 1159 2969 \r\nQ 1341 3281 1617 3432 \r\nQ 1894 3584 2278 3584 \r\nQ 2916 3584 3314 3078 \r\nQ 3713 2572 3713 1747 \r\nQ 3713 922 3314 415 \r\nQ 2916 -91 2278 -91 \r\nQ 1894 -91 1617 61 \r\nQ 1341 213 1159 525 \r\nL 1159 0 \r\nL 581 0 \r\nL 581 4863 \r\nL 1159 4863 \r\nL 1159 2969 \r\nz\r\n\" id=\"DejaVuSans-62\" transform=\"scale(0.015625)\"/>\r\n      <path d=\"M 2059 -325 \r\nQ 1816 -950 1584 -1140 \r\nQ 1353 -1331 966 -1331 \r\nL 506 -1331 \r\nL 506 -850 \r\nL 844 -850 \r\nQ 1081 -850 1212 -737 \r\nQ 1344 -625 1503 -206 \r\nL 1606 56 \r\nL 191 3500 \r\nL 800 3500 \r\nL 1894 763 \r\nL 2988 3500 \r\nL 3597 3500 \r\nL 2059 -325 \r\nz\r\n\" id=\"DejaVuSans-79\" transform=\"scale(0.015625)\"/>\r\n     </defs>\r\n     <use xlink:href=\"#DejaVuSans-50\"/>\r\n     <use x=\"58.552734\" xlink:href=\"#DejaVuSans-72\"/>\r\n     <use x=\"97.416016\" xlink:href=\"#DejaVuSans-6f\"/>\r\n     <use x=\"158.597656\" xlink:href=\"#DejaVuSans-62\"/>\r\n     <use x=\"222.074219\" xlink:href=\"#DejaVuSans-61\"/>\r\n     <use x=\"283.353516\" xlink:href=\"#DejaVuSans-62\"/>\r\n     <use x=\"346.830078\" xlink:href=\"#DejaVuSans-69\"/>\r\n     <use x=\"374.613281\" xlink:href=\"#DejaVuSans-6c\"/>\r\n     <use x=\"402.396484\" xlink:href=\"#DejaVuSans-69\"/>\r\n     <use x=\"430.179688\" xlink:href=\"#DejaVuSans-74\"/>\r\n     <use x=\"469.388672\" xlink:href=\"#DejaVuSans-79\"/>\r\n     <use x=\"528.568359\" xlink:href=\"#DejaVuSans-20\"/>\r\n     <use x=\"560.355469\" xlink:href=\"#DejaVuSans-50\"/>\r\n     <use x=\"620.658203\" xlink:href=\"#DejaVuSans-6c\"/>\r\n     <use x=\"648.441406\" xlink:href=\"#DejaVuSans-6f\"/>\r\n     <use x=\"709.623047\" xlink:href=\"#DejaVuSans-74\"/>\r\n    </g>\r\n   </g>\r\n  </g>\r\n </g>\r\n <defs>\r\n  <clipPath id=\"p7f13c4e4af\">\r\n   <rect height=\"217.44\" width=\"334.8\" x=\"66.053125\" y=\"22.318125\"/>\r\n  </clipPath>\r\n </defs>\r\n</svg>\r\n",
            "image/png": "[encoded data removed]"
          },
          "metadata": {
            "needs_background": "light"
          }
        }
      ],
      "metadata": {
        "id": "x0fuli9J6c82",
        "colab_type": "code",
        "colab": {}
      }
    },
    {
      "cell_type": "code",
      "execution_count": 9,
      "source": [
        "income_dont_own_home.mean(), income_dont_own_home.std()"
      ],
      "outputs": [
        {
          "output_type": "execute_result",
          "data": {
            "text/plain": [
              "(46892.35166199144, 20335.071080860194)"
            ]
          },
          "metadata": {},
          "execution_count": 9
        }
      ],
      "metadata": {
        "id": "kZ3UZJwih79J",
        "colab_type": "code",
        "colab": {}
      }
    },
    {
      "cell_type": "code",
      "execution_count": 10,
      "source": [
        "income_own_home.mean(), income_own_home.std()"
      ],
      "outputs": [
        {
          "output_type": "execute_result",
          "data": {
            "text/plain": [
              "(55412.13190716666, 16917.482476619334)"
            ]
          },
          "metadata": {},
          "execution_count": 10
        }
      ],
      "metadata": {
        "id": "xS4bEUk8h-gy",
        "colab_type": "code",
        "colab": {}
      }
    },
    {
      "cell_type": "code",
      "execution_count": 11,
      "source": [
        "# The t statistic is −3.96, with a p-value of 0.00009. This means that the null\r\n",
        "# hypothesis (H0: no difference in income by home ownership) is rejected. The data suggest that\r\n",
        "# people who own their homes have higher income.\r\n",
        "stats.ttest_ind(income_dont_own_home, income_own_home, equal_var=False) # equal_var: equal population variances."
      ],
      "outputs": [
        {
          "output_type": "execute_result",
          "data": {
            "text/plain": [
              "Ttest_indResult(statistic=-3.960321465078199, pvalue=9.372809221211885e-05)"
            ]
          },
          "metadata": {},
          "execution_count": 11
        }
      ],
      "metadata": {
        "id": "3cQemVbcqhWb",
        "colab_type": "code",
        "colab": {}
      }
    },
    {
      "cell_type": "code",
      "execution_count": 12,
      "source": [
        "# Can have 95% conﬁdence that group difference in income is between -11525 to -5514.\r\n",
        "\r\n",
        "count_dont_own_home = income_dont_own_home.shape[0]\r\n",
        "count_own_home = income_own_home.shape[0]\r\n",
        "dof = count_dont_own_home + count_own_home - 2\r\n",
        "geometric_mean_sem = np.sqrt(((count_dont_own_home - 1)\r\n",
        "                              * stats.sem(income_dont_own_home)**2\r\n",
        "                              + (count_own_home - 1)\r\n",
        "                              * stats.sem(income_own_home)**2)/dof)\r\n",
        "stats.t.interval(alpha=0.95, # 95% confidence interval.\r\n",
        "                 df=dof, # Degrees of freedom = group A sample count + group B sample count - 2.\r\n",
        "                 loc=income_dont_own_home.mean()\\\r\n",
        "                     - income_own_home.mean(), # loc: Difference in means between group A and group B.\r\n",
        "                 scale=geometric_mean_sem) # Scale: geometric mean of standard errors for each group."
      ],
      "outputs": [
        {
          "output_type": "execute_result",
          "data": {
            "text/plain": [
              "(-11525.353750453669, -5514.206739896775)"
            ]
          },
          "metadata": {},
          "execution_count": 12
        }
      ],
      "metadata": {
        "id": "ygECr4TbqSKS",
        "colab_type": "code",
        "colab": {}
      }
    },
    {
      "cell_type": "code",
      "execution_count": 13,
      "source": [
        "def ttest(a, b):\r\n",
        "  # This function displays statistics on two groups, runs a t-test, and finds the 95% confidence \r\n",
        "  # interval of the mean difference between groups. Same as above but reusable.\r\n",
        "  \r\n",
        "  # Get means and standard deviation of each group.\r\n",
        "  mean_a = a.mean() \r\n",
        "  mean_b = b.mean()\r\n",
        "  \r\n",
        "  std_a = a.std()\r\n",
        "  std_b = b.std()\r\n",
        "  \r\n",
        "  print('Group a - mean: {0}  standard deviation: {1}'\r\n",
        "        .format(mean_a, std_a))\r\n",
        "  print('Group b - mean: {0}  standard deviation: {1}\\n'\r\n",
        "        .format(mean_b, std_b))\r\n",
        "  \r\n",
        "  # Run a Welch's t-test between the groups.\r\n",
        "  ttest_out = stats.ttest_ind(a, b, equal_var=False)\r\n",
        "  print(\"Welch's t-test statistic: {0}\\np-value: {1}\\n\"\r\n",
        "        .format(ttest_out.statistic, ttest_out.pvalue))\r\n",
        "  \r\n",
        "  # Find the 95% confidence interval using scipy.statst.interval function. The difference in means\r\n",
        "  # is the location of the distribution (loc parameter). The geometric mean of the standard error of\r\n",
        "  # each group is the scale.\r\n",
        "  count_a = a.shape[0]\r\n",
        "  count_b = b.shape[0]\r\n",
        "  dof = count_a + count_b - 2\r\n",
        "  \r\n",
        "  geometric_mean_sem = np.sqrt(((count_a - 1) * stats.sem(a)**2\r\n",
        "                                + (count_b -1) * stats.sem(b)**2)/dof)\r\n",
        "  print('95% confidence interval of the mean difference between a and'\r\n",
        "        ' b:\\n{0}'\r\n",
        "        .format(stats.t.interval(alpha=0.95, df=dof,\r\n",
        "                                 loc=mean_a - mean_b,\r\n",
        "                                 scale=geometric_mean_sem)))\r\n",
        "  "
      ],
      "outputs": [],
      "metadata": {
        "id": "h2-e4BNnwJKB",
        "colab_type": "code",
        "colab": {}
      }
    },
    {
      "cell_type": "code",
      "execution_count": 14,
      "source": [
        "ttest(income_dont_own_home, income_own_home)"
      ],
      "outputs": [
        {
          "output_type": "stream",
          "name": "stdout",
          "text": [
            "Group a - mean: 46892.35166199144  standard deviation: 20335.071080860194\n",
            "Group b - mean: 55412.13190716666  standard deviation: 16917.482476619334\n",
            "\n",
            "Welch's t-test statistic: -3.960321465078199\n",
            "p-value: 9.372809221211885e-05\n",
            "\n",
            "95% confidence interval of the mean difference between a and b:\n",
            "(-11525.353750453669, -5514.206739896775)\n"
          ]
        }
      ],
      "metadata": {
        "id": "9NXSV_xyyeXc",
        "colab_type": "code",
        "colab": {}
      }
    },
    {
      "cell_type": "code",
      "execution_count": 15,
      "source": [
        "# The p-value is 0.92. This means that the null\r\n",
        "# hypothesis (H0: no difference in the income of the travelers by home ownership) cannot be rejected.\r\n",
        "# The data suggest that travelers who own their homes and who don't have no difference in income.\r\n",
        "traveler_subset = seg_df.loc[seg_df.Segment == 'travelers']\r\n",
        "ttest(traveler_subset.income[~traveler_subset.own_home],\r\n",
        "      traveler_subset.income[traveler_subset.own_home])"
      ],
      "outputs": [
        {
          "output_type": "stream",
          "name": "stdout",
          "text": [
            "Group a - mean: 62923.233941015686  standard deviation: 22233.49397700984\n",
            "Group b - mean: 62449.90773236651  standard deviation: 19580.36093716456\n",
            "\n",
            "Welch's t-test statistic: 0.09365502472389607\n",
            "p-value: 0.925781815932494\n",
            "\n",
            "95% confidence interval of the mean difference between a and b:\n",
            "(-6107.120685163211, 7053.77310246156)\n"
          ]
        }
      ],
      "metadata": {
        "id": "CdtdSlB2rYlQ",
        "colab_type": "code",
        "colab": {}
      }
    },
    {
      "cell_type": "markdown",
      "source": [
        "## Testing Multiple Group Means: Analysis of Variance (ANOVA)"
      ],
      "metadata": {
        "id": "LvCZAztw00hX",
        "colab_type": "text"
      }
    },
    {
      "cell_type": "markdown",
      "source": [
        "An analysis of variance (ANOVA) compares the means of multiple groups. More casually, ANOVA tests for difference among multiple means, assuming that the groups have similar variance. An ANOVA can handle single factors (one-way ANOVA), two factors (two-way), and higher orders including interactions among factors."
      ],
      "metadata": {}
    },
    {
      "cell_type": "code",
      "execution_count": 16,
      "source": [
        "# f_oneway: One-way ANOVA.\r\n",
        "stats.f_oneway(income_dont_own_home, income_own_home)"
      ],
      "outputs": [
        {
          "output_type": "execute_result",
          "data": {
            "text/plain": [
              "F_onewayResult(statistic=15.048326580627759, pvalue=0.000129010355414249)"
            ]
          },
          "metadata": {},
          "execution_count": 16
        }
      ],
      "metadata": {
        "id": "RuMi49Ux02sL",
        "colab_type": "code",
        "colab": {}
      }
    },
    {
      "cell_type": "code",
      "execution_count": 17,
      "source": [
        "# A more fully featured set of ANOVA methods are found in the Statsmodels package.\r\n",
        "import statsmodels.formula.api as smf\r\n",
        "from statsmodels.stats import anova as sms_anova"
      ],
      "outputs": [],
      "metadata": {
        "id": "oypbeHhS9_5w",
        "colab_type": "code",
        "colab": {}
      }
    },
    {
      "cell_type": "code",
      "execution_count": 18,
      "source": [
        "# p-value 0.000129 reﬂects that there is signiﬁcant variation in income between those who do and do\r\n",
        "# not own their own homes.\r\n",
        "income_home_lm = smf.ols('income ~ own_home', data=seg_df).fit()\r\n",
        "sms_anova.anova_lm(income_home_lm)"
      ],
      "outputs": [
        {
          "output_type": "execute_result",
          "data": {
            "text/plain": [
              "             df        sum_sq       mean_sq          F    PR(>F)\n",
              "own_home    1.0  5.374074e+09  5.374074e+09  15.048327  0.000129\n",
              "Residual  298.0  1.064221e+11  3.571210e+08        NaN       NaN"
            ],
            "text/html": [
              "<div>\n",
              "<style scoped>\n",
              "    .dataframe tbody tr th:only-of-type {\n",
              "        vertical-align: middle;\n",
              "    }\n",
              "\n",
              "    .dataframe tbody tr th {\n",
              "        vertical-align: top;\n",
              "    }\n",
              "\n",
              "    .dataframe thead th {\n",
              "        text-align: right;\n",
              "    }\n",
              "</style>\n",
              "<table border=\"1\" class=\"dataframe\">\n",
              "  <thead>\n",
              "    <tr style=\"text-align: right;\">\n",
              "      <th></th>\n",
              "      <th>df</th>\n",
              "      <th>sum_sq</th>\n",
              "      <th>mean_sq</th>\n",
              "      <th>F</th>\n",
              "      <th>PR(&gt;F)</th>\n",
              "    </tr>\n",
              "  </thead>\n",
              "  <tbody>\n",
              "    <tr>\n",
              "      <th>own_home</th>\n",
              "      <td>1.0</td>\n",
              "      <td>5.374074e+09</td>\n",
              "      <td>5.374074e+09</td>\n",
              "      <td>15.048327</td>\n",
              "      <td>0.000129</td>\n",
              "    </tr>\n",
              "    <tr>\n",
              "      <th>Residual</th>\n",
              "      <td>298.0</td>\n",
              "      <td>1.064221e+11</td>\n",
              "      <td>3.571210e+08</td>\n",
              "      <td>NaN</td>\n",
              "      <td>NaN</td>\n",
              "    </tr>\n",
              "  </tbody>\n",
              "</table>\n",
              "</div>"
            ]
          },
          "metadata": {},
          "execution_count": 18
        }
      ],
      "metadata": {
        "id": "h86TukPv4TtU",
        "colab_type": "code",
        "colab": {}
      }
    },
    {
      "cell_type": "code",
      "execution_count": 19,
      "source": [
        "# p-value 2.794439e-49 reﬂects that income varies signiﬁcantly by segment.\r\n",
        "income_segment_lm = smf.ols('income ~ Segment', data=seg_df).fit()\r\n",
        "sms_anova.anova_lm(income_segment_lm)"
      ],
      "outputs": [
        {
          "output_type": "execute_result",
          "data": {
            "text/plain": [
              "             df        sum_sq       mean_sq           F        PR(>F)\n",
              "Segment     3.0  6.008669e+10  2.002890e+10  114.651236  2.794439e-49\n",
              "Residual  296.0  5.170946e+10  1.746941e+08         NaN           NaN"
            ],
            "text/html": [
              "<div>\n",
              "<style scoped>\n",
              "    .dataframe tbody tr th:only-of-type {\n",
              "        vertical-align: middle;\n",
              "    }\n",
              "\n",
              "    .dataframe tbody tr th {\n",
              "        vertical-align: top;\n",
              "    }\n",
              "\n",
              "    .dataframe thead th {\n",
              "        text-align: right;\n",
              "    }\n",
              "</style>\n",
              "<table border=\"1\" class=\"dataframe\">\n",
              "  <thead>\n",
              "    <tr style=\"text-align: right;\">\n",
              "      <th></th>\n",
              "      <th>df</th>\n",
              "      <th>sum_sq</th>\n",
              "      <th>mean_sq</th>\n",
              "      <th>F</th>\n",
              "      <th>PR(&gt;F)</th>\n",
              "    </tr>\n",
              "  </thead>\n",
              "  <tbody>\n",
              "    <tr>\n",
              "      <th>Segment</th>\n",
              "      <td>3.0</td>\n",
              "      <td>6.008669e+10</td>\n",
              "      <td>2.002890e+10</td>\n",
              "      <td>114.651236</td>\n",
              "      <td>2.794439e-49</td>\n",
              "    </tr>\n",
              "    <tr>\n",
              "      <th>Residual</th>\n",
              "      <td>296.0</td>\n",
              "      <td>5.170946e+10</td>\n",
              "      <td>1.746941e+08</td>\n",
              "      <td>NaN</td>\n",
              "      <td>NaN</td>\n",
              "    </tr>\n",
              "  </tbody>\n",
              "</table>\n",
              "</div>"
            ]
          },
          "metadata": {},
          "execution_count": 19
        }
      ],
      "metadata": {
        "id": "nfuernlp6ju2",
        "colab_type": "code",
        "colab": {}
      }
    },
    {
      "cell_type": "code",
      "execution_count": 20,
      "source": [
        "# If income varies by both home ownership and segment, does that mean that a more complete model\r\n",
        "# should include both? We can add both factors into the ANOVA model to test this.\r\n",
        "# The results indicate that when we try to explain income differences in income by both Segment and \r\n",
        "# own_home, segment is a signiﬁcant predictor (p 3.858516e-49) but home ownership is not a signiﬁcant\r\n",
        "# predictor (p 0.633). Yet the previous results said that it was signiﬁcant. What’s the difference? \r\n",
        "# What is happening is that segment and home ownership are not independent, and the effect is\r\n",
        "# captured sufﬁciently by segment membership alone. Home ownership accounts for little more over and\r\n",
        "# above what can be explained by Segment.\r\n",
        "income_home_segment_lm = smf.ols('income ~ Segment + own_home',\r\n",
        "                                 data=seg_df).fit()\r\n",
        "sms_anova.anova_lm(income_home_segment_lm)"
      ],
      "outputs": [
        {
          "output_type": "execute_result",
          "data": {
            "text/plain": [
              "             df        sum_sq       mean_sq           F        PR(>F)\n",
              "Segment     3.0  6.008669e+10  2.002890e+10  114.352374  3.858516e-49\n",
              "own_home    1.0  4.000708e+07  4.000708e+07    0.228415  6.330554e-01\n",
              "Residual  295.0  5.166945e+10  1.751507e+08         NaN           NaN"
            ],
            "text/html": [
              "<div>\n",
              "<style scoped>\n",
              "    .dataframe tbody tr th:only-of-type {\n",
              "        vertical-align: middle;\n",
              "    }\n",
              "\n",
              "    .dataframe tbody tr th {\n",
              "        vertical-align: top;\n",
              "    }\n",
              "\n",
              "    .dataframe thead th {\n",
              "        text-align: right;\n",
              "    }\n",
              "</style>\n",
              "<table border=\"1\" class=\"dataframe\">\n",
              "  <thead>\n",
              "    <tr style=\"text-align: right;\">\n",
              "      <th></th>\n",
              "      <th>df</th>\n",
              "      <th>sum_sq</th>\n",
              "      <th>mean_sq</th>\n",
              "      <th>F</th>\n",
              "      <th>PR(&gt;F)</th>\n",
              "    </tr>\n",
              "  </thead>\n",
              "  <tbody>\n",
              "    <tr>\n",
              "      <th>Segment</th>\n",
              "      <td>3.0</td>\n",
              "      <td>6.008669e+10</td>\n",
              "      <td>2.002890e+10</td>\n",
              "      <td>114.352374</td>\n",
              "      <td>3.858516e-49</td>\n",
              "    </tr>\n",
              "    <tr>\n",
              "      <th>own_home</th>\n",
              "      <td>1.0</td>\n",
              "      <td>4.000708e+07</td>\n",
              "      <td>4.000708e+07</td>\n",
              "      <td>0.228415</td>\n",
              "      <td>6.330554e-01</td>\n",
              "    </tr>\n",
              "    <tr>\n",
              "      <th>Residual</th>\n",
              "      <td>295.0</td>\n",
              "      <td>5.166945e+10</td>\n",
              "      <td>1.751507e+08</td>\n",
              "      <td>NaN</td>\n",
              "      <td>NaN</td>\n",
              "    </tr>\n",
              "  </tbody>\n",
              "</table>\n",
              "</div>"
            ]
          },
          "metadata": {},
          "execution_count": 20
        }
      ],
      "metadata": {
        "id": "Jk0W1r1D8n1j",
        "colab_type": "code",
        "colab": {}
      }
    },
    {
      "cell_type": "code",
      "execution_count": 22,
      "source": [
        "# Could it be that home ownership is related to income in some segments but not in others? This would\r\n",
        "# be represented in model by an interaction effect. In a model formula, \"+\" indicates that variables\r\n",
        "# should be modeled for main effects only. We can instead write \":\" for an interaction or \"∗\" for\r\n",
        "# both main effect and interaction.\r\n",
        "# We test main effects and interaction of home ownership and segment:\r\n",
        "\r\n",
        "# Again, segment is a significant predictor, while home ownership and the interaction of segment with\r\n",
        "# home ownership are not signiﬁcant. \r\n",
        "income_home_segment_lm = smf.ols('income ~ Segment * own_home',\r\n",
        "                                 data=seg_df).fit()\r\n",
        "sms_anova.anova_lm(income_home_segment_lm)"
      ],
      "outputs": [
        {
          "output_type": "execute_result",
          "data": {
            "text/plain": [
              "                     df        sum_sq       mean_sq           F        PR(>F)\n",
              "Segment             3.0  6.008669e+10  2.002890e+10  113.502010  9.839888e-49\n",
              "own_home            1.0  4.000708e+07  4.000708e+07    0.226717  6.343252e-01\n",
              "Segment:own_home    3.0  1.422781e+08  4.742603e+07    0.268759  8.479014e-01\n",
              "Residual          292.0  5.152717e+10  1.764629e+08         NaN           NaN"
            ],
            "text/html": [
              "<div>\n",
              "<style scoped>\n",
              "    .dataframe tbody tr th:only-of-type {\n",
              "        vertical-align: middle;\n",
              "    }\n",
              "\n",
              "    .dataframe tbody tr th {\n",
              "        vertical-align: top;\n",
              "    }\n",
              "\n",
              "    .dataframe thead th {\n",
              "        text-align: right;\n",
              "    }\n",
              "</style>\n",
              "<table border=\"1\" class=\"dataframe\">\n",
              "  <thead>\n",
              "    <tr style=\"text-align: right;\">\n",
              "      <th></th>\n",
              "      <th>df</th>\n",
              "      <th>sum_sq</th>\n",
              "      <th>mean_sq</th>\n",
              "      <th>F</th>\n",
              "      <th>PR(&gt;F)</th>\n",
              "    </tr>\n",
              "  </thead>\n",
              "  <tbody>\n",
              "    <tr>\n",
              "      <th>Segment</th>\n",
              "      <td>3.0</td>\n",
              "      <td>6.008669e+10</td>\n",
              "      <td>2.002890e+10</td>\n",
              "      <td>113.502010</td>\n",
              "      <td>9.839888e-49</td>\n",
              "    </tr>\n",
              "    <tr>\n",
              "      <th>own_home</th>\n",
              "      <td>1.0</td>\n",
              "      <td>4.000708e+07</td>\n",
              "      <td>4.000708e+07</td>\n",
              "      <td>0.226717</td>\n",
              "      <td>6.343252e-01</td>\n",
              "    </tr>\n",
              "    <tr>\n",
              "      <th>Segment:own_home</th>\n",
              "      <td>3.0</td>\n",
              "      <td>1.422781e+08</td>\n",
              "      <td>4.742603e+07</td>\n",
              "      <td>0.268759</td>\n",
              "      <td>8.479014e-01</td>\n",
              "    </tr>\n",
              "    <tr>\n",
              "      <th>Residual</th>\n",
              "      <td>292.0</td>\n",
              "      <td>5.152717e+10</td>\n",
              "      <td>1.764629e+08</td>\n",
              "      <td>NaN</td>\n",
              "      <td>NaN</td>\n",
              "    </tr>\n",
              "  </tbody>\n",
              "</table>\n",
              "</div>"
            ]
          },
          "metadata": {},
          "execution_count": 22
        }
      ],
      "metadata": {
        "id": "dJ2lCkhK6z7G",
        "colab_type": "code",
        "colab": {}
      }
    },
    {
      "cell_type": "code",
      "execution_count": 23,
      "source": [
        "# This tells us that Model 1 — which includes both segment and home ownership — is not significantly\r\n",
        "# different in overall fit from Model 0. (H0: no difference between models. Do not rejecto H0,\r\n",
        "# p-value 0.633055). \r\n",
        "\r\n",
        "# But to find a model (for the same data set) with the best overall fit, it is better to compare AIC\r\n",
        "# or BIC of different models (y ~ a + b vs y ~ a + c vs y ~ a + b + c ...) with each other. The \r\n",
        "# lower the AIC or BIC, the better the model.\r\n",
        "sms_anova.anova_lm(smf.ols('income ~ Segment', data=seg_df).fit(),\r\n",
        "                   smf.ols('income ~ Segment + own_home',\r\n",
        "                           data=seg_df).fit(),\r\n",
        "                   typ=1)"
      ],
      "outputs": [
        {
          "output_type": "execute_result",
          "data": {
            "text/plain": [
              "   df_resid           ssr  df_diff       ss_diff         F    Pr(>F)\n",
              "0     296.0  5.170946e+10      0.0           NaN       NaN       NaN\n",
              "1     295.0  5.166945e+10      1.0  4.000708e+07  0.228415  0.633055"
            ],
            "text/html": [
              "<div>\n",
              "<style scoped>\n",
              "    .dataframe tbody tr th:only-of-type {\n",
              "        vertical-align: middle;\n",
              "    }\n",
              "\n",
              "    .dataframe tbody tr th {\n",
              "        vertical-align: top;\n",
              "    }\n",
              "\n",
              "    .dataframe thead th {\n",
              "        text-align: right;\n",
              "    }\n",
              "</style>\n",
              "<table border=\"1\" class=\"dataframe\">\n",
              "  <thead>\n",
              "    <tr style=\"text-align: right;\">\n",
              "      <th></th>\n",
              "      <th>df_resid</th>\n",
              "      <th>ssr</th>\n",
              "      <th>df_diff</th>\n",
              "      <th>ss_diff</th>\n",
              "      <th>F</th>\n",
              "      <th>Pr(&gt;F)</th>\n",
              "    </tr>\n",
              "  </thead>\n",
              "  <tbody>\n",
              "    <tr>\n",
              "      <th>0</th>\n",
              "      <td>296.0</td>\n",
              "      <td>5.170946e+10</td>\n",
              "      <td>0.0</td>\n",
              "      <td>NaN</td>\n",
              "      <td>NaN</td>\n",
              "      <td>NaN</td>\n",
              "    </tr>\n",
              "    <tr>\n",
              "      <th>1</th>\n",
              "      <td>295.0</td>\n",
              "      <td>5.166945e+10</td>\n",
              "      <td>1.0</td>\n",
              "      <td>4.000708e+07</td>\n",
              "      <td>0.228415</td>\n",
              "      <td>0.633055</td>\n",
              "    </tr>\n",
              "  </tbody>\n",
              "</table>\n",
              "</div>"
            ]
          },
          "metadata": {},
          "execution_count": 23
        }
      ],
      "metadata": {
        "id": "ZsqvDCDX7KA_",
        "colab_type": "code",
        "colab": {}
      }
    },
    {
      "cell_type": "markdown",
      "source": [
        "## Visualize confidence interval for group means"
      ],
      "metadata": {}
    },
    {
      "cell_type": "code",
      "execution_count": 24,
      "source": [
        "income_segment_lm = smf.ols('income ~ Segment', data=seg_df).fit()\r\n",
        "income_segment_lm.summary()"
      ],
      "outputs": [
        {
          "output_type": "execute_result",
          "data": {
            "text/plain": [
              "<class 'statsmodels.iolib.summary.Summary'>\n",
              "\"\"\"\n",
              "                            OLS Regression Results                            \n",
              "==============================================================================\n",
              "Dep. Variable:                 income   R-squared:                       0.537\n",
              "Model:                            OLS   Adj. R-squared:                  0.533\n",
              "Method:                 Least Squares   F-statistic:                     114.7\n",
              "Date:                Mon, 30 Aug 2021   Prob (F-statistic):           2.79e-49\n",
              "Time:                        09:48:04   Log-Likelihood:                -3270.5\n",
              "No. Observations:                 300   AIC:                             6549.\n",
              "Df Residuals:                     296   BIC:                             6564.\n",
              "Df Model:                           3                                         \n",
              "Covariance Type:            nonrobust                                         \n",
              "=========================================================================================\n",
              "                            coef    std err          t      P>|t|      [0.025      0.975]\n",
              "-----------------------------------------------------------------------------------------\n",
              "Intercept              5.176e+04   1579.756     32.767      0.000    4.87e+04    5.49e+04\n",
              "Segment[T.suburb_mix]  3788.7303   2059.750      1.839      0.067    -264.880    7842.341\n",
              "Segment[T.travelers]   1.085e+04   2163.170      5.014      0.000    6588.960    1.51e+04\n",
              "Segment[T.urban_hip]   -3.15e+04   2447.348    -12.869      0.000   -3.63e+04   -2.67e+04\n",
              "==============================================================================\n",
              "Omnibus:                       14.628   Durbin-Watson:                   2.048\n",
              "Prob(Omnibus):                  0.001   Jarque-Bera (JB):               35.432\n",
              "Skew:                           0.089   Prob(JB):                     2.02e-08\n",
              "Kurtosis:                       4.674   Cond. No.                         5.02\n",
              "==============================================================================\n",
              "\n",
              "Notes:\n",
              "[1] Standard Errors assume that the covariance matrix of the errors is correctly specified.\n",
              "\"\"\""
            ],
            "text/html": [
              "<table class=\"simpletable\">\n",
              "<caption>OLS Regression Results</caption>\n",
              "<tr>\n",
              "  <th>Dep. Variable:</th>         <td>income</td>      <th>  R-squared:         </th> <td>   0.537</td>\n",
              "</tr>\n",
              "<tr>\n",
              "  <th>Model:</th>                   <td>OLS</td>       <th>  Adj. R-squared:    </th> <td>   0.533</td>\n",
              "</tr>\n",
              "<tr>\n",
              "  <th>Method:</th>             <td>Least Squares</td>  <th>  F-statistic:       </th> <td>   114.7</td>\n",
              "</tr>\n",
              "<tr>\n",
              "  <th>Date:</th>             <td>Mon, 30 Aug 2021</td> <th>  Prob (F-statistic):</th> <td>2.79e-49</td>\n",
              "</tr>\n",
              "<tr>\n",
              "  <th>Time:</th>                 <td>09:48:04</td>     <th>  Log-Likelihood:    </th> <td> -3270.5</td>\n",
              "</tr>\n",
              "<tr>\n",
              "  <th>No. Observations:</th>      <td>   300</td>      <th>  AIC:               </th> <td>   6549.</td>\n",
              "</tr>\n",
              "<tr>\n",
              "  <th>Df Residuals:</th>          <td>   296</td>      <th>  BIC:               </th> <td>   6564.</td>\n",
              "</tr>\n",
              "<tr>\n",
              "  <th>Df Model:</th>              <td>     3</td>      <th>                     </th>     <td> </td>   \n",
              "</tr>\n",
              "<tr>\n",
              "  <th>Covariance Type:</th>      <td>nonrobust</td>    <th>                     </th>     <td> </td>   \n",
              "</tr>\n",
              "</table>\n",
              "<table class=\"simpletable\">\n",
              "<tr>\n",
              "            <td></td>               <th>coef</th>     <th>std err</th>      <th>t</th>      <th>P>|t|</th>  <th>[0.025</th>    <th>0.975]</th>  \n",
              "</tr>\n",
              "<tr>\n",
              "  <th>Intercept</th>             <td> 5.176e+04</td> <td> 1579.756</td> <td>   32.767</td> <td> 0.000</td> <td> 4.87e+04</td> <td> 5.49e+04</td>\n",
              "</tr>\n",
              "<tr>\n",
              "  <th>Segment[T.suburb_mix]</th> <td> 3788.7303</td> <td> 2059.750</td> <td>    1.839</td> <td> 0.067</td> <td> -264.880</td> <td> 7842.341</td>\n",
              "</tr>\n",
              "<tr>\n",
              "  <th>Segment[T.travelers]</th>  <td> 1.085e+04</td> <td> 2163.170</td> <td>    5.014</td> <td> 0.000</td> <td> 6588.960</td> <td> 1.51e+04</td>\n",
              "</tr>\n",
              "<tr>\n",
              "  <th>Segment[T.urban_hip]</th>  <td> -3.15e+04</td> <td> 2447.348</td> <td>  -12.869</td> <td> 0.000</td> <td>-3.63e+04</td> <td>-2.67e+04</td>\n",
              "</tr>\n",
              "</table>\n",
              "<table class=\"simpletable\">\n",
              "<tr>\n",
              "  <th>Omnibus:</th>       <td>14.628</td> <th>  Durbin-Watson:     </th> <td>   2.048</td>\n",
              "</tr>\n",
              "<tr>\n",
              "  <th>Prob(Omnibus):</th> <td> 0.001</td> <th>  Jarque-Bera (JB):  </th> <td>  35.432</td>\n",
              "</tr>\n",
              "<tr>\n",
              "  <th>Skew:</th>          <td> 0.089</td> <th>  Prob(JB):          </th> <td>2.02e-08</td>\n",
              "</tr>\n",
              "<tr>\n",
              "  <th>Kurtosis:</th>      <td> 4.674</td> <th>  Cond. No.          </th> <td>    5.02</td>\n",
              "</tr>\n",
              "</table><br/><br/>Notes:<br/>[1] Standard Errors assume that the covariance matrix of the errors is correctly specified."
            ]
          },
          "metadata": {},
          "execution_count": 24
        }
      ],
      "metadata": {
        "id": "-zgoDbuKYGX4",
        "colab_type": "code",
        "colab": {}
      }
    },
    {
      "cell_type": "code",
      "execution_count": 25,
      "source": [
        "income_segment_lm.params"
      ],
      "outputs": [
        {
          "output_type": "execute_result",
          "data": {
            "text/plain": [
              "Intercept                51763.552666\n",
              "Segment[T.suburb_mix]     3788.730259\n",
              "Segment[T.travelers]     10846.102661\n",
              "Segment[T.urban_hip]    -31495.815349\n",
              "dtype: float64"
            ]
          },
          "metadata": {},
          "execution_count": 25
        }
      ],
      "metadata": {
        "id": "cc9WmQv4E7nZ",
        "colab_type": "code",
        "colab": {}
      }
    },
    {
      "cell_type": "code",
      "execution_count": 26,
      "source": [
        "# That is strange, how can a negative income be interpreted? It is easier to remove the intercept\r\n",
        "# and do the same again so that the confidence interval is easier to interpret.\r\n",
        "income_segment_lm.conf_int()"
      ],
      "outputs": [
        {
          "output_type": "execute_result",
          "data": {
            "text/plain": [
              "                                  0             1\n",
              "Intercept              48654.575215  54872.530118\n",
              "Segment[T.suburb_mix]   -264.880397   7842.340915\n",
              "Segment[T.travelers]    6588.959959  15103.245364\n",
              "Segment[T.urban_hip]  -36312.222507 -26679.408192"
            ],
            "text/html": [
              "<div>\n",
              "<style scoped>\n",
              "    .dataframe tbody tr th:only-of-type {\n",
              "        vertical-align: middle;\n",
              "    }\n",
              "\n",
              "    .dataframe tbody tr th {\n",
              "        vertical-align: top;\n",
              "    }\n",
              "\n",
              "    .dataframe thead th {\n",
              "        text-align: right;\n",
              "    }\n",
              "</style>\n",
              "<table border=\"1\" class=\"dataframe\">\n",
              "  <thead>\n",
              "    <tr style=\"text-align: right;\">\n",
              "      <th></th>\n",
              "      <th>0</th>\n",
              "      <th>1</th>\n",
              "    </tr>\n",
              "  </thead>\n",
              "  <tbody>\n",
              "    <tr>\n",
              "      <th>Intercept</th>\n",
              "      <td>48654.575215</td>\n",
              "      <td>54872.530118</td>\n",
              "    </tr>\n",
              "    <tr>\n",
              "      <th>Segment[T.suburb_mix]</th>\n",
              "      <td>-264.880397</td>\n",
              "      <td>7842.340915</td>\n",
              "    </tr>\n",
              "    <tr>\n",
              "      <th>Segment[T.travelers]</th>\n",
              "      <td>6588.959959</td>\n",
              "      <td>15103.245364</td>\n",
              "    </tr>\n",
              "    <tr>\n",
              "      <th>Segment[T.urban_hip]</th>\n",
              "      <td>-36312.222507</td>\n",
              "      <td>-26679.408192</td>\n",
              "    </tr>\n",
              "  </tbody>\n",
              "</table>\n",
              "</div>"
            ]
          },
          "metadata": {},
          "execution_count": 26
        }
      ],
      "metadata": {
        "id": "vB6p73BEb-tu",
        "colab_type": "code",
        "colab": {}
      }
    },
    {
      "cell_type": "code",
      "execution_count": 27,
      "source": [
        "# -1 removes the intercept from model.\r\n",
        "income_segment_lm_adjusted = smf.ols('income ~ -1 + Segment',\r\n",
        "                                     data=seg_df).fit()\r\n",
        "income_segment_lm_adjusted.summary()"
      ],
      "outputs": [
        {
          "output_type": "execute_result",
          "data": {
            "text/plain": [
              "<class 'statsmodels.iolib.summary.Summary'>\n",
              "\"\"\"\n",
              "                            OLS Regression Results                            \n",
              "==============================================================================\n",
              "Dep. Variable:                 income   R-squared:                       0.537\n",
              "Model:                            OLS   Adj. R-squared:                  0.533\n",
              "Method:                 Least Squares   F-statistic:                     114.7\n",
              "Date:                Mon, 30 Aug 2021   Prob (F-statistic):           2.79e-49\n",
              "Time:                        09:48:05   Log-Likelihood:                -3270.5\n",
              "No. Observations:                 300   AIC:                             6549.\n",
              "Df Residuals:                     296   BIC:                             6564.\n",
              "Df Model:                           3                                         \n",
              "Covariance Type:            nonrobust                                         \n",
              "=======================================================================================\n",
              "                          coef    std err          t      P>|t|      [0.025      0.975]\n",
              "---------------------------------------------------------------------------------------\n",
              "Segment[moving_up]   5.176e+04   1579.756     32.767      0.000    4.87e+04    5.49e+04\n",
              "Segment[suburb_mix]  5.555e+04   1321.719     42.030      0.000     5.3e+04    5.82e+04\n",
              "Segment[travelers]   6.261e+04   1477.727     42.369      0.000    5.97e+04    6.55e+04\n",
              "Segment[urban_hip]   2.027e+04   1869.193     10.843      0.000    1.66e+04    2.39e+04\n",
              "==============================================================================\n",
              "Omnibus:                       14.628   Durbin-Watson:                   2.048\n",
              "Prob(Omnibus):                  0.001   Jarque-Bera (JB):               35.432\n",
              "Skew:                           0.089   Prob(JB):                     2.02e-08\n",
              "Kurtosis:                       4.674   Cond. No.                         1.41\n",
              "==============================================================================\n",
              "\n",
              "Notes:\n",
              "[1] Standard Errors assume that the covariance matrix of the errors is correctly specified.\n",
              "\"\"\""
            ],
            "text/html": [
              "<table class=\"simpletable\">\n",
              "<caption>OLS Regression Results</caption>\n",
              "<tr>\n",
              "  <th>Dep. Variable:</th>         <td>income</td>      <th>  R-squared:         </th> <td>   0.537</td>\n",
              "</tr>\n",
              "<tr>\n",
              "  <th>Model:</th>                   <td>OLS</td>       <th>  Adj. R-squared:    </th> <td>   0.533</td>\n",
              "</tr>\n",
              "<tr>\n",
              "  <th>Method:</th>             <td>Least Squares</td>  <th>  F-statistic:       </th> <td>   114.7</td>\n",
              "</tr>\n",
              "<tr>\n",
              "  <th>Date:</th>             <td>Mon, 30 Aug 2021</td> <th>  Prob (F-statistic):</th> <td>2.79e-49</td>\n",
              "</tr>\n",
              "<tr>\n",
              "  <th>Time:</th>                 <td>09:48:05</td>     <th>  Log-Likelihood:    </th> <td> -3270.5</td>\n",
              "</tr>\n",
              "<tr>\n",
              "  <th>No. Observations:</th>      <td>   300</td>      <th>  AIC:               </th> <td>   6549.</td>\n",
              "</tr>\n",
              "<tr>\n",
              "  <th>Df Residuals:</th>          <td>   296</td>      <th>  BIC:               </th> <td>   6564.</td>\n",
              "</tr>\n",
              "<tr>\n",
              "  <th>Df Model:</th>              <td>     3</td>      <th>                     </th>     <td> </td>   \n",
              "</tr>\n",
              "<tr>\n",
              "  <th>Covariance Type:</th>      <td>nonrobust</td>    <th>                     </th>     <td> </td>   \n",
              "</tr>\n",
              "</table>\n",
              "<table class=\"simpletable\">\n",
              "<tr>\n",
              "           <td></td>              <th>coef</th>     <th>std err</th>      <th>t</th>      <th>P>|t|</th>  <th>[0.025</th>    <th>0.975]</th>  \n",
              "</tr>\n",
              "<tr>\n",
              "  <th>Segment[moving_up]</th>  <td> 5.176e+04</td> <td> 1579.756</td> <td>   32.767</td> <td> 0.000</td> <td> 4.87e+04</td> <td> 5.49e+04</td>\n",
              "</tr>\n",
              "<tr>\n",
              "  <th>Segment[suburb_mix]</th> <td> 5.555e+04</td> <td> 1321.719</td> <td>   42.030</td> <td> 0.000</td> <td>  5.3e+04</td> <td> 5.82e+04</td>\n",
              "</tr>\n",
              "<tr>\n",
              "  <th>Segment[travelers]</th>  <td> 6.261e+04</td> <td> 1477.727</td> <td>   42.369</td> <td> 0.000</td> <td> 5.97e+04</td> <td> 6.55e+04</td>\n",
              "</tr>\n",
              "<tr>\n",
              "  <th>Segment[urban_hip]</th>  <td> 2.027e+04</td> <td> 1869.193</td> <td>   10.843</td> <td> 0.000</td> <td> 1.66e+04</td> <td> 2.39e+04</td>\n",
              "</tr>\n",
              "</table>\n",
              "<table class=\"simpletable\">\n",
              "<tr>\n",
              "  <th>Omnibus:</th>       <td>14.628</td> <th>  Durbin-Watson:     </th> <td>   2.048</td>\n",
              "</tr>\n",
              "<tr>\n",
              "  <th>Prob(Omnibus):</th> <td> 0.001</td> <th>  Jarque-Bera (JB):  </th> <td>  35.432</td>\n",
              "</tr>\n",
              "<tr>\n",
              "  <th>Skew:</th>          <td> 0.089</td> <th>  Prob(JB):          </th> <td>2.02e-08</td>\n",
              "</tr>\n",
              "<tr>\n",
              "  <th>Kurtosis:</th>      <td> 4.674</td> <th>  Cond. No.          </th> <td>    1.41</td>\n",
              "</tr>\n",
              "</table><br/><br/>Notes:<br/>[1] Standard Errors assume that the covariance matrix of the errors is correctly specified."
            ]
          },
          "metadata": {},
          "execution_count": 27
        }
      ],
      "metadata": {
        "id": "-8G49tDacRTv",
        "colab_type": "code",
        "colab": {}
      }
    },
    {
      "cell_type": "code",
      "execution_count": 28,
      "source": [
        "means = income_segment_lm_adjusted.params\r\n",
        "means"
      ],
      "outputs": [
        {
          "output_type": "execute_result",
          "data": {
            "text/plain": [
              "Segment[moving_up]     51763.552666\n",
              "Segment[suburb_mix]    55552.282925\n",
              "Segment[travelers]     62609.655328\n",
              "Segment[urban_hip]     20267.737317\n",
              "dtype: float64"
            ]
          },
          "metadata": {},
          "execution_count": 28
        }
      ],
      "metadata": {
        "id": "gvx_cmvDoJlX",
        "colab_type": "code",
        "colab": {}
      }
    },
    {
      "cell_type": "code",
      "execution_count": 29,
      "source": [
        "ci = income_segment_lm_adjusted.conf_int()\r\n",
        "ci"
      ],
      "outputs": [
        {
          "output_type": "execute_result",
          "data": {
            "text/plain": [
              "                                0             1\n",
              "Segment[moving_up]   48654.575215  54872.530118\n",
              "Segment[suburb_mix]  52951.125768  58153.440082\n",
              "Segment[travelers]   59701.473216  65517.837440\n",
              "Segment[urban_hip]   16589.145587  23946.329046"
            ],
            "text/html": [
              "<div>\n",
              "<style scoped>\n",
              "    .dataframe tbody tr th:only-of-type {\n",
              "        vertical-align: middle;\n",
              "    }\n",
              "\n",
              "    .dataframe tbody tr th {\n",
              "        vertical-align: top;\n",
              "    }\n",
              "\n",
              "    .dataframe thead th {\n",
              "        text-align: right;\n",
              "    }\n",
              "</style>\n",
              "<table border=\"1\" class=\"dataframe\">\n",
              "  <thead>\n",
              "    <tr style=\"text-align: right;\">\n",
              "      <th></th>\n",
              "      <th>0</th>\n",
              "      <th>1</th>\n",
              "    </tr>\n",
              "  </thead>\n",
              "  <tbody>\n",
              "    <tr>\n",
              "      <th>Segment[moving_up]</th>\n",
              "      <td>48654.575215</td>\n",
              "      <td>54872.530118</td>\n",
              "    </tr>\n",
              "    <tr>\n",
              "      <th>Segment[suburb_mix]</th>\n",
              "      <td>52951.125768</td>\n",
              "      <td>58153.440082</td>\n",
              "    </tr>\n",
              "    <tr>\n",
              "      <th>Segment[travelers]</th>\n",
              "      <td>59701.473216</td>\n",
              "      <td>65517.837440</td>\n",
              "    </tr>\n",
              "    <tr>\n",
              "      <th>Segment[urban_hip]</th>\n",
              "      <td>16589.145587</td>\n",
              "      <td>23946.329046</td>\n",
              "    </tr>\n",
              "  </tbody>\n",
              "</table>\n",
              "</div>"
            ]
          },
          "metadata": {},
          "execution_count": 29
        }
      ],
      "metadata": {
        "id": "c23KjRAmj7a4",
        "colab_type": "code",
        "colab": {}
      }
    },
    {
      "cell_type": "code",
      "execution_count": 30,
      "source": [
        "means.plot(kind='barh', xerr=ci[1]-means, color='0.7')"
      ],
      "outputs": [
        {
          "output_type": "execute_result",
          "data": {
            "text/plain": [
              "<AxesSubplot:>"
            ]
          },
          "metadata": {},
          "execution_count": 30
        },
        {
          "output_type": "display_data",
          "data": {
            "text/plain": [
              "<Figure size 432x288 with 1 Axes>"
            ],
            "image/svg+xml": "<?xml version=\"1.0\" encoding=\"utf-8\" standalone=\"no\"?>\r\n<!DOCTYPE svg PUBLIC \"-//W3C//DTD SVG 1.1//EN\"\r\n  \"http://www.w3.org/Graphics/SVG/1.1/DTD/svg11.dtd\">\r\n<svg height=\"248.518125pt\" version=\"1.1\" viewBox=\"0 0 467.134375 248.518125\" width=\"467.134375pt\" xmlns=\"http://www.w3.org/2000/svg\" xmlns:xlink=\"http://www.w3.org/1999/xlink\">\r\n <metadata>\r\n  <rdf:RDF xmlns:cc=\"http://creativecommons.org/ns#\" xmlns:dc=\"http://purl.org/dc/elements/1.1/\" xmlns:rdf=\"http://www.w3.org/1999/02/22-rdf-syntax-ns#\">\r\n   <cc:Work>\r\n    <dc:type rdf:resource=\"http://purl.org/dc/dcmitype/StillImage\"/>\r\n    <dc:date>2021-08-30T09:48:05.673633</dc:date>\r\n    <dc:format>image/svg+xml</dc:format>\r\n    <dc:creator>\r\n     <cc:Agent>\r\n      <dc:title>Matplotlib v3.4.2, https://matplotlib.org/</dc:title>\r\n     </cc:Agent>\r\n    </dc:creator>\r\n   </cc:Work>\r\n  </rdf:RDF>\r\n </metadata>\r\n <defs>\r\n  <style type=\"text/css\">*{stroke-linecap:butt;stroke-linejoin:round;}</style>\r\n </defs>\r\n <g id=\"figure_1\">\r\n  <g id=\"patch_1\">\r\n   <path d=\"M 0 248.518125 \r\nL 467.134375 248.518125 \r\nL 467.134375 0 \r\nL 0 0 \r\nz\r\n\" style=\"fill:none;\"/>\r\n  </g>\r\n  <g id=\"axes_1\">\r\n   <g id=\"patch_2\">\r\n    <path d=\"M 125.134375 224.64 \r\nL 459.934375 224.64 \r\nL 459.934375 7.2 \r\nL 125.134375 7.2 \r\nz\r\n\" style=\"fill:#ffffff;\"/>\r\n   </g>\r\n   <g id=\"patch_3\">\r\n    <path clip-path=\"url(#p86cb4f9bdd)\" d=\"M 125.134375 211.05 \r\nL 377.053229 211.05 \r\nL 377.053229 183.87 \r\nL 125.134375 183.87 \r\nz\r\n\" style=\"fill:#b2b2b2;\"/>\r\n   </g>\r\n   <g id=\"patch_4\">\r\n    <path clip-path=\"url(#p86cb4f9bdd)\" d=\"M 125.134375 156.69 \r\nL 395.491928 156.69 \r\nL 395.491928 129.51 \r\nL 125.134375 129.51 \r\nz\r\n\" style=\"fill:#b2b2b2;\"/>\r\n   </g>\r\n   <g id=\"patch_5\">\r\n    <path clip-path=\"url(#p86cb4f9bdd)\" d=\"M 125.134375 102.33 \r\nL 429.838202 102.33 \r\nL 429.838202 75.15 \r\nL 125.134375 75.15 \r\nz\r\n\" style=\"fill:#b2b2b2;\"/>\r\n   </g>\r\n   <g id=\"patch_6\">\r\n    <path clip-path=\"url(#p86cb4f9bdd)\" d=\"M 125.134375 47.97 \r\nL 223.771831 47.97 \r\nL 223.771831 20.79 \r\nL 125.134375 20.79 \r\nz\r\n\" style=\"fill:#b2b2b2;\"/>\r\n   </g>\r\n   <g id=\"matplotlib.axis_1\">\r\n    <g id=\"xtick_1\">\r\n     <g id=\"line2d_1\">\r\n      <defs>\r\n       <path d=\"M 0 0 \r\nL 0 3.5 \r\n\" id=\"m82dd26b669\" style=\"stroke:#000000;stroke-width:0.8;\"/>\r\n      </defs>\r\n      <g>\r\n       <use style=\"stroke:#000000;stroke-width:0.8;\" x=\"125.134375\" xlink:href=\"#m82dd26b669\" y=\"224.64\"/>\r\n      </g>\r\n     </g>\r\n     <g id=\"text_1\">\r\n      <!-- 0 -->\r\n      <g transform=\"translate(121.953125 239.238437)scale(0.1 -0.1)\">\r\n       <defs>\r\n        <path d=\"M 2034 4250 \r\nQ 1547 4250 1301 3770 \r\nQ 1056 3291 1056 2328 \r\nQ 1056 1369 1301 889 \r\nQ 1547 409 2034 409 \r\nQ 2525 409 2770 889 \r\nQ 3016 1369 3016 2328 \r\nQ 3016 3291 2770 3770 \r\nQ 2525 4250 2034 4250 \r\nz\r\nM 2034 4750 \r\nQ 2819 4750 3233 4129 \r\nQ 3647 3509 3647 2328 \r\nQ 3647 1150 3233 529 \r\nQ 2819 -91 2034 -91 \r\nQ 1250 -91 836 529 \r\nQ 422 1150 422 2328 \r\nQ 422 3509 836 4129 \r\nQ 1250 4750 2034 4750 \r\nz\r\n\" id=\"DejaVuSans-30\" transform=\"scale(0.015625)\"/>\r\n       </defs>\r\n       <use xlink:href=\"#DejaVuSans-30\"/>\r\n      </g>\r\n     </g>\r\n    </g>\r\n    <g id=\"xtick_2\">\r\n     <g id=\"line2d_2\">\r\n      <g>\r\n       <use style=\"stroke:#000000;stroke-width:0.8;\" x=\"173.801601\" xlink:href=\"#m82dd26b669\" y=\"224.64\"/>\r\n      </g>\r\n     </g>\r\n     <g id=\"text_2\">\r\n      <!-- 10000 -->\r\n      <g transform=\"translate(157.895351 239.238437)scale(0.1 -0.1)\">\r\n       <defs>\r\n        <path d=\"M 794 531 \r\nL 1825 531 \r\nL 1825 4091 \r\nL 703 3866 \r\nL 703 4441 \r\nL 1819 4666 \r\nL 2450 4666 \r\nL 2450 531 \r\nL 3481 531 \r\nL 3481 0 \r\nL 794 0 \r\nL 794 531 \r\nz\r\n\" id=\"DejaVuSans-31\" transform=\"scale(0.015625)\"/>\r\n       </defs>\r\n       <use xlink:href=\"#DejaVuSans-31\"/>\r\n       <use x=\"63.623047\" xlink:href=\"#DejaVuSans-30\"/>\r\n       <use x=\"127.246094\" xlink:href=\"#DejaVuSans-30\"/>\r\n       <use x=\"190.869141\" xlink:href=\"#DejaVuSans-30\"/>\r\n       <use x=\"254.492188\" xlink:href=\"#DejaVuSans-30\"/>\r\n      </g>\r\n     </g>\r\n    </g>\r\n    <g id=\"xtick_3\">\r\n     <g id=\"line2d_3\">\r\n      <g>\r\n       <use style=\"stroke:#000000;stroke-width:0.8;\" x=\"222.468828\" xlink:href=\"#m82dd26b669\" y=\"224.64\"/>\r\n      </g>\r\n     </g>\r\n     <g id=\"text_3\">\r\n      <!-- 20000 -->\r\n      <g transform=\"translate(206.562578 239.238437)scale(0.1 -0.1)\">\r\n       <defs>\r\n        <path d=\"M 1228 531 \r\nL 3431 531 \r\nL 3431 0 \r\nL 469 0 \r\nL 469 531 \r\nQ 828 903 1448 1529 \r\nQ 2069 2156 2228 2338 \r\nQ 2531 2678 2651 2914 \r\nQ 2772 3150 2772 3378 \r\nQ 2772 3750 2511 3984 \r\nQ 2250 4219 1831 4219 \r\nQ 1534 4219 1204 4116 \r\nQ 875 4013 500 3803 \r\nL 500 4441 \r\nQ 881 4594 1212 4672 \r\nQ 1544 4750 1819 4750 \r\nQ 2544 4750 2975 4387 \r\nQ 3406 4025 3406 3419 \r\nQ 3406 3131 3298 2873 \r\nQ 3191 2616 2906 2266 \r\nQ 2828 2175 2409 1742 \r\nQ 1991 1309 1228 531 \r\nz\r\n\" id=\"DejaVuSans-32\" transform=\"scale(0.015625)\"/>\r\n       </defs>\r\n       <use xlink:href=\"#DejaVuSans-32\"/>\r\n       <use x=\"63.623047\" xlink:href=\"#DejaVuSans-30\"/>\r\n       <use x=\"127.246094\" xlink:href=\"#DejaVuSans-30\"/>\r\n       <use x=\"190.869141\" xlink:href=\"#DejaVuSans-30\"/>\r\n       <use x=\"254.492188\" xlink:href=\"#DejaVuSans-30\"/>\r\n      </g>\r\n     </g>\r\n    </g>\r\n    <g id=\"xtick_4\">\r\n     <g id=\"line2d_4\">\r\n      <g>\r\n       <use style=\"stroke:#000000;stroke-width:0.8;\" x=\"271.136054\" xlink:href=\"#m82dd26b669\" y=\"224.64\"/>\r\n      </g>\r\n     </g>\r\n     <g id=\"text_4\">\r\n      <!-- 30000 -->\r\n      <g transform=\"translate(255.229804 239.238437)scale(0.1 -0.1)\">\r\n       <defs>\r\n        <path d=\"M 2597 2516 \r\nQ 3050 2419 3304 2112 \r\nQ 3559 1806 3559 1356 \r\nQ 3559 666 3084 287 \r\nQ 2609 -91 1734 -91 \r\nQ 1441 -91 1130 -33 \r\nQ 819 25 488 141 \r\nL 488 750 \r\nQ 750 597 1062 519 \r\nQ 1375 441 1716 441 \r\nQ 2309 441 2620 675 \r\nQ 2931 909 2931 1356 \r\nQ 2931 1769 2642 2001 \r\nQ 2353 2234 1838 2234 \r\nL 1294 2234 \r\nL 1294 2753 \r\nL 1863 2753 \r\nQ 2328 2753 2575 2939 \r\nQ 2822 3125 2822 3475 \r\nQ 2822 3834 2567 4026 \r\nQ 2313 4219 1838 4219 \r\nQ 1578 4219 1281 4162 \r\nQ 984 4106 628 3988 \r\nL 628 4550 \r\nQ 988 4650 1302 4700 \r\nQ 1616 4750 1894 4750 \r\nQ 2613 4750 3031 4423 \r\nQ 3450 4097 3450 3541 \r\nQ 3450 3153 3228 2886 \r\nQ 3006 2619 2597 2516 \r\nz\r\n\" id=\"DejaVuSans-33\" transform=\"scale(0.015625)\"/>\r\n       </defs>\r\n       <use xlink:href=\"#DejaVuSans-33\"/>\r\n       <use x=\"63.623047\" xlink:href=\"#DejaVuSans-30\"/>\r\n       <use x=\"127.246094\" xlink:href=\"#DejaVuSans-30\"/>\r\n       <use x=\"190.869141\" xlink:href=\"#DejaVuSans-30\"/>\r\n       <use x=\"254.492188\" xlink:href=\"#DejaVuSans-30\"/>\r\n      </g>\r\n     </g>\r\n    </g>\r\n    <g id=\"xtick_5\">\r\n     <g id=\"line2d_5\">\r\n      <g>\r\n       <use style=\"stroke:#000000;stroke-width:0.8;\" x=\"319.803281\" xlink:href=\"#m82dd26b669\" y=\"224.64\"/>\r\n      </g>\r\n     </g>\r\n     <g id=\"text_5\">\r\n      <!-- 40000 -->\r\n      <g transform=\"translate(303.897031 239.238437)scale(0.1 -0.1)\">\r\n       <defs>\r\n        <path d=\"M 2419 4116 \r\nL 825 1625 \r\nL 2419 1625 \r\nL 2419 4116 \r\nz\r\nM 2253 4666 \r\nL 3047 4666 \r\nL 3047 1625 \r\nL 3713 1625 \r\nL 3713 1100 \r\nL 3047 1100 \r\nL 3047 0 \r\nL 2419 0 \r\nL 2419 1100 \r\nL 313 1100 \r\nL 313 1709 \r\nL 2253 4666 \r\nz\r\n\" id=\"DejaVuSans-34\" transform=\"scale(0.015625)\"/>\r\n       </defs>\r\n       <use xlink:href=\"#DejaVuSans-34\"/>\r\n       <use x=\"63.623047\" xlink:href=\"#DejaVuSans-30\"/>\r\n       <use x=\"127.246094\" xlink:href=\"#DejaVuSans-30\"/>\r\n       <use x=\"190.869141\" xlink:href=\"#DejaVuSans-30\"/>\r\n       <use x=\"254.492188\" xlink:href=\"#DejaVuSans-30\"/>\r\n      </g>\r\n     </g>\r\n    </g>\r\n    <g id=\"xtick_6\">\r\n     <g id=\"line2d_6\">\r\n      <g>\r\n       <use style=\"stroke:#000000;stroke-width:0.8;\" x=\"368.470507\" xlink:href=\"#m82dd26b669\" y=\"224.64\"/>\r\n      </g>\r\n     </g>\r\n     <g id=\"text_6\">\r\n      <!-- 50000 -->\r\n      <g transform=\"translate(352.564257 239.238437)scale(0.1 -0.1)\">\r\n       <defs>\r\n        <path d=\"M 691 4666 \r\nL 3169 4666 \r\nL 3169 4134 \r\nL 1269 4134 \r\nL 1269 2991 \r\nQ 1406 3038 1543 3061 \r\nQ 1681 3084 1819 3084 \r\nQ 2600 3084 3056 2656 \r\nQ 3513 2228 3513 1497 \r\nQ 3513 744 3044 326 \r\nQ 2575 -91 1722 -91 \r\nQ 1428 -91 1123 -41 \r\nQ 819 9 494 109 \r\nL 494 744 \r\nQ 775 591 1075 516 \r\nQ 1375 441 1709 441 \r\nQ 2250 441 2565 725 \r\nQ 2881 1009 2881 1497 \r\nQ 2881 1984 2565 2268 \r\nQ 2250 2553 1709 2553 \r\nQ 1456 2553 1204 2497 \r\nQ 953 2441 691 2322 \r\nL 691 4666 \r\nz\r\n\" id=\"DejaVuSans-35\" transform=\"scale(0.015625)\"/>\r\n       </defs>\r\n       <use xlink:href=\"#DejaVuSans-35\"/>\r\n       <use x=\"63.623047\" xlink:href=\"#DejaVuSans-30\"/>\r\n       <use x=\"127.246094\" xlink:href=\"#DejaVuSans-30\"/>\r\n       <use x=\"190.869141\" xlink:href=\"#DejaVuSans-30\"/>\r\n       <use x=\"254.492188\" xlink:href=\"#DejaVuSans-30\"/>\r\n      </g>\r\n     </g>\r\n    </g>\r\n    <g id=\"xtick_7\">\r\n     <g id=\"line2d_7\">\r\n      <g>\r\n       <use style=\"stroke:#000000;stroke-width:0.8;\" x=\"417.137733\" xlink:href=\"#m82dd26b669\" y=\"224.64\"/>\r\n      </g>\r\n     </g>\r\n     <g id=\"text_7\">\r\n      <!-- 60000 -->\r\n      <g transform=\"translate(401.231483 239.238437)scale(0.1 -0.1)\">\r\n       <defs>\r\n        <path d=\"M 2113 2584 \r\nQ 1688 2584 1439 2293 \r\nQ 1191 2003 1191 1497 \r\nQ 1191 994 1439 701 \r\nQ 1688 409 2113 409 \r\nQ 2538 409 2786 701 \r\nQ 3034 994 3034 1497 \r\nQ 3034 2003 2786 2293 \r\nQ 2538 2584 2113 2584 \r\nz\r\nM 3366 4563 \r\nL 3366 3988 \r\nQ 3128 4100 2886 4159 \r\nQ 2644 4219 2406 4219 \r\nQ 1781 4219 1451 3797 \r\nQ 1122 3375 1075 2522 \r\nQ 1259 2794 1537 2939 \r\nQ 1816 3084 2150 3084 \r\nQ 2853 3084 3261 2657 \r\nQ 3669 2231 3669 1497 \r\nQ 3669 778 3244 343 \r\nQ 2819 -91 2113 -91 \r\nQ 1303 -91 875 529 \r\nQ 447 1150 447 2328 \r\nQ 447 3434 972 4092 \r\nQ 1497 4750 2381 4750 \r\nQ 2619 4750 2861 4703 \r\nQ 3103 4656 3366 4563 \r\nz\r\n\" id=\"DejaVuSans-36\" transform=\"scale(0.015625)\"/>\r\n       </defs>\r\n       <use xlink:href=\"#DejaVuSans-36\"/>\r\n       <use x=\"63.623047\" xlink:href=\"#DejaVuSans-30\"/>\r\n       <use x=\"127.246094\" xlink:href=\"#DejaVuSans-30\"/>\r\n       <use x=\"190.869141\" xlink:href=\"#DejaVuSans-30\"/>\r\n       <use x=\"254.492188\" xlink:href=\"#DejaVuSans-30\"/>\r\n      </g>\r\n     </g>\r\n    </g>\r\n   </g>\r\n   <g id=\"matplotlib.axis_2\">\r\n    <g id=\"ytick_1\">\r\n     <g id=\"line2d_8\">\r\n      <defs>\r\n       <path d=\"M 0 0 \r\nL -3.5 0 \r\n\" id=\"m389df59f61\" style=\"stroke:#000000;stroke-width:0.8;\"/>\r\n      </defs>\r\n      <g>\r\n       <use style=\"stroke:#000000;stroke-width:0.8;\" x=\"125.134375\" xlink:href=\"#m389df59f61\" y=\"197.46\"/>\r\n      </g>\r\n     </g>\r\n     <g id=\"text_8\">\r\n      <!-- Segment[moving_up] -->\r\n      <g transform=\"translate(10.401562 201.259219)scale(0.1 -0.1)\">\r\n       <defs>\r\n        <path d=\"M 3425 4513 \r\nL 3425 3897 \r\nQ 3066 4069 2747 4153 \r\nQ 2428 4238 2131 4238 \r\nQ 1616 4238 1336 4038 \r\nQ 1056 3838 1056 3469 \r\nQ 1056 3159 1242 3001 \r\nQ 1428 2844 1947 2747 \r\nL 2328 2669 \r\nQ 3034 2534 3370 2195 \r\nQ 3706 1856 3706 1288 \r\nQ 3706 609 3251 259 \r\nQ 2797 -91 1919 -91 \r\nQ 1588 -91 1214 -16 \r\nQ 841 59 441 206 \r\nL 441 856 \r\nQ 825 641 1194 531 \r\nQ 1563 422 1919 422 \r\nQ 2459 422 2753 634 \r\nQ 3047 847 3047 1241 \r\nQ 3047 1584 2836 1778 \r\nQ 2625 1972 2144 2069 \r\nL 1759 2144 \r\nQ 1053 2284 737 2584 \r\nQ 422 2884 422 3419 \r\nQ 422 4038 858 4394 \r\nQ 1294 4750 2059 4750 \r\nQ 2388 4750 2728 4690 \r\nQ 3069 4631 3425 4513 \r\nz\r\n\" id=\"DejaVuSans-53\" transform=\"scale(0.015625)\"/>\r\n        <path d=\"M 3597 1894 \r\nL 3597 1613 \r\nL 953 1613 \r\nQ 991 1019 1311 708 \r\nQ 1631 397 2203 397 \r\nQ 2534 397 2845 478 \r\nQ 3156 559 3463 722 \r\nL 3463 178 \r\nQ 3153 47 2828 -22 \r\nQ 2503 -91 2169 -91 \r\nQ 1331 -91 842 396 \r\nQ 353 884 353 1716 \r\nQ 353 2575 817 3079 \r\nQ 1281 3584 2069 3584 \r\nQ 2775 3584 3186 3129 \r\nQ 3597 2675 3597 1894 \r\nz\r\nM 3022 2063 \r\nQ 3016 2534 2758 2815 \r\nQ 2500 3097 2075 3097 \r\nQ 1594 3097 1305 2825 \r\nQ 1016 2553 972 2059 \r\nL 3022 2063 \r\nz\r\n\" id=\"DejaVuSans-65\" transform=\"scale(0.015625)\"/>\r\n        <path d=\"M 2906 1791 \r\nQ 2906 2416 2648 2759 \r\nQ 2391 3103 1925 3103 \r\nQ 1463 3103 1205 2759 \r\nQ 947 2416 947 1791 \r\nQ 947 1169 1205 825 \r\nQ 1463 481 1925 481 \r\nQ 2391 481 2648 825 \r\nQ 2906 1169 2906 1791 \r\nz\r\nM 3481 434 \r\nQ 3481 -459 3084 -895 \r\nQ 2688 -1331 1869 -1331 \r\nQ 1566 -1331 1297 -1286 \r\nQ 1028 -1241 775 -1147 \r\nL 775 -588 \r\nQ 1028 -725 1275 -790 \r\nQ 1522 -856 1778 -856 \r\nQ 2344 -856 2625 -561 \r\nQ 2906 -266 2906 331 \r\nL 2906 616 \r\nQ 2728 306 2450 153 \r\nQ 2172 0 1784 0 \r\nQ 1141 0 747 490 \r\nQ 353 981 353 1791 \r\nQ 353 2603 747 3093 \r\nQ 1141 3584 1784 3584 \r\nQ 2172 3584 2450 3431 \r\nQ 2728 3278 2906 2969 \r\nL 2906 3500 \r\nL 3481 3500 \r\nL 3481 434 \r\nz\r\n\" id=\"DejaVuSans-67\" transform=\"scale(0.015625)\"/>\r\n        <path d=\"M 3328 2828 \r\nQ 3544 3216 3844 3400 \r\nQ 4144 3584 4550 3584 \r\nQ 5097 3584 5394 3201 \r\nQ 5691 2819 5691 2113 \r\nL 5691 0 \r\nL 5113 0 \r\nL 5113 2094 \r\nQ 5113 2597 4934 2840 \r\nQ 4756 3084 4391 3084 \r\nQ 3944 3084 3684 2787 \r\nQ 3425 2491 3425 1978 \r\nL 3425 0 \r\nL 2847 0 \r\nL 2847 2094 \r\nQ 2847 2600 2669 2842 \r\nQ 2491 3084 2119 3084 \r\nQ 1678 3084 1418 2786 \r\nQ 1159 2488 1159 1978 \r\nL 1159 0 \r\nL 581 0 \r\nL 581 3500 \r\nL 1159 3500 \r\nL 1159 2956 \r\nQ 1356 3278 1631 3431 \r\nQ 1906 3584 2284 3584 \r\nQ 2666 3584 2933 3390 \r\nQ 3200 3197 3328 2828 \r\nz\r\n\" id=\"DejaVuSans-6d\" transform=\"scale(0.015625)\"/>\r\n        <path d=\"M 3513 2113 \r\nL 3513 0 \r\nL 2938 0 \r\nL 2938 2094 \r\nQ 2938 2591 2744 2837 \r\nQ 2550 3084 2163 3084 \r\nQ 1697 3084 1428 2787 \r\nQ 1159 2491 1159 1978 \r\nL 1159 0 \r\nL 581 0 \r\nL 581 3500 \r\nL 1159 3500 \r\nL 1159 2956 \r\nQ 1366 3272 1645 3428 \r\nQ 1925 3584 2291 3584 \r\nQ 2894 3584 3203 3211 \r\nQ 3513 2838 3513 2113 \r\nz\r\n\" id=\"DejaVuSans-6e\" transform=\"scale(0.015625)\"/>\r\n        <path d=\"M 1172 4494 \r\nL 1172 3500 \r\nL 2356 3500 \r\nL 2356 3053 \r\nL 1172 3053 \r\nL 1172 1153 \r\nQ 1172 725 1289 603 \r\nQ 1406 481 1766 481 \r\nL 2356 481 \r\nL 2356 0 \r\nL 1766 0 \r\nQ 1100 0 847 248 \r\nQ 594 497 594 1153 \r\nL 594 3053 \r\nL 172 3053 \r\nL 172 3500 \r\nL 594 3500 \r\nL 594 4494 \r\nL 1172 4494 \r\nz\r\n\" id=\"DejaVuSans-74\" transform=\"scale(0.015625)\"/>\r\n        <path d=\"M 550 4863 \r\nL 1875 4863 \r\nL 1875 4416 \r\nL 1125 4416 \r\nL 1125 -397 \r\nL 1875 -397 \r\nL 1875 -844 \r\nL 550 -844 \r\nL 550 4863 \r\nz\r\n\" id=\"DejaVuSans-5b\" transform=\"scale(0.015625)\"/>\r\n        <path d=\"M 1959 3097 \r\nQ 1497 3097 1228 2736 \r\nQ 959 2375 959 1747 \r\nQ 959 1119 1226 758 \r\nQ 1494 397 1959 397 \r\nQ 2419 397 2687 759 \r\nQ 2956 1122 2956 1747 \r\nQ 2956 2369 2687 2733 \r\nQ 2419 3097 1959 3097 \r\nz\r\nM 1959 3584 \r\nQ 2709 3584 3137 3096 \r\nQ 3566 2609 3566 1747 \r\nQ 3566 888 3137 398 \r\nQ 2709 -91 1959 -91 \r\nQ 1206 -91 779 398 \r\nQ 353 888 353 1747 \r\nQ 353 2609 779 3096 \r\nQ 1206 3584 1959 3584 \r\nz\r\n\" id=\"DejaVuSans-6f\" transform=\"scale(0.015625)\"/>\r\n        <path d=\"M 191 3500 \r\nL 800 3500 \r\nL 1894 563 \r\nL 2988 3500 \r\nL 3597 3500 \r\nL 2284 0 \r\nL 1503 0 \r\nL 191 3500 \r\nz\r\n\" id=\"DejaVuSans-76\" transform=\"scale(0.015625)\"/>\r\n        <path d=\"M 603 3500 \r\nL 1178 3500 \r\nL 1178 0 \r\nL 603 0 \r\nL 603 3500 \r\nz\r\nM 603 4863 \r\nL 1178 4863 \r\nL 1178 4134 \r\nL 603 4134 \r\nL 603 4863 \r\nz\r\n\" id=\"DejaVuSans-69\" transform=\"scale(0.015625)\"/>\r\n        <path d=\"M 3263 -1063 \r\nL 3263 -1509 \r\nL -63 -1509 \r\nL -63 -1063 \r\nL 3263 -1063 \r\nz\r\n\" id=\"DejaVuSans-5f\" transform=\"scale(0.015625)\"/>\r\n        <path d=\"M 544 1381 \r\nL 544 3500 \r\nL 1119 3500 \r\nL 1119 1403 \r\nQ 1119 906 1312 657 \r\nQ 1506 409 1894 409 \r\nQ 2359 409 2629 706 \r\nQ 2900 1003 2900 1516 \r\nL 2900 3500 \r\nL 3475 3500 \r\nL 3475 0 \r\nL 2900 0 \r\nL 2900 538 \r\nQ 2691 219 2414 64 \r\nQ 2138 -91 1772 -91 \r\nQ 1169 -91 856 284 \r\nQ 544 659 544 1381 \r\nz\r\nM 1991 3584 \r\nL 1991 3584 \r\nz\r\n\" id=\"DejaVuSans-75\" transform=\"scale(0.015625)\"/>\r\n        <path d=\"M 1159 525 \r\nL 1159 -1331 \r\nL 581 -1331 \r\nL 581 3500 \r\nL 1159 3500 \r\nL 1159 2969 \r\nQ 1341 3281 1617 3432 \r\nQ 1894 3584 2278 3584 \r\nQ 2916 3584 3314 3078 \r\nQ 3713 2572 3713 1747 \r\nQ 3713 922 3314 415 \r\nQ 2916 -91 2278 -91 \r\nQ 1894 -91 1617 61 \r\nQ 1341 213 1159 525 \r\nz\r\nM 3116 1747 \r\nQ 3116 2381 2855 2742 \r\nQ 2594 3103 2138 3103 \r\nQ 1681 3103 1420 2742 \r\nQ 1159 2381 1159 1747 \r\nQ 1159 1113 1420 752 \r\nQ 1681 391 2138 391 \r\nQ 2594 391 2855 752 \r\nQ 3116 1113 3116 1747 \r\nz\r\n\" id=\"DejaVuSans-70\" transform=\"scale(0.015625)\"/>\r\n        <path d=\"M 1947 4863 \r\nL 1947 -844 \r\nL 622 -844 \r\nL 622 -397 \r\nL 1369 -397 \r\nL 1369 4416 \r\nL 622 4416 \r\nL 622 4863 \r\nL 1947 4863 \r\nz\r\n\" id=\"DejaVuSans-5d\" transform=\"scale(0.015625)\"/>\r\n       </defs>\r\n       <use xlink:href=\"#DejaVuSans-53\"/>\r\n       <use x=\"63.476562\" xlink:href=\"#DejaVuSans-65\"/>\r\n       <use x=\"125\" xlink:href=\"#DejaVuSans-67\"/>\r\n       <use x=\"188.476562\" xlink:href=\"#DejaVuSans-6d\"/>\r\n       <use x=\"285.888672\" xlink:href=\"#DejaVuSans-65\"/>\r\n       <use x=\"347.412109\" xlink:href=\"#DejaVuSans-6e\"/>\r\n       <use x=\"410.791016\" xlink:href=\"#DejaVuSans-74\"/>\r\n       <use x=\"450\" xlink:href=\"#DejaVuSans-5b\"/>\r\n       <use x=\"489.013672\" xlink:href=\"#DejaVuSans-6d\"/>\r\n       <use x=\"586.425781\" xlink:href=\"#DejaVuSans-6f\"/>\r\n       <use x=\"647.607422\" xlink:href=\"#DejaVuSans-76\"/>\r\n       <use x=\"706.787109\" xlink:href=\"#DejaVuSans-69\"/>\r\n       <use x=\"734.570312\" xlink:href=\"#DejaVuSans-6e\"/>\r\n       <use x=\"797.949219\" xlink:href=\"#DejaVuSans-67\"/>\r\n       <use x=\"861.425781\" xlink:href=\"#DejaVuSans-5f\"/>\r\n       <use x=\"911.425781\" xlink:href=\"#DejaVuSans-75\"/>\r\n       <use x=\"974.804688\" xlink:href=\"#DejaVuSans-70\"/>\r\n       <use x=\"1038.28125\" xlink:href=\"#DejaVuSans-5d\"/>\r\n      </g>\r\n     </g>\r\n    </g>\r\n    <g id=\"ytick_2\">\r\n     <g id=\"line2d_9\">\r\n      <g>\r\n       <use style=\"stroke:#000000;stroke-width:0.8;\" x=\"125.134375\" xlink:href=\"#m389df59f61\" y=\"143.1\"/>\r\n      </g>\r\n     </g>\r\n     <g id=\"text_9\">\r\n      <!-- Segment[suburb_mix] -->\r\n      <g transform=\"translate(7.2 146.899219)scale(0.1 -0.1)\">\r\n       <defs>\r\n        <path d=\"M 2834 3397 \r\nL 2834 2853 \r\nQ 2591 2978 2328 3040 \r\nQ 2066 3103 1784 3103 \r\nQ 1356 3103 1142 2972 \r\nQ 928 2841 928 2578 \r\nQ 928 2378 1081 2264 \r\nQ 1234 2150 1697 2047 \r\nL 1894 2003 \r\nQ 2506 1872 2764 1633 \r\nQ 3022 1394 3022 966 \r\nQ 3022 478 2636 193 \r\nQ 2250 -91 1575 -91 \r\nQ 1294 -91 989 -36 \r\nQ 684 19 347 128 \r\nL 347 722 \r\nQ 666 556 975 473 \r\nQ 1284 391 1588 391 \r\nQ 1994 391 2212 530 \r\nQ 2431 669 2431 922 \r\nQ 2431 1156 2273 1281 \r\nQ 2116 1406 1581 1522 \r\nL 1381 1569 \r\nQ 847 1681 609 1914 \r\nQ 372 2147 372 2553 \r\nQ 372 3047 722 3315 \r\nQ 1072 3584 1716 3584 \r\nQ 2034 3584 2315 3537 \r\nQ 2597 3491 2834 3397 \r\nz\r\n\" id=\"DejaVuSans-73\" transform=\"scale(0.015625)\"/>\r\n        <path d=\"M 3116 1747 \r\nQ 3116 2381 2855 2742 \r\nQ 2594 3103 2138 3103 \r\nQ 1681 3103 1420 2742 \r\nQ 1159 2381 1159 1747 \r\nQ 1159 1113 1420 752 \r\nQ 1681 391 2138 391 \r\nQ 2594 391 2855 752 \r\nQ 3116 1113 3116 1747 \r\nz\r\nM 1159 2969 \r\nQ 1341 3281 1617 3432 \r\nQ 1894 3584 2278 3584 \r\nQ 2916 3584 3314 3078 \r\nQ 3713 2572 3713 1747 \r\nQ 3713 922 3314 415 \r\nQ 2916 -91 2278 -91 \r\nQ 1894 -91 1617 61 \r\nQ 1341 213 1159 525 \r\nL 1159 0 \r\nL 581 0 \r\nL 581 4863 \r\nL 1159 4863 \r\nL 1159 2969 \r\nz\r\n\" id=\"DejaVuSans-62\" transform=\"scale(0.015625)\"/>\r\n        <path d=\"M 2631 2963 \r\nQ 2534 3019 2420 3045 \r\nQ 2306 3072 2169 3072 \r\nQ 1681 3072 1420 2755 \r\nQ 1159 2438 1159 1844 \r\nL 1159 0 \r\nL 581 0 \r\nL 581 3500 \r\nL 1159 3500 \r\nL 1159 2956 \r\nQ 1341 3275 1631 3429 \r\nQ 1922 3584 2338 3584 \r\nQ 2397 3584 2469 3576 \r\nQ 2541 3569 2628 3553 \r\nL 2631 2963 \r\nz\r\n\" id=\"DejaVuSans-72\" transform=\"scale(0.015625)\"/>\r\n        <path d=\"M 3513 3500 \r\nL 2247 1797 \r\nL 3578 0 \r\nL 2900 0 \r\nL 1881 1375 \r\nL 863 0 \r\nL 184 0 \r\nL 1544 1831 \r\nL 300 3500 \r\nL 978 3500 \r\nL 1906 2253 \r\nL 2834 3500 \r\nL 3513 3500 \r\nz\r\n\" id=\"DejaVuSans-78\" transform=\"scale(0.015625)\"/>\r\n       </defs>\r\n       <use xlink:href=\"#DejaVuSans-53\"/>\r\n       <use x=\"63.476562\" xlink:href=\"#DejaVuSans-65\"/>\r\n       <use x=\"125\" xlink:href=\"#DejaVuSans-67\"/>\r\n       <use x=\"188.476562\" xlink:href=\"#DejaVuSans-6d\"/>\r\n       <use x=\"285.888672\" xlink:href=\"#DejaVuSans-65\"/>\r\n       <use x=\"347.412109\" xlink:href=\"#DejaVuSans-6e\"/>\r\n       <use x=\"410.791016\" xlink:href=\"#DejaVuSans-74\"/>\r\n       <use x=\"450\" xlink:href=\"#DejaVuSans-5b\"/>\r\n       <use x=\"489.013672\" xlink:href=\"#DejaVuSans-73\"/>\r\n       <use x=\"541.113281\" xlink:href=\"#DejaVuSans-75\"/>\r\n       <use x=\"604.492188\" xlink:href=\"#DejaVuSans-62\"/>\r\n       <use x=\"667.96875\" xlink:href=\"#DejaVuSans-75\"/>\r\n       <use x=\"731.347656\" xlink:href=\"#DejaVuSans-72\"/>\r\n       <use x=\"772.460938\" xlink:href=\"#DejaVuSans-62\"/>\r\n       <use x=\"835.9375\" xlink:href=\"#DejaVuSans-5f\"/>\r\n       <use x=\"885.9375\" xlink:href=\"#DejaVuSans-6d\"/>\r\n       <use x=\"983.349609\" xlink:href=\"#DejaVuSans-69\"/>\r\n       <use x=\"1011.132812\" xlink:href=\"#DejaVuSans-78\"/>\r\n       <use x=\"1070.3125\" xlink:href=\"#DejaVuSans-5d\"/>\r\n      </g>\r\n     </g>\r\n    </g>\r\n    <g id=\"ytick_3\">\r\n     <g id=\"line2d_10\">\r\n      <g>\r\n       <use style=\"stroke:#000000;stroke-width:0.8;\" x=\"125.134375\" xlink:href=\"#m389df59f61\" y=\"88.74\"/>\r\n      </g>\r\n     </g>\r\n     <g id=\"text_10\">\r\n      <!-- Segment[travelers] -->\r\n      <g transform=\"translate(20.846875 92.539219)scale(0.1 -0.1)\">\r\n       <defs>\r\n        <path d=\"M 2194 1759 \r\nQ 1497 1759 1228 1600 \r\nQ 959 1441 959 1056 \r\nQ 959 750 1161 570 \r\nQ 1363 391 1709 391 \r\nQ 2188 391 2477 730 \r\nQ 2766 1069 2766 1631 \r\nL 2766 1759 \r\nL 2194 1759 \r\nz\r\nM 3341 1997 \r\nL 3341 0 \r\nL 2766 0 \r\nL 2766 531 \r\nQ 2569 213 2275 61 \r\nQ 1981 -91 1556 -91 \r\nQ 1019 -91 701 211 \r\nQ 384 513 384 1019 \r\nQ 384 1609 779 1909 \r\nQ 1175 2209 1959 2209 \r\nL 2766 2209 \r\nL 2766 2266 \r\nQ 2766 2663 2505 2880 \r\nQ 2244 3097 1772 3097 \r\nQ 1472 3097 1187 3025 \r\nQ 903 2953 641 2809 \r\nL 641 3341 \r\nQ 956 3463 1253 3523 \r\nQ 1550 3584 1831 3584 \r\nQ 2591 3584 2966 3190 \r\nQ 3341 2797 3341 1997 \r\nz\r\n\" id=\"DejaVuSans-61\" transform=\"scale(0.015625)\"/>\r\n        <path d=\"M 603 4863 \r\nL 1178 4863 \r\nL 1178 0 \r\nL 603 0 \r\nL 603 4863 \r\nz\r\n\" id=\"DejaVuSans-6c\" transform=\"scale(0.015625)\"/>\r\n       </defs>\r\n       <use xlink:href=\"#DejaVuSans-53\"/>\r\n       <use x=\"63.476562\" xlink:href=\"#DejaVuSans-65\"/>\r\n       <use x=\"125\" xlink:href=\"#DejaVuSans-67\"/>\r\n       <use x=\"188.476562\" xlink:href=\"#DejaVuSans-6d\"/>\r\n       <use x=\"285.888672\" xlink:href=\"#DejaVuSans-65\"/>\r\n       <use x=\"347.412109\" xlink:href=\"#DejaVuSans-6e\"/>\r\n       <use x=\"410.791016\" xlink:href=\"#DejaVuSans-74\"/>\r\n       <use x=\"450\" xlink:href=\"#DejaVuSans-5b\"/>\r\n       <use x=\"489.013672\" xlink:href=\"#DejaVuSans-74\"/>\r\n       <use x=\"528.222656\" xlink:href=\"#DejaVuSans-72\"/>\r\n       <use x=\"569.335938\" xlink:href=\"#DejaVuSans-61\"/>\r\n       <use x=\"630.615234\" xlink:href=\"#DejaVuSans-76\"/>\r\n       <use x=\"689.794922\" xlink:href=\"#DejaVuSans-65\"/>\r\n       <use x=\"751.318359\" xlink:href=\"#DejaVuSans-6c\"/>\r\n       <use x=\"779.101562\" xlink:href=\"#DejaVuSans-65\"/>\r\n       <use x=\"840.625\" xlink:href=\"#DejaVuSans-72\"/>\r\n       <use x=\"881.738281\" xlink:href=\"#DejaVuSans-73\"/>\r\n       <use x=\"933.837891\" xlink:href=\"#DejaVuSans-5d\"/>\r\n      </g>\r\n     </g>\r\n    </g>\r\n    <g id=\"ytick_4\">\r\n     <g id=\"line2d_11\">\r\n      <g>\r\n       <use style=\"stroke:#000000;stroke-width:0.8;\" x=\"125.134375\" xlink:href=\"#m389df59f61\" y=\"34.38\"/>\r\n      </g>\r\n     </g>\r\n     <g id=\"text_11\">\r\n      <!-- Segment[urban_hip] -->\r\n      <g transform=\"translate(15.603125 38.179219)scale(0.1 -0.1)\">\r\n       <defs>\r\n        <path d=\"M 3513 2113 \r\nL 3513 0 \r\nL 2938 0 \r\nL 2938 2094 \r\nQ 2938 2591 2744 2837 \r\nQ 2550 3084 2163 3084 \r\nQ 1697 3084 1428 2787 \r\nQ 1159 2491 1159 1978 \r\nL 1159 0 \r\nL 581 0 \r\nL 581 4863 \r\nL 1159 4863 \r\nL 1159 2956 \r\nQ 1366 3272 1645 3428 \r\nQ 1925 3584 2291 3584 \r\nQ 2894 3584 3203 3211 \r\nQ 3513 2838 3513 2113 \r\nz\r\n\" id=\"DejaVuSans-68\" transform=\"scale(0.015625)\"/>\r\n       </defs>\r\n       <use xlink:href=\"#DejaVuSans-53\"/>\r\n       <use x=\"63.476562\" xlink:href=\"#DejaVuSans-65\"/>\r\n       <use x=\"125\" xlink:href=\"#DejaVuSans-67\"/>\r\n       <use x=\"188.476562\" xlink:href=\"#DejaVuSans-6d\"/>\r\n       <use x=\"285.888672\" xlink:href=\"#DejaVuSans-65\"/>\r\n       <use x=\"347.412109\" xlink:href=\"#DejaVuSans-6e\"/>\r\n       <use x=\"410.791016\" xlink:href=\"#DejaVuSans-74\"/>\r\n       <use x=\"450\" xlink:href=\"#DejaVuSans-5b\"/>\r\n       <use x=\"489.013672\" xlink:href=\"#DejaVuSans-75\"/>\r\n       <use x=\"552.392578\" xlink:href=\"#DejaVuSans-72\"/>\r\n       <use x=\"593.505859\" xlink:href=\"#DejaVuSans-62\"/>\r\n       <use x=\"656.982422\" xlink:href=\"#DejaVuSans-61\"/>\r\n       <use x=\"718.261719\" xlink:href=\"#DejaVuSans-6e\"/>\r\n       <use x=\"781.640625\" xlink:href=\"#DejaVuSans-5f\"/>\r\n       <use x=\"831.640625\" xlink:href=\"#DejaVuSans-68\"/>\r\n       <use x=\"895.019531\" xlink:href=\"#DejaVuSans-69\"/>\r\n       <use x=\"922.802734\" xlink:href=\"#DejaVuSans-70\"/>\r\n       <use x=\"986.279297\" xlink:href=\"#DejaVuSans-5d\"/>\r\n      </g>\r\n     </g>\r\n    </g>\r\n   </g>\r\n   <g id=\"LineCollection_1\">\r\n    <path clip-path=\"url(#p86cb4f9bdd)\" d=\"M 361.922698 197.46 \r\nL 392.18376 197.46 \r\n\" style=\"fill:none;stroke:#000000;stroke-width:1.5;\"/>\r\n    <path clip-path=\"url(#p86cb4f9bdd)\" d=\"M 382.832818 143.1 \r\nL 408.151039 143.1 \r\n\" style=\"fill:none;stroke:#000000;stroke-width:1.5;\"/>\r\n    <path clip-path=\"url(#p86cb4f9bdd)\" d=\"M 415.684886 88.74 \r\nL 443.991518 88.74 \r\n\" style=\"fill:none;stroke:#000000;stroke-width:1.5;\"/>\r\n    <path clip-path=\"url(#p86cb4f9bdd)\" d=\"M 205.869145 34.38 \r\nL 241.674517 34.38 \r\n\" style=\"fill:none;stroke:#000000;stroke-width:1.5;\"/>\r\n   </g>\r\n   <g id=\"patch_7\">\r\n    <path d=\"M 125.134375 224.64 \r\nL 125.134375 7.2 \r\n\" style=\"fill:none;stroke:#000000;stroke-linecap:square;stroke-linejoin:miter;stroke-width:0.8;\"/>\r\n   </g>\r\n   <g id=\"patch_8\">\r\n    <path d=\"M 459.934375 224.64 \r\nL 459.934375 7.2 \r\n\" style=\"fill:none;stroke:#000000;stroke-linecap:square;stroke-linejoin:miter;stroke-width:0.8;\"/>\r\n   </g>\r\n   <g id=\"patch_9\">\r\n    <path d=\"M 125.134375 224.64 \r\nL 459.934375 224.64 \r\n\" style=\"fill:none;stroke:#000000;stroke-linecap:square;stroke-linejoin:miter;stroke-width:0.8;\"/>\r\n   </g>\r\n   <g id=\"patch_10\">\r\n    <path d=\"M 125.134375 7.2 \r\nL 459.934375 7.2 \r\n\" style=\"fill:none;stroke:#000000;stroke-linecap:square;stroke-linejoin:miter;stroke-width:0.8;\"/>\r\n   </g>\r\n  </g>\r\n </g>\r\n <defs>\r\n  <clipPath id=\"p86cb4f9bdd\">\r\n   <rect height=\"217.44\" width=\"334.8\" x=\"125.134375\" y=\"7.2\"/>\r\n  </clipPath>\r\n </defs>\r\n</svg>\r\n",
            "image/png": "[encoded data removed]"
          },
          "metadata": {
            "needs_background": "light"
          }
        }
      ],
      "metadata": {
        "id": "OSrQf1W8pCPE",
        "colab_type": "code",
        "colab": {}
      }
    },
    {
      "cell_type": "code",
      "execution_count": 31,
      "source": [
        "import matplotlib.pyplot as plt\r\n",
        "plt.figure(figsize=(8,4))\r\n",
        "plt.barh(y=range(4), left=ci[0], width=ci[1]-ci[0],\r\n",
        "         height=0.2, color='0.4')\r\n",
        "plt.xlabel('income ($)')\r\n",
        "plt.yticks(range(len(means)), ci.index)\r\n",
        "plt.plot(means, range(4), 'ro')\r\n",
        "plt.xlim((0, 68000))"
      ],
      "outputs": [
        {
          "output_type": "execute_result",
          "data": {
            "text/plain": [
              "(0.0, 68000.0)"
            ]
          },
          "metadata": {},
          "execution_count": 31
        },
        {
          "output_type": "display_data",
          "data": {
            "text/plain": [
              "<Figure size 576x288 with 1 Axes>"
            ],
            "image/svg+xml": "<?xml version=\"1.0\" encoding=\"utf-8\" standalone=\"no\"?>\r\n<!DOCTYPE svg PUBLIC \"-//W3C//DTD SVG 1.1//EN\"\r\n  \"http://www.w3.org/Graphics/SVG/1.1/DTD/svg11.dtd\">\r\n<svg height=\"262.19625pt\" version=\"1.1\" viewBox=\"0 0 578.734375 262.19625\" width=\"578.734375pt\" xmlns=\"http://www.w3.org/2000/svg\" xmlns:xlink=\"http://www.w3.org/1999/xlink\">\r\n <metadata>\r\n  <rdf:RDF xmlns:cc=\"http://creativecommons.org/ns#\" xmlns:dc=\"http://purl.org/dc/elements/1.1/\" xmlns:rdf=\"http://www.w3.org/1999/02/22-rdf-syntax-ns#\">\r\n   <cc:Work>\r\n    <dc:type rdf:resource=\"http://purl.org/dc/dcmitype/StillImage\"/>\r\n    <dc:date>2021-08-30T09:48:06.434631</dc:date>\r\n    <dc:format>image/svg+xml</dc:format>\r\n    <dc:creator>\r\n     <cc:Agent>\r\n      <dc:title>Matplotlib v3.4.2, https://matplotlib.org/</dc:title>\r\n     </cc:Agent>\r\n    </dc:creator>\r\n   </cc:Work>\r\n  </rdf:RDF>\r\n </metadata>\r\n <defs>\r\n  <style type=\"text/css\">*{stroke-linecap:butt;stroke-linejoin:round;}</style>\r\n </defs>\r\n <g id=\"figure_1\">\r\n  <g id=\"patch_1\">\r\n   <path d=\"M 0 262.19625 \r\nL 578.734375 262.19625 \r\nL 578.734375 0 \r\nL 0 0 \r\nz\r\n\" style=\"fill:none;\"/>\r\n  </g>\r\n  <g id=\"axes_1\">\r\n   <g id=\"patch_2\">\r\n    <path d=\"M 125.134375 224.64 \r\nL 571.534375 224.64 \r\nL 571.534375 7.2 \r\nL 125.134375 7.2 \r\nz\r\n\" style=\"fill:#ffffff;\"/>\r\n   </g>\r\n   <g id=\"patch_3\">\r\n    <path clip-path=\"url(#p7be3c79d8c)\" d=\"M 444.537351 214.756364 \r\nL 485.356396 214.756364 \r\nL 485.356396 202.401818 \r\nL 444.537351 202.401818 \r\nz\r\n\" style=\"fill:#666666;\"/>\r\n   </g>\r\n   <g id=\"patch_4\">\r\n    <path clip-path=\"url(#p7be3c79d8c)\" d=\"M 472.742942 152.983636 \r\nL 506.894605 152.983636 \r\nL 506.894605 140.629091 \r\nL 472.742942 140.629091 \r\nz\r\n\" style=\"fill:#666666;\"/>\r\n   </g>\r\n   <g id=\"patch_5\">\r\n    <path clip-path=\"url(#p7be3c79d8c)\" d=\"M 517.056987 91.210909 \r\nL 555.239708 91.210909 \r\nL 555.239708 78.856364 \r\nL 517.056987 78.856364 \r\nz\r\n\" style=\"fill:#666666;\"/>\r\n   </g>\r\n   <g id=\"patch_6\">\r\n    <path clip-path=\"url(#p7be3c79d8c)\" d=\"M 234.037237 29.438182 \r\nL 282.334982 29.438182 \r\nL 282.334982 17.083636 \r\nL 234.037237 17.083636 \r\nz\r\n\" style=\"fill:#666666;\"/>\r\n   </g>\r\n   <g id=\"matplotlib.axis_1\">\r\n    <g id=\"xtick_1\">\r\n     <g id=\"line2d_1\">\r\n      <defs>\r\n       <path d=\"M 0 0 \r\nL 0 3.5 \r\n\" id=\"mc343d4188e\" style=\"stroke:#000000;stroke-width:0.8;\"/>\r\n      </defs>\r\n      <g>\r\n       <use style=\"stroke:#000000;stroke-width:0.8;\" x=\"125.134375\" xlink:href=\"#mc343d4188e\" y=\"224.64\"/>\r\n      </g>\r\n     </g>\r\n     <g id=\"text_1\">\r\n      <!-- 0 -->\r\n      <g transform=\"translate(121.953125 239.238437)scale(0.1 -0.1)\">\r\n       <defs>\r\n        <path d=\"M 2034 4250 \r\nQ 1547 4250 1301 3770 \r\nQ 1056 3291 1056 2328 \r\nQ 1056 1369 1301 889 \r\nQ 1547 409 2034 409 \r\nQ 2525 409 2770 889 \r\nQ 3016 1369 3016 2328 \r\nQ 3016 3291 2770 3770 \r\nQ 2525 4250 2034 4250 \r\nz\r\nM 2034 4750 \r\nQ 2819 4750 3233 4129 \r\nQ 3647 3509 3647 2328 \r\nQ 3647 1150 3233 529 \r\nQ 2819 -91 2034 -91 \r\nQ 1250 -91 836 529 \r\nQ 422 1150 422 2328 \r\nQ 422 3509 836 4129 \r\nQ 1250 4750 2034 4750 \r\nz\r\n\" id=\"DejaVuSans-30\" transform=\"scale(0.015625)\"/>\r\n       </defs>\r\n       <use xlink:href=\"#DejaVuSans-30\"/>\r\n      </g>\r\n     </g>\r\n    </g>\r\n    <g id=\"xtick_2\">\r\n     <g id=\"line2d_2\">\r\n      <g>\r\n       <use style=\"stroke:#000000;stroke-width:0.8;\" x=\"190.781434\" xlink:href=\"#mc343d4188e\" y=\"224.64\"/>\r\n      </g>\r\n     </g>\r\n     <g id=\"text_2\">\r\n      <!-- 10000 -->\r\n      <g transform=\"translate(174.875184 239.238437)scale(0.1 -0.1)\">\r\n       <defs>\r\n        <path d=\"M 794 531 \r\nL 1825 531 \r\nL 1825 4091 \r\nL 703 3866 \r\nL 703 4441 \r\nL 1819 4666 \r\nL 2450 4666 \r\nL 2450 531 \r\nL 3481 531 \r\nL 3481 0 \r\nL 794 0 \r\nL 794 531 \r\nz\r\n\" id=\"DejaVuSans-31\" transform=\"scale(0.015625)\"/>\r\n       </defs>\r\n       <use xlink:href=\"#DejaVuSans-31\"/>\r\n       <use x=\"63.623047\" xlink:href=\"#DejaVuSans-30\"/>\r\n       <use x=\"127.246094\" xlink:href=\"#DejaVuSans-30\"/>\r\n       <use x=\"190.869141\" xlink:href=\"#DejaVuSans-30\"/>\r\n       <use x=\"254.492188\" xlink:href=\"#DejaVuSans-30\"/>\r\n      </g>\r\n     </g>\r\n    </g>\r\n    <g id=\"xtick_3\">\r\n     <g id=\"line2d_3\">\r\n      <g>\r\n       <use style=\"stroke:#000000;stroke-width:0.8;\" x=\"256.428493\" xlink:href=\"#mc343d4188e\" y=\"224.64\"/>\r\n      </g>\r\n     </g>\r\n     <g id=\"text_3\">\r\n      <!-- 20000 -->\r\n      <g transform=\"translate(240.522243 239.238437)scale(0.1 -0.1)\">\r\n       <defs>\r\n        <path d=\"M 1228 531 \r\nL 3431 531 \r\nL 3431 0 \r\nL 469 0 \r\nL 469 531 \r\nQ 828 903 1448 1529 \r\nQ 2069 2156 2228 2338 \r\nQ 2531 2678 2651 2914 \r\nQ 2772 3150 2772 3378 \r\nQ 2772 3750 2511 3984 \r\nQ 2250 4219 1831 4219 \r\nQ 1534 4219 1204 4116 \r\nQ 875 4013 500 3803 \r\nL 500 4441 \r\nQ 881 4594 1212 4672 \r\nQ 1544 4750 1819 4750 \r\nQ 2544 4750 2975 4387 \r\nQ 3406 4025 3406 3419 \r\nQ 3406 3131 3298 2873 \r\nQ 3191 2616 2906 2266 \r\nQ 2828 2175 2409 1742 \r\nQ 1991 1309 1228 531 \r\nz\r\n\" id=\"DejaVuSans-32\" transform=\"scale(0.015625)\"/>\r\n       </defs>\r\n       <use xlink:href=\"#DejaVuSans-32\"/>\r\n       <use x=\"63.623047\" xlink:href=\"#DejaVuSans-30\"/>\r\n       <use x=\"127.246094\" xlink:href=\"#DejaVuSans-30\"/>\r\n       <use x=\"190.869141\" xlink:href=\"#DejaVuSans-30\"/>\r\n       <use x=\"254.492188\" xlink:href=\"#DejaVuSans-30\"/>\r\n      </g>\r\n     </g>\r\n    </g>\r\n    <g id=\"xtick_4\">\r\n     <g id=\"line2d_4\">\r\n      <g>\r\n       <use style=\"stroke:#000000;stroke-width:0.8;\" x=\"322.075551\" xlink:href=\"#mc343d4188e\" y=\"224.64\"/>\r\n      </g>\r\n     </g>\r\n     <g id=\"text_4\">\r\n      <!-- 30000 -->\r\n      <g transform=\"translate(306.169301 239.238437)scale(0.1 -0.1)\">\r\n       <defs>\r\n        <path d=\"M 2597 2516 \r\nQ 3050 2419 3304 2112 \r\nQ 3559 1806 3559 1356 \r\nQ 3559 666 3084 287 \r\nQ 2609 -91 1734 -91 \r\nQ 1441 -91 1130 -33 \r\nQ 819 25 488 141 \r\nL 488 750 \r\nQ 750 597 1062 519 \r\nQ 1375 441 1716 441 \r\nQ 2309 441 2620 675 \r\nQ 2931 909 2931 1356 \r\nQ 2931 1769 2642 2001 \r\nQ 2353 2234 1838 2234 \r\nL 1294 2234 \r\nL 1294 2753 \r\nL 1863 2753 \r\nQ 2328 2753 2575 2939 \r\nQ 2822 3125 2822 3475 \r\nQ 2822 3834 2567 4026 \r\nQ 2313 4219 1838 4219 \r\nQ 1578 4219 1281 4162 \r\nQ 984 4106 628 3988 \r\nL 628 4550 \r\nQ 988 4650 1302 4700 \r\nQ 1616 4750 1894 4750 \r\nQ 2613 4750 3031 4423 \r\nQ 3450 4097 3450 3541 \r\nQ 3450 3153 3228 2886 \r\nQ 3006 2619 2597 2516 \r\nz\r\n\" id=\"DejaVuSans-33\" transform=\"scale(0.015625)\"/>\r\n       </defs>\r\n       <use xlink:href=\"#DejaVuSans-33\"/>\r\n       <use x=\"63.623047\" xlink:href=\"#DejaVuSans-30\"/>\r\n       <use x=\"127.246094\" xlink:href=\"#DejaVuSans-30\"/>\r\n       <use x=\"190.869141\" xlink:href=\"#DejaVuSans-30\"/>\r\n       <use x=\"254.492188\" xlink:href=\"#DejaVuSans-30\"/>\r\n      </g>\r\n     </g>\r\n    </g>\r\n    <g id=\"xtick_5\">\r\n     <g id=\"line2d_5\">\r\n      <g>\r\n       <use style=\"stroke:#000000;stroke-width:0.8;\" x=\"387.72261\" xlink:href=\"#mc343d4188e\" y=\"224.64\"/>\r\n      </g>\r\n     </g>\r\n     <g id=\"text_5\">\r\n      <!-- 40000 -->\r\n      <g transform=\"translate(371.81636 239.238437)scale(0.1 -0.1)\">\r\n       <defs>\r\n        <path d=\"M 2419 4116 \r\nL 825 1625 \r\nL 2419 1625 \r\nL 2419 4116 \r\nz\r\nM 2253 4666 \r\nL 3047 4666 \r\nL 3047 1625 \r\nL 3713 1625 \r\nL 3713 1100 \r\nL 3047 1100 \r\nL 3047 0 \r\nL 2419 0 \r\nL 2419 1100 \r\nL 313 1100 \r\nL 313 1709 \r\nL 2253 4666 \r\nz\r\n\" id=\"DejaVuSans-34\" transform=\"scale(0.015625)\"/>\r\n       </defs>\r\n       <use xlink:href=\"#DejaVuSans-34\"/>\r\n       <use x=\"63.623047\" xlink:href=\"#DejaVuSans-30\"/>\r\n       <use x=\"127.246094\" xlink:href=\"#DejaVuSans-30\"/>\r\n       <use x=\"190.869141\" xlink:href=\"#DejaVuSans-30\"/>\r\n       <use x=\"254.492188\" xlink:href=\"#DejaVuSans-30\"/>\r\n      </g>\r\n     </g>\r\n    </g>\r\n    <g id=\"xtick_6\">\r\n     <g id=\"line2d_6\">\r\n      <g>\r\n       <use style=\"stroke:#000000;stroke-width:0.8;\" x=\"453.369669\" xlink:href=\"#mc343d4188e\" y=\"224.64\"/>\r\n      </g>\r\n     </g>\r\n     <g id=\"text_6\">\r\n      <!-- 50000 -->\r\n      <g transform=\"translate(437.463419 239.238437)scale(0.1 -0.1)\">\r\n       <defs>\r\n        <path d=\"M 691 4666 \r\nL 3169 4666 \r\nL 3169 4134 \r\nL 1269 4134 \r\nL 1269 2991 \r\nQ 1406 3038 1543 3061 \r\nQ 1681 3084 1819 3084 \r\nQ 2600 3084 3056 2656 \r\nQ 3513 2228 3513 1497 \r\nQ 3513 744 3044 326 \r\nQ 2575 -91 1722 -91 \r\nQ 1428 -91 1123 -41 \r\nQ 819 9 494 109 \r\nL 494 744 \r\nQ 775 591 1075 516 \r\nQ 1375 441 1709 441 \r\nQ 2250 441 2565 725 \r\nQ 2881 1009 2881 1497 \r\nQ 2881 1984 2565 2268 \r\nQ 2250 2553 1709 2553 \r\nQ 1456 2553 1204 2497 \r\nQ 953 2441 691 2322 \r\nL 691 4666 \r\nz\r\n\" id=\"DejaVuSans-35\" transform=\"scale(0.015625)\"/>\r\n       </defs>\r\n       <use xlink:href=\"#DejaVuSans-35\"/>\r\n       <use x=\"63.623047\" xlink:href=\"#DejaVuSans-30\"/>\r\n       <use x=\"127.246094\" xlink:href=\"#DejaVuSans-30\"/>\r\n       <use x=\"190.869141\" xlink:href=\"#DejaVuSans-30\"/>\r\n       <use x=\"254.492188\" xlink:href=\"#DejaVuSans-30\"/>\r\n      </g>\r\n     </g>\r\n    </g>\r\n    <g id=\"xtick_7\">\r\n     <g id=\"line2d_7\">\r\n      <g>\r\n       <use style=\"stroke:#000000;stroke-width:0.8;\" x=\"519.016728\" xlink:href=\"#mc343d4188e\" y=\"224.64\"/>\r\n      </g>\r\n     </g>\r\n     <g id=\"text_7\">\r\n      <!-- 60000 -->\r\n      <g transform=\"translate(503.110478 239.238437)scale(0.1 -0.1)\">\r\n       <defs>\r\n        <path d=\"M 2113 2584 \r\nQ 1688 2584 1439 2293 \r\nQ 1191 2003 1191 1497 \r\nQ 1191 994 1439 701 \r\nQ 1688 409 2113 409 \r\nQ 2538 409 2786 701 \r\nQ 3034 994 3034 1497 \r\nQ 3034 2003 2786 2293 \r\nQ 2538 2584 2113 2584 \r\nz\r\nM 3366 4563 \r\nL 3366 3988 \r\nQ 3128 4100 2886 4159 \r\nQ 2644 4219 2406 4219 \r\nQ 1781 4219 1451 3797 \r\nQ 1122 3375 1075 2522 \r\nQ 1259 2794 1537 2939 \r\nQ 1816 3084 2150 3084 \r\nQ 2853 3084 3261 2657 \r\nQ 3669 2231 3669 1497 \r\nQ 3669 778 3244 343 \r\nQ 2819 -91 2113 -91 \r\nQ 1303 -91 875 529 \r\nQ 447 1150 447 2328 \r\nQ 447 3434 972 4092 \r\nQ 1497 4750 2381 4750 \r\nQ 2619 4750 2861 4703 \r\nQ 3103 4656 3366 4563 \r\nz\r\n\" id=\"DejaVuSans-36\" transform=\"scale(0.015625)\"/>\r\n       </defs>\r\n       <use xlink:href=\"#DejaVuSans-36\"/>\r\n       <use x=\"63.623047\" xlink:href=\"#DejaVuSans-30\"/>\r\n       <use x=\"127.246094\" xlink:href=\"#DejaVuSans-30\"/>\r\n       <use x=\"190.869141\" xlink:href=\"#DejaVuSans-30\"/>\r\n       <use x=\"254.492188\" xlink:href=\"#DejaVuSans-30\"/>\r\n      </g>\r\n     </g>\r\n    </g>\r\n    <g id=\"text_8\">\r\n     <!-- income ($) -->\r\n     <g transform=\"translate(321.349219 252.916562)scale(0.1 -0.1)\">\r\n      <defs>\r\n       <path d=\"M 603 3500 \r\nL 1178 3500 \r\nL 1178 0 \r\nL 603 0 \r\nL 603 3500 \r\nz\r\nM 603 4863 \r\nL 1178 4863 \r\nL 1178 4134 \r\nL 603 4134 \r\nL 603 4863 \r\nz\r\n\" id=\"DejaVuSans-69\" transform=\"scale(0.015625)\"/>\r\n       <path d=\"M 3513 2113 \r\nL 3513 0 \r\nL 2938 0 \r\nL 2938 2094 \r\nQ 2938 2591 2744 2837 \r\nQ 2550 3084 2163 3084 \r\nQ 1697 3084 1428 2787 \r\nQ 1159 2491 1159 1978 \r\nL 1159 0 \r\nL 581 0 \r\nL 581 3500 \r\nL 1159 3500 \r\nL 1159 2956 \r\nQ 1366 3272 1645 3428 \r\nQ 1925 3584 2291 3584 \r\nQ 2894 3584 3203 3211 \r\nQ 3513 2838 3513 2113 \r\nz\r\n\" id=\"DejaVuSans-6e\" transform=\"scale(0.015625)\"/>\r\n       <path d=\"M 3122 3366 \r\nL 3122 2828 \r\nQ 2878 2963 2633 3030 \r\nQ 2388 3097 2138 3097 \r\nQ 1578 3097 1268 2742 \r\nQ 959 2388 959 1747 \r\nQ 959 1106 1268 751 \r\nQ 1578 397 2138 397 \r\nQ 2388 397 2633 464 \r\nQ 2878 531 3122 666 \r\nL 3122 134 \r\nQ 2881 22 2623 -34 \r\nQ 2366 -91 2075 -91 \r\nQ 1284 -91 818 406 \r\nQ 353 903 353 1747 \r\nQ 353 2603 823 3093 \r\nQ 1294 3584 2113 3584 \r\nQ 2378 3584 2631 3529 \r\nQ 2884 3475 3122 3366 \r\nz\r\n\" id=\"DejaVuSans-63\" transform=\"scale(0.015625)\"/>\r\n       <path d=\"M 1959 3097 \r\nQ 1497 3097 1228 2736 \r\nQ 959 2375 959 1747 \r\nQ 959 1119 1226 758 \r\nQ 1494 397 1959 397 \r\nQ 2419 397 2687 759 \r\nQ 2956 1122 2956 1747 \r\nQ 2956 2369 2687 2733 \r\nQ 2419 3097 1959 3097 \r\nz\r\nM 1959 3584 \r\nQ 2709 3584 3137 3096 \r\nQ 3566 2609 3566 1747 \r\nQ 3566 888 3137 398 \r\nQ 2709 -91 1959 -91 \r\nQ 1206 -91 779 398 \r\nQ 353 888 353 1747 \r\nQ 353 2609 779 3096 \r\nQ 1206 3584 1959 3584 \r\nz\r\n\" id=\"DejaVuSans-6f\" transform=\"scale(0.015625)\"/>\r\n       <path d=\"M 3328 2828 \r\nQ 3544 3216 3844 3400 \r\nQ 4144 3584 4550 3584 \r\nQ 5097 3584 5394 3201 \r\nQ 5691 2819 5691 2113 \r\nL 5691 0 \r\nL 5113 0 \r\nL 5113 2094 \r\nQ 5113 2597 4934 2840 \r\nQ 4756 3084 4391 3084 \r\nQ 3944 3084 3684 2787 \r\nQ 3425 2491 3425 1978 \r\nL 3425 0 \r\nL 2847 0 \r\nL 2847 2094 \r\nQ 2847 2600 2669 2842 \r\nQ 2491 3084 2119 3084 \r\nQ 1678 3084 1418 2786 \r\nQ 1159 2488 1159 1978 \r\nL 1159 0 \r\nL 581 0 \r\nL 581 3500 \r\nL 1159 3500 \r\nL 1159 2956 \r\nQ 1356 3278 1631 3431 \r\nQ 1906 3584 2284 3584 \r\nQ 2666 3584 2933 3390 \r\nQ 3200 3197 3328 2828 \r\nz\r\n\" id=\"DejaVuSans-6d\" transform=\"scale(0.015625)\"/>\r\n       <path d=\"M 3597 1894 \r\nL 3597 1613 \r\nL 953 1613 \r\nQ 991 1019 1311 708 \r\nQ 1631 397 2203 397 \r\nQ 2534 397 2845 478 \r\nQ 3156 559 3463 722 \r\nL 3463 178 \r\nQ 3153 47 2828 -22 \r\nQ 2503 -91 2169 -91 \r\nQ 1331 -91 842 396 \r\nQ 353 884 353 1716 \r\nQ 353 2575 817 3079 \r\nQ 1281 3584 2069 3584 \r\nQ 2775 3584 3186 3129 \r\nQ 3597 2675 3597 1894 \r\nz\r\nM 3022 2063 \r\nQ 3016 2534 2758 2815 \r\nQ 2500 3097 2075 3097 \r\nQ 1594 3097 1305 2825 \r\nQ 1016 2553 972 2059 \r\nL 3022 2063 \r\nz\r\n\" id=\"DejaVuSans-65\" transform=\"scale(0.015625)\"/>\r\n       <path id=\"DejaVuSans-20\" transform=\"scale(0.015625)\"/>\r\n       <path d=\"M 1984 4856 \r\nQ 1566 4138 1362 3434 \r\nQ 1159 2731 1159 2009 \r\nQ 1159 1288 1364 580 \r\nQ 1569 -128 1984 -844 \r\nL 1484 -844 \r\nQ 1016 -109 783 600 \r\nQ 550 1309 550 2009 \r\nQ 550 2706 781 3412 \r\nQ 1013 4119 1484 4856 \r\nL 1984 4856 \r\nz\r\n\" id=\"DejaVuSans-28\" transform=\"scale(0.015625)\"/>\r\n       <path d=\"M 2163 -941 \r\nL 1850 -941 \r\nL 1847 0 \r\nQ 1519 6 1191 76 \r\nQ 863 147 531 288 \r\nL 531 850 \r\nQ 850 650 1176 548 \r\nQ 1503 447 1850 444 \r\nL 1850 1869 \r\nQ 1159 1981 845 2250 \r\nQ 531 2519 531 2988 \r\nQ 531 3497 872 3790 \r\nQ 1213 4084 1850 4128 \r\nL 1850 4863 \r\nL 2163 4863 \r\nL 2163 4138 \r\nQ 2453 4125 2725 4076 \r\nQ 2997 4028 3256 3944 \r\nL 3256 3397 \r\nQ 2997 3528 2723 3600 \r\nQ 2450 3672 2163 3684 \r\nL 2163 2350 \r\nQ 2872 2241 3206 1959 \r\nQ 3541 1678 3541 1191 \r\nQ 3541 663 3186 358 \r\nQ 2831 53 2163 6 \r\nL 2163 -941 \r\nz\r\nM 1850 2406 \r\nL 1850 3688 \r\nQ 1488 3647 1297 3481 \r\nQ 1106 3316 1106 3041 \r\nQ 1106 2772 1282 2622 \r\nQ 1459 2472 1850 2406 \r\nz\r\nM 2163 1806 \r\nL 2163 453 \r\nQ 2559 506 2761 678 \r\nQ 2963 850 2963 1131 \r\nQ 2963 1406 2770 1568 \r\nQ 2578 1731 2163 1806 \r\nz\r\n\" id=\"DejaVuSans-24\" transform=\"scale(0.015625)\"/>\r\n       <path d=\"M 513 4856 \r\nL 1013 4856 \r\nQ 1481 4119 1714 3412 \r\nQ 1947 2706 1947 2009 \r\nQ 1947 1309 1714 600 \r\nQ 1481 -109 1013 -844 \r\nL 513 -844 \r\nQ 928 -128 1133 580 \r\nQ 1338 1288 1338 2009 \r\nQ 1338 2731 1133 3434 \r\nQ 928 4138 513 4856 \r\nz\r\n\" id=\"DejaVuSans-29\" transform=\"scale(0.015625)\"/>\r\n      </defs>\r\n      <use xlink:href=\"#DejaVuSans-69\"/>\r\n      <use x=\"27.783203\" xlink:href=\"#DejaVuSans-6e\"/>\r\n      <use x=\"91.162109\" xlink:href=\"#DejaVuSans-63\"/>\r\n      <use x=\"146.142578\" xlink:href=\"#DejaVuSans-6f\"/>\r\n      <use x=\"207.324219\" xlink:href=\"#DejaVuSans-6d\"/>\r\n      <use x=\"304.736328\" xlink:href=\"#DejaVuSans-65\"/>\r\n      <use x=\"366.259766\" xlink:href=\"#DejaVuSans-20\"/>\r\n      <use x=\"398.046875\" xlink:href=\"#DejaVuSans-28\"/>\r\n      <use x=\"437.060547\" xlink:href=\"#DejaVuSans-24\"/>\r\n      <use x=\"500.683594\" xlink:href=\"#DejaVuSans-29\"/>\r\n     </g>\r\n    </g>\r\n   </g>\r\n   <g id=\"matplotlib.axis_2\">\r\n    <g id=\"ytick_1\">\r\n     <g id=\"line2d_8\">\r\n      <defs>\r\n       <path d=\"M 0 0 \r\nL -3.5 0 \r\n\" id=\"m372481c288\" style=\"stroke:#000000;stroke-width:0.8;\"/>\r\n      </defs>\r\n      <g>\r\n       <use style=\"stroke:#000000;stroke-width:0.8;\" x=\"125.134375\" xlink:href=\"#m372481c288\" y=\"208.579091\"/>\r\n      </g>\r\n     </g>\r\n     <g id=\"text_9\">\r\n      <!-- Segment[moving_up] -->\r\n      <g transform=\"translate(10.401562 212.37831)scale(0.1 -0.1)\">\r\n       <defs>\r\n        <path d=\"M 3425 4513 \r\nL 3425 3897 \r\nQ 3066 4069 2747 4153 \r\nQ 2428 4238 2131 4238 \r\nQ 1616 4238 1336 4038 \r\nQ 1056 3838 1056 3469 \r\nQ 1056 3159 1242 3001 \r\nQ 1428 2844 1947 2747 \r\nL 2328 2669 \r\nQ 3034 2534 3370 2195 \r\nQ 3706 1856 3706 1288 \r\nQ 3706 609 3251 259 \r\nQ 2797 -91 1919 -91 \r\nQ 1588 -91 1214 -16 \r\nQ 841 59 441 206 \r\nL 441 856 \r\nQ 825 641 1194 531 \r\nQ 1563 422 1919 422 \r\nQ 2459 422 2753 634 \r\nQ 3047 847 3047 1241 \r\nQ 3047 1584 2836 1778 \r\nQ 2625 1972 2144 2069 \r\nL 1759 2144 \r\nQ 1053 2284 737 2584 \r\nQ 422 2884 422 3419 \r\nQ 422 4038 858 4394 \r\nQ 1294 4750 2059 4750 \r\nQ 2388 4750 2728 4690 \r\nQ 3069 4631 3425 4513 \r\nz\r\n\" id=\"DejaVuSans-53\" transform=\"scale(0.015625)\"/>\r\n        <path d=\"M 2906 1791 \r\nQ 2906 2416 2648 2759 \r\nQ 2391 3103 1925 3103 \r\nQ 1463 3103 1205 2759 \r\nQ 947 2416 947 1791 \r\nQ 947 1169 1205 825 \r\nQ 1463 481 1925 481 \r\nQ 2391 481 2648 825 \r\nQ 2906 1169 2906 1791 \r\nz\r\nM 3481 434 \r\nQ 3481 -459 3084 -895 \r\nQ 2688 -1331 1869 -1331 \r\nQ 1566 -1331 1297 -1286 \r\nQ 1028 -1241 775 -1147 \r\nL 775 -588 \r\nQ 1028 -725 1275 -790 \r\nQ 1522 -856 1778 -856 \r\nQ 2344 -856 2625 -561 \r\nQ 2906 -266 2906 331 \r\nL 2906 616 \r\nQ 2728 306 2450 153 \r\nQ 2172 0 1784 0 \r\nQ 1141 0 747 490 \r\nQ 353 981 353 1791 \r\nQ 353 2603 747 3093 \r\nQ 1141 3584 1784 3584 \r\nQ 2172 3584 2450 3431 \r\nQ 2728 3278 2906 2969 \r\nL 2906 3500 \r\nL 3481 3500 \r\nL 3481 434 \r\nz\r\n\" id=\"DejaVuSans-67\" transform=\"scale(0.015625)\"/>\r\n        <path d=\"M 1172 4494 \r\nL 1172 3500 \r\nL 2356 3500 \r\nL 2356 3053 \r\nL 1172 3053 \r\nL 1172 1153 \r\nQ 1172 725 1289 603 \r\nQ 1406 481 1766 481 \r\nL 2356 481 \r\nL 2356 0 \r\nL 1766 0 \r\nQ 1100 0 847 248 \r\nQ 594 497 594 1153 \r\nL 594 3053 \r\nL 172 3053 \r\nL 172 3500 \r\nL 594 3500 \r\nL 594 4494 \r\nL 1172 4494 \r\nz\r\n\" id=\"DejaVuSans-74\" transform=\"scale(0.015625)\"/>\r\n        <path d=\"M 550 4863 \r\nL 1875 4863 \r\nL 1875 4416 \r\nL 1125 4416 \r\nL 1125 -397 \r\nL 1875 -397 \r\nL 1875 -844 \r\nL 550 -844 \r\nL 550 4863 \r\nz\r\n\" id=\"DejaVuSans-5b\" transform=\"scale(0.015625)\"/>\r\n        <path d=\"M 191 3500 \r\nL 800 3500 \r\nL 1894 563 \r\nL 2988 3500 \r\nL 3597 3500 \r\nL 2284 0 \r\nL 1503 0 \r\nL 191 3500 \r\nz\r\n\" id=\"DejaVuSans-76\" transform=\"scale(0.015625)\"/>\r\n        <path d=\"M 3263 -1063 \r\nL 3263 -1509 \r\nL -63 -1509 \r\nL -63 -1063 \r\nL 3263 -1063 \r\nz\r\n\" id=\"DejaVuSans-5f\" transform=\"scale(0.015625)\"/>\r\n        <path d=\"M 544 1381 \r\nL 544 3500 \r\nL 1119 3500 \r\nL 1119 1403 \r\nQ 1119 906 1312 657 \r\nQ 1506 409 1894 409 \r\nQ 2359 409 2629 706 \r\nQ 2900 1003 2900 1516 \r\nL 2900 3500 \r\nL 3475 3500 \r\nL 3475 0 \r\nL 2900 0 \r\nL 2900 538 \r\nQ 2691 219 2414 64 \r\nQ 2138 -91 1772 -91 \r\nQ 1169 -91 856 284 \r\nQ 544 659 544 1381 \r\nz\r\nM 1991 3584 \r\nL 1991 3584 \r\nz\r\n\" id=\"DejaVuSans-75\" transform=\"scale(0.015625)\"/>\r\n        <path d=\"M 1159 525 \r\nL 1159 -1331 \r\nL 581 -1331 \r\nL 581 3500 \r\nL 1159 3500 \r\nL 1159 2969 \r\nQ 1341 3281 1617 3432 \r\nQ 1894 3584 2278 3584 \r\nQ 2916 3584 3314 3078 \r\nQ 3713 2572 3713 1747 \r\nQ 3713 922 3314 415 \r\nQ 2916 -91 2278 -91 \r\nQ 1894 -91 1617 61 \r\nQ 1341 213 1159 525 \r\nz\r\nM 3116 1747 \r\nQ 3116 2381 2855 2742 \r\nQ 2594 3103 2138 3103 \r\nQ 1681 3103 1420 2742 \r\nQ 1159 2381 1159 1747 \r\nQ 1159 1113 1420 752 \r\nQ 1681 391 2138 391 \r\nQ 2594 391 2855 752 \r\nQ 3116 1113 3116 1747 \r\nz\r\n\" id=\"DejaVuSans-70\" transform=\"scale(0.015625)\"/>\r\n        <path d=\"M 1947 4863 \r\nL 1947 -844 \r\nL 622 -844 \r\nL 622 -397 \r\nL 1369 -397 \r\nL 1369 4416 \r\nL 622 4416 \r\nL 622 4863 \r\nL 1947 4863 \r\nz\r\n\" id=\"DejaVuSans-5d\" transform=\"scale(0.015625)\"/>\r\n       </defs>\r\n       <use xlink:href=\"#DejaVuSans-53\"/>\r\n       <use x=\"63.476562\" xlink:href=\"#DejaVuSans-65\"/>\r\n       <use x=\"125\" xlink:href=\"#DejaVuSans-67\"/>\r\n       <use x=\"188.476562\" xlink:href=\"#DejaVuSans-6d\"/>\r\n       <use x=\"285.888672\" xlink:href=\"#DejaVuSans-65\"/>\r\n       <use x=\"347.412109\" xlink:href=\"#DejaVuSans-6e\"/>\r\n       <use x=\"410.791016\" xlink:href=\"#DejaVuSans-74\"/>\r\n       <use x=\"450\" xlink:href=\"#DejaVuSans-5b\"/>\r\n       <use x=\"489.013672\" xlink:href=\"#DejaVuSans-6d\"/>\r\n       <use x=\"586.425781\" xlink:href=\"#DejaVuSans-6f\"/>\r\n       <use x=\"647.607422\" xlink:href=\"#DejaVuSans-76\"/>\r\n       <use x=\"706.787109\" xlink:href=\"#DejaVuSans-69\"/>\r\n       <use x=\"734.570312\" xlink:href=\"#DejaVuSans-6e\"/>\r\n       <use x=\"797.949219\" xlink:href=\"#DejaVuSans-67\"/>\r\n       <use x=\"861.425781\" xlink:href=\"#DejaVuSans-5f\"/>\r\n       <use x=\"911.425781\" xlink:href=\"#DejaVuSans-75\"/>\r\n       <use x=\"974.804688\" xlink:href=\"#DejaVuSans-70\"/>\r\n       <use x=\"1038.28125\" xlink:href=\"#DejaVuSans-5d\"/>\r\n      </g>\r\n     </g>\r\n    </g>\r\n    <g id=\"ytick_2\">\r\n     <g id=\"line2d_9\">\r\n      <g>\r\n       <use style=\"stroke:#000000;stroke-width:0.8;\" x=\"125.134375\" xlink:href=\"#m372481c288\" y=\"146.806364\"/>\r\n      </g>\r\n     </g>\r\n     <g id=\"text_10\">\r\n      <!-- Segment[suburb_mix] -->\r\n      <g transform=\"translate(7.2 150.605582)scale(0.1 -0.1)\">\r\n       <defs>\r\n        <path d=\"M 2834 3397 \r\nL 2834 2853 \r\nQ 2591 2978 2328 3040 \r\nQ 2066 3103 1784 3103 \r\nQ 1356 3103 1142 2972 \r\nQ 928 2841 928 2578 \r\nQ 928 2378 1081 2264 \r\nQ 1234 2150 1697 2047 \r\nL 1894 2003 \r\nQ 2506 1872 2764 1633 \r\nQ 3022 1394 3022 966 \r\nQ 3022 478 2636 193 \r\nQ 2250 -91 1575 -91 \r\nQ 1294 -91 989 -36 \r\nQ 684 19 347 128 \r\nL 347 722 \r\nQ 666 556 975 473 \r\nQ 1284 391 1588 391 \r\nQ 1994 391 2212 530 \r\nQ 2431 669 2431 922 \r\nQ 2431 1156 2273 1281 \r\nQ 2116 1406 1581 1522 \r\nL 1381 1569 \r\nQ 847 1681 609 1914 \r\nQ 372 2147 372 2553 \r\nQ 372 3047 722 3315 \r\nQ 1072 3584 1716 3584 \r\nQ 2034 3584 2315 3537 \r\nQ 2597 3491 2834 3397 \r\nz\r\n\" id=\"DejaVuSans-73\" transform=\"scale(0.015625)\"/>\r\n        <path d=\"M 3116 1747 \r\nQ 3116 2381 2855 2742 \r\nQ 2594 3103 2138 3103 \r\nQ 1681 3103 1420 2742 \r\nQ 1159 2381 1159 1747 \r\nQ 1159 1113 1420 752 \r\nQ 1681 391 2138 391 \r\nQ 2594 391 2855 752 \r\nQ 3116 1113 3116 1747 \r\nz\r\nM 1159 2969 \r\nQ 1341 3281 1617 3432 \r\nQ 1894 3584 2278 3584 \r\nQ 2916 3584 3314 3078 \r\nQ 3713 2572 3713 1747 \r\nQ 3713 922 3314 415 \r\nQ 2916 -91 2278 -91 \r\nQ 1894 -91 1617 61 \r\nQ 1341 213 1159 525 \r\nL 1159 0 \r\nL 581 0 \r\nL 581 4863 \r\nL 1159 4863 \r\nL 1159 2969 \r\nz\r\n\" id=\"DejaVuSans-62\" transform=\"scale(0.015625)\"/>\r\n        <path d=\"M 2631 2963 \r\nQ 2534 3019 2420 3045 \r\nQ 2306 3072 2169 3072 \r\nQ 1681 3072 1420 2755 \r\nQ 1159 2438 1159 1844 \r\nL 1159 0 \r\nL 581 0 \r\nL 581 3500 \r\nL 1159 3500 \r\nL 1159 2956 \r\nQ 1341 3275 1631 3429 \r\nQ 1922 3584 2338 3584 \r\nQ 2397 3584 2469 3576 \r\nQ 2541 3569 2628 3553 \r\nL 2631 2963 \r\nz\r\n\" id=\"DejaVuSans-72\" transform=\"scale(0.015625)\"/>\r\n        <path d=\"M 3513 3500 \r\nL 2247 1797 \r\nL 3578 0 \r\nL 2900 0 \r\nL 1881 1375 \r\nL 863 0 \r\nL 184 0 \r\nL 1544 1831 \r\nL 300 3500 \r\nL 978 3500 \r\nL 1906 2253 \r\nL 2834 3500 \r\nL 3513 3500 \r\nz\r\n\" id=\"DejaVuSans-78\" transform=\"scale(0.015625)\"/>\r\n       </defs>\r\n       <use xlink:href=\"#DejaVuSans-53\"/>\r\n       <use x=\"63.476562\" xlink:href=\"#DejaVuSans-65\"/>\r\n       <use x=\"125\" xlink:href=\"#DejaVuSans-67\"/>\r\n       <use x=\"188.476562\" xlink:href=\"#DejaVuSans-6d\"/>\r\n       <use x=\"285.888672\" xlink:href=\"#DejaVuSans-65\"/>\r\n       <use x=\"347.412109\" xlink:href=\"#DejaVuSans-6e\"/>\r\n       <use x=\"410.791016\" xlink:href=\"#DejaVuSans-74\"/>\r\n       <use x=\"450\" xlink:href=\"#DejaVuSans-5b\"/>\r\n       <use x=\"489.013672\" xlink:href=\"#DejaVuSans-73\"/>\r\n       <use x=\"541.113281\" xlink:href=\"#DejaVuSans-75\"/>\r\n       <use x=\"604.492188\" xlink:href=\"#DejaVuSans-62\"/>\r\n       <use x=\"667.96875\" xlink:href=\"#DejaVuSans-75\"/>\r\n       <use x=\"731.347656\" xlink:href=\"#DejaVuSans-72\"/>\r\n       <use x=\"772.460938\" xlink:href=\"#DejaVuSans-62\"/>\r\n       <use x=\"835.9375\" xlink:href=\"#DejaVuSans-5f\"/>\r\n       <use x=\"885.9375\" xlink:href=\"#DejaVuSans-6d\"/>\r\n       <use x=\"983.349609\" xlink:href=\"#DejaVuSans-69\"/>\r\n       <use x=\"1011.132812\" xlink:href=\"#DejaVuSans-78\"/>\r\n       <use x=\"1070.3125\" xlink:href=\"#DejaVuSans-5d\"/>\r\n      </g>\r\n     </g>\r\n    </g>\r\n    <g id=\"ytick_3\">\r\n     <g id=\"line2d_10\">\r\n      <g>\r\n       <use style=\"stroke:#000000;stroke-width:0.8;\" x=\"125.134375\" xlink:href=\"#m372481c288\" y=\"85.033636\"/>\r\n      </g>\r\n     </g>\r\n     <g id=\"text_11\">\r\n      <!-- Segment[travelers] -->\r\n      <g transform=\"translate(20.846875 88.832855)scale(0.1 -0.1)\">\r\n       <defs>\r\n        <path d=\"M 2194 1759 \r\nQ 1497 1759 1228 1600 \r\nQ 959 1441 959 1056 \r\nQ 959 750 1161 570 \r\nQ 1363 391 1709 391 \r\nQ 2188 391 2477 730 \r\nQ 2766 1069 2766 1631 \r\nL 2766 1759 \r\nL 2194 1759 \r\nz\r\nM 3341 1997 \r\nL 3341 0 \r\nL 2766 0 \r\nL 2766 531 \r\nQ 2569 213 2275 61 \r\nQ 1981 -91 1556 -91 \r\nQ 1019 -91 701 211 \r\nQ 384 513 384 1019 \r\nQ 384 1609 779 1909 \r\nQ 1175 2209 1959 2209 \r\nL 2766 2209 \r\nL 2766 2266 \r\nQ 2766 2663 2505 2880 \r\nQ 2244 3097 1772 3097 \r\nQ 1472 3097 1187 3025 \r\nQ 903 2953 641 2809 \r\nL 641 3341 \r\nQ 956 3463 1253 3523 \r\nQ 1550 3584 1831 3584 \r\nQ 2591 3584 2966 3190 \r\nQ 3341 2797 3341 1997 \r\nz\r\n\" id=\"DejaVuSans-61\" transform=\"scale(0.015625)\"/>\r\n        <path d=\"M 603 4863 \r\nL 1178 4863 \r\nL 1178 0 \r\nL 603 0 \r\nL 603 4863 \r\nz\r\n\" id=\"DejaVuSans-6c\" transform=\"scale(0.015625)\"/>\r\n       </defs>\r\n       <use xlink:href=\"#DejaVuSans-53\"/>\r\n       <use x=\"63.476562\" xlink:href=\"#DejaVuSans-65\"/>\r\n       <use x=\"125\" xlink:href=\"#DejaVuSans-67\"/>\r\n       <use x=\"188.476562\" xlink:href=\"#DejaVuSans-6d\"/>\r\n       <use x=\"285.888672\" xlink:href=\"#DejaVuSans-65\"/>\r\n       <use x=\"347.412109\" xlink:href=\"#DejaVuSans-6e\"/>\r\n       <use x=\"410.791016\" xlink:href=\"#DejaVuSans-74\"/>\r\n       <use x=\"450\" xlink:href=\"#DejaVuSans-5b\"/>\r\n       <use x=\"489.013672\" xlink:href=\"#DejaVuSans-74\"/>\r\n       <use x=\"528.222656\" xlink:href=\"#DejaVuSans-72\"/>\r\n       <use x=\"569.335938\" xlink:href=\"#DejaVuSans-61\"/>\r\n       <use x=\"630.615234\" xlink:href=\"#DejaVuSans-76\"/>\r\n       <use x=\"689.794922\" xlink:href=\"#DejaVuSans-65\"/>\r\n       <use x=\"751.318359\" xlink:href=\"#DejaVuSans-6c\"/>\r\n       <use x=\"779.101562\" xlink:href=\"#DejaVuSans-65\"/>\r\n       <use x=\"840.625\" xlink:href=\"#DejaVuSans-72\"/>\r\n       <use x=\"881.738281\" xlink:href=\"#DejaVuSans-73\"/>\r\n       <use x=\"933.837891\" xlink:href=\"#DejaVuSans-5d\"/>\r\n      </g>\r\n     </g>\r\n    </g>\r\n    <g id=\"ytick_4\">\r\n     <g id=\"line2d_11\">\r\n      <g>\r\n       <use style=\"stroke:#000000;stroke-width:0.8;\" x=\"125.134375\" xlink:href=\"#m372481c288\" y=\"23.260909\"/>\r\n      </g>\r\n     </g>\r\n     <g id=\"text_12\">\r\n      <!-- Segment[urban_hip] -->\r\n      <g transform=\"translate(15.603125 27.060128)scale(0.1 -0.1)\">\r\n       <defs>\r\n        <path d=\"M 3513 2113 \r\nL 3513 0 \r\nL 2938 0 \r\nL 2938 2094 \r\nQ 2938 2591 2744 2837 \r\nQ 2550 3084 2163 3084 \r\nQ 1697 3084 1428 2787 \r\nQ 1159 2491 1159 1978 \r\nL 1159 0 \r\nL 581 0 \r\nL 581 4863 \r\nL 1159 4863 \r\nL 1159 2956 \r\nQ 1366 3272 1645 3428 \r\nQ 1925 3584 2291 3584 \r\nQ 2894 3584 3203 3211 \r\nQ 3513 2838 3513 2113 \r\nz\r\n\" id=\"DejaVuSans-68\" transform=\"scale(0.015625)\"/>\r\n       </defs>\r\n       <use xlink:href=\"#DejaVuSans-53\"/>\r\n       <use x=\"63.476562\" xlink:href=\"#DejaVuSans-65\"/>\r\n       <use x=\"125\" xlink:href=\"#DejaVuSans-67\"/>\r\n       <use x=\"188.476562\" xlink:href=\"#DejaVuSans-6d\"/>\r\n       <use x=\"285.888672\" xlink:href=\"#DejaVuSans-65\"/>\r\n       <use x=\"347.412109\" xlink:href=\"#DejaVuSans-6e\"/>\r\n       <use x=\"410.791016\" xlink:href=\"#DejaVuSans-74\"/>\r\n       <use x=\"450\" xlink:href=\"#DejaVuSans-5b\"/>\r\n       <use x=\"489.013672\" xlink:href=\"#DejaVuSans-75\"/>\r\n       <use x=\"552.392578\" xlink:href=\"#DejaVuSans-72\"/>\r\n       <use x=\"593.505859\" xlink:href=\"#DejaVuSans-62\"/>\r\n       <use x=\"656.982422\" xlink:href=\"#DejaVuSans-61\"/>\r\n       <use x=\"718.261719\" xlink:href=\"#DejaVuSans-6e\"/>\r\n       <use x=\"781.640625\" xlink:href=\"#DejaVuSans-5f\"/>\r\n       <use x=\"831.640625\" xlink:href=\"#DejaVuSans-68\"/>\r\n       <use x=\"895.019531\" xlink:href=\"#DejaVuSans-69\"/>\r\n       <use x=\"922.802734\" xlink:href=\"#DejaVuSans-70\"/>\r\n       <use x=\"986.279297\" xlink:href=\"#DejaVuSans-5d\"/>\r\n      </g>\r\n     </g>\r\n    </g>\r\n   </g>\r\n   <g id=\"line2d_12\">\r\n    <defs>\r\n     <path d=\"M 0 3 \r\nC 0.795609 3 1.55874 2.683901 2.12132 2.12132 \r\nC 2.683901 1.55874 3 0.795609 3 0 \r\nC 3 -0.795609 2.683901 -1.55874 2.12132 -2.12132 \r\nC 1.55874 -2.683901 0.795609 -3 0 -3 \r\nC -0.795609 -3 -1.55874 -2.683901 -2.12132 -2.12132 \r\nC -2.683901 -1.55874 -3 -0.795609 -3 0 \r\nC -3 0.795609 -2.683901 1.55874 -2.12132 2.12132 \r\nC -1.55874 2.683901 -0.795609 3 0 3 \r\nz\r\n\" id=\"me1c3c2f640\" style=\"stroke:#ff0000;\"/>\r\n    </defs>\r\n    <g clip-path=\"url(#p7be3c79d8c)\">\r\n     <use style=\"fill:#ff0000;stroke:#ff0000;\" x=\"464.946874\" xlink:href=\"#me1c3c2f640\" y=\"208.579091\"/>\r\n     <use style=\"fill:#ff0000;stroke:#ff0000;\" x=\"489.818773\" xlink:href=\"#me1c3c2f640\" y=\"146.806364\"/>\r\n     <use style=\"fill:#ff0000;stroke:#ff0000;\" x=\"536.148348\" xlink:href=\"#me1c3c2f640\" y=\"85.033636\"/>\r\n     <use style=\"fill:#ff0000;stroke:#ff0000;\" x=\"258.186109\" xlink:href=\"#me1c3c2f640\" y=\"23.260909\"/>\r\n    </g>\r\n   </g>\r\n   <g id=\"patch_7\">\r\n    <path d=\"M 125.134375 224.64 \r\nL 125.134375 7.2 \r\n\" style=\"fill:none;stroke:#000000;stroke-linecap:square;stroke-linejoin:miter;stroke-width:0.8;\"/>\r\n   </g>\r\n   <g id=\"patch_8\">\r\n    <path d=\"M 571.534375 224.64 \r\nL 571.534375 7.2 \r\n\" style=\"fill:none;stroke:#000000;stroke-linecap:square;stroke-linejoin:miter;stroke-width:0.8;\"/>\r\n   </g>\r\n   <g id=\"patch_9\">\r\n    <path d=\"M 125.134375 224.64 \r\nL 571.534375 224.64 \r\n\" style=\"fill:none;stroke:#000000;stroke-linecap:square;stroke-linejoin:miter;stroke-width:0.8;\"/>\r\n   </g>\r\n   <g id=\"patch_10\">\r\n    <path d=\"M 125.134375 7.2 \r\nL 571.534375 7.2 \r\n\" style=\"fill:none;stroke:#000000;stroke-linecap:square;stroke-linejoin:miter;stroke-width:0.8;\"/>\r\n   </g>\r\n  </g>\r\n </g>\r\n <defs>\r\n  <clipPath id=\"p7be3c79d8c\">\r\n   <rect height=\"217.44\" width=\"446.4\" x=\"125.134375\" y=\"7.2\"/>\r\n  </clipPath>\r\n </defs>\r\n</svg>\r\n",
            "image/png": "[encoded data removed]"
          },
          "metadata": {
            "needs_background": "light"
          }
        }
      ],
      "metadata": {
        "id": "k-ZNei_WmfAQ",
        "colab_type": "code",
        "colab": {}
      }
    },
    {
      "cell_type": "code",
      "execution_count": 32,
      "source": [
        "def plot_confidence_intervals(centers, conf_ints, zero_line=False):\r\n",
        "  '''Plot centers and confidence intervals'''\r\n",
        "  plt.figure(figsize=(8,4))\r\n",
        "  sort_index = np.argsort(centers.values)\r\n",
        "  centers = centers[sort_index]\r\n",
        "  conf_ints = conf_ints.iloc[sort_index]\r\n",
        "  plt.barh(y=range(len(centers)), left=conf_ints[0],\r\n",
        "           width=conf_ints[1]-conf_ints[0],\r\n",
        "           height=0.2, color='0.4')\r\n",
        "  plt.yticks(range(len(centers)), conf_ints.index)\r\n",
        "  plt.plot(centers, range(len(centers)), 'ro')\r\n",
        "  if zero_line:\r\n",
        "    plt.plot([0,0],[-.5, len(centers) - 0.5], 'gray',\r\n",
        "             linestyle='dashed')\r\n",
        "    plt.xlim((-.05, 1.1 * conf_ints.iloc[:,1].max()))\r\n",
        "  plt.ylim((-.5, len(centers) - 0.5))"
      ],
      "outputs": [],
      "metadata": {
        "id": "kDFeLt1W04po",
        "colab_type": "code",
        "colab": {}
      }
    },
    {
      "cell_type": "code",
      "execution_count": 33,
      "source": [
        "plot_confidence_intervals(means, ci, zero_line=True)\r\n",
        "plt.xlabel('income')"
      ],
      "outputs": [
        {
          "output_type": "execute_result",
          "data": {
            "text/plain": [
              "Text(0.5, 0, 'income')"
            ]
          },
          "metadata": {},
          "execution_count": 33
        },
        {
          "output_type": "display_data",
          "data": {
            "text/plain": [
              "<Figure size 576x288 with 1 Axes>"
            ],
            "image/svg+xml": "<?xml version=\"1.0\" encoding=\"utf-8\" standalone=\"no\"?>\r\n<!DOCTYPE svg PUBLIC \"-//W3C//DTD SVG 1.1//EN\"\r\n  \"http://www.w3.org/Graphics/SVG/1.1/DTD/svg11.dtd\">\r\n<svg height=\"262.19625pt\" version=\"1.1\" viewBox=\"0 0 581.821378 262.19625\" width=\"581.821378pt\" xmlns=\"http://www.w3.org/2000/svg\" xmlns:xlink=\"http://www.w3.org/1999/xlink\">\r\n <metadata>\r\n  <rdf:RDF xmlns:cc=\"http://creativecommons.org/ns#\" xmlns:dc=\"http://purl.org/dc/elements/1.1/\" xmlns:rdf=\"http://www.w3.org/1999/02/22-rdf-syntax-ns#\">\r\n   <cc:Work>\r\n    <dc:type rdf:resource=\"http://purl.org/dc/dcmitype/StillImage\"/>\r\n    <dc:date>2021-08-30T09:48:07.192625</dc:date>\r\n    <dc:format>image/svg+xml</dc:format>\r\n    <dc:creator>\r\n     <cc:Agent>\r\n      <dc:title>Matplotlib v3.4.2, https://matplotlib.org/</dc:title>\r\n     </cc:Agent>\r\n    </dc:creator>\r\n   </cc:Work>\r\n  </rdf:RDF>\r\n </metadata>\r\n <defs>\r\n  <style type=\"text/css\">*{stroke-linecap:butt;stroke-linejoin:round;}</style>\r\n </defs>\r\n <g id=\"figure_1\">\r\n  <g id=\"patch_1\">\r\n   <path d=\"M 0 262.19625 \r\nL 581.821378 262.19625 \r\nL 581.821378 0 \r\nL 0 0 \r\nz\r\n\" style=\"fill:none;\"/>\r\n  </g>\r\n  <g id=\"axes_1\">\r\n   <g id=\"patch_2\">\r\n    <path d=\"M 125.134375 224.64 \r\nL 571.534375 224.64 \r\nL 571.534375 7.2 \r\nL 125.134375 7.2 \r\nz\r\n\" style=\"fill:#ffffff;\"/>\r\n   </g>\r\n   <g id=\"patch_3\">\r\n    <path clip-path=\"url(#p52ab57a7e6)\" d=\"M 227.887958 202.896 \r\nL 273.458399 202.896 \r\nL 273.458399 192.024 \r\nL 227.887958 192.024 \r\nz\r\n\" style=\"fill:#666666;\"/>\r\n   </g>\r\n   <g id=\"patch_4\">\r\n    <path clip-path=\"url(#p52ab57a7e6)\" d=\"M 426.501432 148.536 \r\nL 465.015484 148.536 \r\nL 465.015484 137.664 \r\nL 426.501432 137.664 \r\nz\r\n\" style=\"fill:#666666;\"/>\r\n   </g>\r\n   <g id=\"patch_5\">\r\n    <path clip-path=\"url(#p52ab57a7e6)\" d=\"M 453.114293 94.176 \r\nL 485.337461 94.176 \r\nL 485.337461 83.304 \r\nL 453.114293 83.304 \r\nz\r\n\" style=\"fill:#666666;\"/>\r\n   </g>\r\n   <g id=\"patch_6\">\r\n    <path clip-path=\"url(#p52ab57a7e6)\" d=\"M 494.925988 39.816 \r\nL 530.952585 39.816 \r\nL 530.952585 28.944 \r\nL 494.925988 28.944 \r\nz\r\n\" style=\"fill:#666666;\"/>\r\n   </g>\r\n   <g id=\"matplotlib.axis_1\">\r\n    <g id=\"xtick_1\">\r\n     <g id=\"line2d_1\">\r\n      <defs>\r\n       <path d=\"M 0 0 \r\nL 0 3.5 \r\n\" id=\"m695aa006b2\" style=\"stroke:#000000;stroke-width:0.8;\"/>\r\n      </defs>\r\n      <g>\r\n       <use style=\"stroke:#000000;stroke-width:0.8;\" x=\"125.134685\" xlink:href=\"#m695aa006b2\" y=\"224.64\"/>\r\n      </g>\r\n     </g>\r\n     <g id=\"text_1\">\r\n      <!-- 0 -->\r\n      <g transform=\"translate(121.953435 239.238437)scale(0.1 -0.1)\">\r\n       <defs>\r\n        <path d=\"M 2034 4250 \r\nQ 1547 4250 1301 3770 \r\nQ 1056 3291 1056 2328 \r\nQ 1056 1369 1301 889 \r\nQ 1547 409 2034 409 \r\nQ 2525 409 2770 889 \r\nQ 3016 1369 3016 2328 \r\nQ 3016 3291 2770 3770 \r\nQ 2525 4250 2034 4250 \r\nz\r\nM 2034 4750 \r\nQ 2819 4750 3233 4129 \r\nQ 3647 3509 3647 2328 \r\nQ 3647 1150 3233 529 \r\nQ 2819 -91 2034 -91 \r\nQ 1250 -91 836 529 \r\nQ 422 1150 422 2328 \r\nQ 422 3509 836 4129 \r\nQ 1250 4750 2034 4750 \r\nz\r\n\" id=\"DejaVuSans-30\" transform=\"scale(0.015625)\"/>\r\n       </defs>\r\n       <use xlink:href=\"#DejaVuSans-30\"/>\r\n      </g>\r\n     </g>\r\n    </g>\r\n    <g id=\"xtick_2\">\r\n     <g id=\"line2d_2\">\r\n      <g>\r\n       <use style=\"stroke:#000000;stroke-width:0.8;\" x=\"187.074748\" xlink:href=\"#m695aa006b2\" y=\"224.64\"/>\r\n      </g>\r\n     </g>\r\n     <g id=\"text_2\">\r\n      <!-- 10000 -->\r\n      <g transform=\"translate(171.168498 239.238437)scale(0.1 -0.1)\">\r\n       <defs>\r\n        <path d=\"M 794 531 \r\nL 1825 531 \r\nL 1825 4091 \r\nL 703 3866 \r\nL 703 4441 \r\nL 1819 4666 \r\nL 2450 4666 \r\nL 2450 531 \r\nL 3481 531 \r\nL 3481 0 \r\nL 794 0 \r\nL 794 531 \r\nz\r\n\" id=\"DejaVuSans-31\" transform=\"scale(0.015625)\"/>\r\n       </defs>\r\n       <use xlink:href=\"#DejaVuSans-31\"/>\r\n       <use x=\"63.623047\" xlink:href=\"#DejaVuSans-30\"/>\r\n       <use x=\"127.246094\" xlink:href=\"#DejaVuSans-30\"/>\r\n       <use x=\"190.869141\" xlink:href=\"#DejaVuSans-30\"/>\r\n       <use x=\"254.492188\" xlink:href=\"#DejaVuSans-30\"/>\r\n      </g>\r\n     </g>\r\n    </g>\r\n    <g id=\"xtick_3\">\r\n     <g id=\"line2d_3\">\r\n      <g>\r\n       <use style=\"stroke:#000000;stroke-width:0.8;\" x=\"249.014811\" xlink:href=\"#m695aa006b2\" y=\"224.64\"/>\r\n      </g>\r\n     </g>\r\n     <g id=\"text_3\">\r\n      <!-- 20000 -->\r\n      <g transform=\"translate(233.108561 239.238437)scale(0.1 -0.1)\">\r\n       <defs>\r\n        <path d=\"M 1228 531 \r\nL 3431 531 \r\nL 3431 0 \r\nL 469 0 \r\nL 469 531 \r\nQ 828 903 1448 1529 \r\nQ 2069 2156 2228 2338 \r\nQ 2531 2678 2651 2914 \r\nQ 2772 3150 2772 3378 \r\nQ 2772 3750 2511 3984 \r\nQ 2250 4219 1831 4219 \r\nQ 1534 4219 1204 4116 \r\nQ 875 4013 500 3803 \r\nL 500 4441 \r\nQ 881 4594 1212 4672 \r\nQ 1544 4750 1819 4750 \r\nQ 2544 4750 2975 4387 \r\nQ 3406 4025 3406 3419 \r\nQ 3406 3131 3298 2873 \r\nQ 3191 2616 2906 2266 \r\nQ 2828 2175 2409 1742 \r\nQ 1991 1309 1228 531 \r\nz\r\n\" id=\"DejaVuSans-32\" transform=\"scale(0.015625)\"/>\r\n       </defs>\r\n       <use xlink:href=\"#DejaVuSans-32\"/>\r\n       <use x=\"63.623047\" xlink:href=\"#DejaVuSans-30\"/>\r\n       <use x=\"127.246094\" xlink:href=\"#DejaVuSans-30\"/>\r\n       <use x=\"190.869141\" xlink:href=\"#DejaVuSans-30\"/>\r\n       <use x=\"254.492188\" xlink:href=\"#DejaVuSans-30\"/>\r\n      </g>\r\n     </g>\r\n    </g>\r\n    <g id=\"xtick_4\">\r\n     <g id=\"line2d_4\">\r\n      <g>\r\n       <use style=\"stroke:#000000;stroke-width:0.8;\" x=\"310.954875\" xlink:href=\"#m695aa006b2\" y=\"224.64\"/>\r\n      </g>\r\n     </g>\r\n     <g id=\"text_4\">\r\n      <!-- 30000 -->\r\n      <g transform=\"translate(295.048625 239.238437)scale(0.1 -0.1)\">\r\n       <defs>\r\n        <path d=\"M 2597 2516 \r\nQ 3050 2419 3304 2112 \r\nQ 3559 1806 3559 1356 \r\nQ 3559 666 3084 287 \r\nQ 2609 -91 1734 -91 \r\nQ 1441 -91 1130 -33 \r\nQ 819 25 488 141 \r\nL 488 750 \r\nQ 750 597 1062 519 \r\nQ 1375 441 1716 441 \r\nQ 2309 441 2620 675 \r\nQ 2931 909 2931 1356 \r\nQ 2931 1769 2642 2001 \r\nQ 2353 2234 1838 2234 \r\nL 1294 2234 \r\nL 1294 2753 \r\nL 1863 2753 \r\nQ 2328 2753 2575 2939 \r\nQ 2822 3125 2822 3475 \r\nQ 2822 3834 2567 4026 \r\nQ 2313 4219 1838 4219 \r\nQ 1578 4219 1281 4162 \r\nQ 984 4106 628 3988 \r\nL 628 4550 \r\nQ 988 4650 1302 4700 \r\nQ 1616 4750 1894 4750 \r\nQ 2613 4750 3031 4423 \r\nQ 3450 4097 3450 3541 \r\nQ 3450 3153 3228 2886 \r\nQ 3006 2619 2597 2516 \r\nz\r\n\" id=\"DejaVuSans-33\" transform=\"scale(0.015625)\"/>\r\n       </defs>\r\n       <use xlink:href=\"#DejaVuSans-33\"/>\r\n       <use x=\"63.623047\" xlink:href=\"#DejaVuSans-30\"/>\r\n       <use x=\"127.246094\" xlink:href=\"#DejaVuSans-30\"/>\r\n       <use x=\"190.869141\" xlink:href=\"#DejaVuSans-30\"/>\r\n       <use x=\"254.492188\" xlink:href=\"#DejaVuSans-30\"/>\r\n      </g>\r\n     </g>\r\n    </g>\r\n    <g id=\"xtick_5\">\r\n     <g id=\"line2d_5\">\r\n      <g>\r\n       <use style=\"stroke:#000000;stroke-width:0.8;\" x=\"372.894938\" xlink:href=\"#m695aa006b2\" y=\"224.64\"/>\r\n      </g>\r\n     </g>\r\n     <g id=\"text_5\">\r\n      <!-- 40000 -->\r\n      <g transform=\"translate(356.988688 239.238437)scale(0.1 -0.1)\">\r\n       <defs>\r\n        <path d=\"M 2419 4116 \r\nL 825 1625 \r\nL 2419 1625 \r\nL 2419 4116 \r\nz\r\nM 2253 4666 \r\nL 3047 4666 \r\nL 3047 1625 \r\nL 3713 1625 \r\nL 3713 1100 \r\nL 3047 1100 \r\nL 3047 0 \r\nL 2419 0 \r\nL 2419 1100 \r\nL 313 1100 \r\nL 313 1709 \r\nL 2253 4666 \r\nz\r\n\" id=\"DejaVuSans-34\" transform=\"scale(0.015625)\"/>\r\n       </defs>\r\n       <use xlink:href=\"#DejaVuSans-34\"/>\r\n       <use x=\"63.623047\" xlink:href=\"#DejaVuSans-30\"/>\r\n       <use x=\"127.246094\" xlink:href=\"#DejaVuSans-30\"/>\r\n       <use x=\"190.869141\" xlink:href=\"#DejaVuSans-30\"/>\r\n       <use x=\"254.492188\" xlink:href=\"#DejaVuSans-30\"/>\r\n      </g>\r\n     </g>\r\n    </g>\r\n    <g id=\"xtick_6\">\r\n     <g id=\"line2d_6\">\r\n      <g>\r\n       <use style=\"stroke:#000000;stroke-width:0.8;\" x=\"434.835002\" xlink:href=\"#m695aa006b2\" y=\"224.64\"/>\r\n      </g>\r\n     </g>\r\n     <g id=\"text_6\">\r\n      <!-- 50000 -->\r\n      <g transform=\"translate(418.928752 239.238437)scale(0.1 -0.1)\">\r\n       <defs>\r\n        <path d=\"M 691 4666 \r\nL 3169 4666 \r\nL 3169 4134 \r\nL 1269 4134 \r\nL 1269 2991 \r\nQ 1406 3038 1543 3061 \r\nQ 1681 3084 1819 3084 \r\nQ 2600 3084 3056 2656 \r\nQ 3513 2228 3513 1497 \r\nQ 3513 744 3044 326 \r\nQ 2575 -91 1722 -91 \r\nQ 1428 -91 1123 -41 \r\nQ 819 9 494 109 \r\nL 494 744 \r\nQ 775 591 1075 516 \r\nQ 1375 441 1709 441 \r\nQ 2250 441 2565 725 \r\nQ 2881 1009 2881 1497 \r\nQ 2881 1984 2565 2268 \r\nQ 2250 2553 1709 2553 \r\nQ 1456 2553 1204 2497 \r\nQ 953 2441 691 2322 \r\nL 691 4666 \r\nz\r\n\" id=\"DejaVuSans-35\" transform=\"scale(0.015625)\"/>\r\n       </defs>\r\n       <use xlink:href=\"#DejaVuSans-35\"/>\r\n       <use x=\"63.623047\" xlink:href=\"#DejaVuSans-30\"/>\r\n       <use x=\"127.246094\" xlink:href=\"#DejaVuSans-30\"/>\r\n       <use x=\"190.869141\" xlink:href=\"#DejaVuSans-30\"/>\r\n       <use x=\"254.492188\" xlink:href=\"#DejaVuSans-30\"/>\r\n      </g>\r\n     </g>\r\n    </g>\r\n    <g id=\"xtick_7\">\r\n     <g id=\"line2d_7\">\r\n      <g>\r\n       <use style=\"stroke:#000000;stroke-width:0.8;\" x=\"496.775065\" xlink:href=\"#m695aa006b2\" y=\"224.64\"/>\r\n      </g>\r\n     </g>\r\n     <g id=\"text_7\">\r\n      <!-- 60000 -->\r\n      <g transform=\"translate(480.868815 239.238437)scale(0.1 -0.1)\">\r\n       <defs>\r\n        <path d=\"M 2113 2584 \r\nQ 1688 2584 1439 2293 \r\nQ 1191 2003 1191 1497 \r\nQ 1191 994 1439 701 \r\nQ 1688 409 2113 409 \r\nQ 2538 409 2786 701 \r\nQ 3034 994 3034 1497 \r\nQ 3034 2003 2786 2293 \r\nQ 2538 2584 2113 2584 \r\nz\r\nM 3366 4563 \r\nL 3366 3988 \r\nQ 3128 4100 2886 4159 \r\nQ 2644 4219 2406 4219 \r\nQ 1781 4219 1451 3797 \r\nQ 1122 3375 1075 2522 \r\nQ 1259 2794 1537 2939 \r\nQ 1816 3084 2150 3084 \r\nQ 2853 3084 3261 2657 \r\nQ 3669 2231 3669 1497 \r\nQ 3669 778 3244 343 \r\nQ 2819 -91 2113 -91 \r\nQ 1303 -91 875 529 \r\nQ 447 1150 447 2328 \r\nQ 447 3434 972 4092 \r\nQ 1497 4750 2381 4750 \r\nQ 2619 4750 2861 4703 \r\nQ 3103 4656 3366 4563 \r\nz\r\n\" id=\"DejaVuSans-36\" transform=\"scale(0.015625)\"/>\r\n       </defs>\r\n       <use xlink:href=\"#DejaVuSans-36\"/>\r\n       <use x=\"63.623047\" xlink:href=\"#DejaVuSans-30\"/>\r\n       <use x=\"127.246094\" xlink:href=\"#DejaVuSans-30\"/>\r\n       <use x=\"190.869141\" xlink:href=\"#DejaVuSans-30\"/>\r\n       <use x=\"254.492188\" xlink:href=\"#DejaVuSans-30\"/>\r\n      </g>\r\n     </g>\r\n    </g>\r\n    <g id=\"xtick_8\">\r\n     <g id=\"line2d_8\">\r\n      <g>\r\n       <use style=\"stroke:#000000;stroke-width:0.8;\" x=\"558.715128\" xlink:href=\"#m695aa006b2\" y=\"224.64\"/>\r\n      </g>\r\n     </g>\r\n     <g id=\"text_8\">\r\n      <!-- 70000 -->\r\n      <g transform=\"translate(542.808878 239.238437)scale(0.1 -0.1)\">\r\n       <defs>\r\n        <path d=\"M 525 4666 \r\nL 3525 4666 \r\nL 3525 4397 \r\nL 1831 0 \r\nL 1172 0 \r\nL 2766 4134 \r\nL 525 4134 \r\nL 525 4666 \r\nz\r\n\" id=\"DejaVuSans-37\" transform=\"scale(0.015625)\"/>\r\n       </defs>\r\n       <use xlink:href=\"#DejaVuSans-37\"/>\r\n       <use x=\"63.623047\" xlink:href=\"#DejaVuSans-30\"/>\r\n       <use x=\"127.246094\" xlink:href=\"#DejaVuSans-30\"/>\r\n       <use x=\"190.869141\" xlink:href=\"#DejaVuSans-30\"/>\r\n       <use x=\"254.492188\" xlink:href=\"#DejaVuSans-30\"/>\r\n      </g>\r\n     </g>\r\n    </g>\r\n    <g id=\"text_9\">\r\n     <!-- income -->\r\n     <g transform=\"translate(330.021094 252.916562)scale(0.1 -0.1)\">\r\n      <defs>\r\n       <path d=\"M 603 3500 \r\nL 1178 3500 \r\nL 1178 0 \r\nL 603 0 \r\nL 603 3500 \r\nz\r\nM 603 4863 \r\nL 1178 4863 \r\nL 1178 4134 \r\nL 603 4134 \r\nL 603 4863 \r\nz\r\n\" id=\"DejaVuSans-69\" transform=\"scale(0.015625)\"/>\r\n       <path d=\"M 3513 2113 \r\nL 3513 0 \r\nL 2938 0 \r\nL 2938 2094 \r\nQ 2938 2591 2744 2837 \r\nQ 2550 3084 2163 3084 \r\nQ 1697 3084 1428 2787 \r\nQ 1159 2491 1159 1978 \r\nL 1159 0 \r\nL 581 0 \r\nL 581 3500 \r\nL 1159 3500 \r\nL 1159 2956 \r\nQ 1366 3272 1645 3428 \r\nQ 1925 3584 2291 3584 \r\nQ 2894 3584 3203 3211 \r\nQ 3513 2838 3513 2113 \r\nz\r\n\" id=\"DejaVuSans-6e\" transform=\"scale(0.015625)\"/>\r\n       <path d=\"M 3122 3366 \r\nL 3122 2828 \r\nQ 2878 2963 2633 3030 \r\nQ 2388 3097 2138 3097 \r\nQ 1578 3097 1268 2742 \r\nQ 959 2388 959 1747 \r\nQ 959 1106 1268 751 \r\nQ 1578 397 2138 397 \r\nQ 2388 397 2633 464 \r\nQ 2878 531 3122 666 \r\nL 3122 134 \r\nQ 2881 22 2623 -34 \r\nQ 2366 -91 2075 -91 \r\nQ 1284 -91 818 406 \r\nQ 353 903 353 1747 \r\nQ 353 2603 823 3093 \r\nQ 1294 3584 2113 3584 \r\nQ 2378 3584 2631 3529 \r\nQ 2884 3475 3122 3366 \r\nz\r\n\" id=\"DejaVuSans-63\" transform=\"scale(0.015625)\"/>\r\n       <path d=\"M 1959 3097 \r\nQ 1497 3097 1228 2736 \r\nQ 959 2375 959 1747 \r\nQ 959 1119 1226 758 \r\nQ 1494 397 1959 397 \r\nQ 2419 397 2687 759 \r\nQ 2956 1122 2956 1747 \r\nQ 2956 2369 2687 2733 \r\nQ 2419 3097 1959 3097 \r\nz\r\nM 1959 3584 \r\nQ 2709 3584 3137 3096 \r\nQ 3566 2609 3566 1747 \r\nQ 3566 888 3137 398 \r\nQ 2709 -91 1959 -91 \r\nQ 1206 -91 779 398 \r\nQ 353 888 353 1747 \r\nQ 353 2609 779 3096 \r\nQ 1206 3584 1959 3584 \r\nz\r\n\" id=\"DejaVuSans-6f\" transform=\"scale(0.015625)\"/>\r\n       <path d=\"M 3328 2828 \r\nQ 3544 3216 3844 3400 \r\nQ 4144 3584 4550 3584 \r\nQ 5097 3584 5394 3201 \r\nQ 5691 2819 5691 2113 \r\nL 5691 0 \r\nL 5113 0 \r\nL 5113 2094 \r\nQ 5113 2597 4934 2840 \r\nQ 4756 3084 4391 3084 \r\nQ 3944 3084 3684 2787 \r\nQ 3425 2491 3425 1978 \r\nL 3425 0 \r\nL 2847 0 \r\nL 2847 2094 \r\nQ 2847 2600 2669 2842 \r\nQ 2491 3084 2119 3084 \r\nQ 1678 3084 1418 2786 \r\nQ 1159 2488 1159 1978 \r\nL 1159 0 \r\nL 581 0 \r\nL 581 3500 \r\nL 1159 3500 \r\nL 1159 2956 \r\nQ 1356 3278 1631 3431 \r\nQ 1906 3584 2284 3584 \r\nQ 2666 3584 2933 3390 \r\nQ 3200 3197 3328 2828 \r\nz\r\n\" id=\"DejaVuSans-6d\" transform=\"scale(0.015625)\"/>\r\n       <path d=\"M 3597 1894 \r\nL 3597 1613 \r\nL 953 1613 \r\nQ 991 1019 1311 708 \r\nQ 1631 397 2203 397 \r\nQ 2534 397 2845 478 \r\nQ 3156 559 3463 722 \r\nL 3463 178 \r\nQ 3153 47 2828 -22 \r\nQ 2503 -91 2169 -91 \r\nQ 1331 -91 842 396 \r\nQ 353 884 353 1716 \r\nQ 353 2575 817 3079 \r\nQ 1281 3584 2069 3584 \r\nQ 2775 3584 3186 3129 \r\nQ 3597 2675 3597 1894 \r\nz\r\nM 3022 2063 \r\nQ 3016 2534 2758 2815 \r\nQ 2500 3097 2075 3097 \r\nQ 1594 3097 1305 2825 \r\nQ 1016 2553 972 2059 \r\nL 3022 2063 \r\nz\r\n\" id=\"DejaVuSans-65\" transform=\"scale(0.015625)\"/>\r\n      </defs>\r\n      <use xlink:href=\"#DejaVuSans-69\"/>\r\n      <use x=\"27.783203\" xlink:href=\"#DejaVuSans-6e\"/>\r\n      <use x=\"91.162109\" xlink:href=\"#DejaVuSans-63\"/>\r\n      <use x=\"146.142578\" xlink:href=\"#DejaVuSans-6f\"/>\r\n      <use x=\"207.324219\" xlink:href=\"#DejaVuSans-6d\"/>\r\n      <use x=\"304.736328\" xlink:href=\"#DejaVuSans-65\"/>\r\n     </g>\r\n    </g>\r\n   </g>\r\n   <g id=\"matplotlib.axis_2\">\r\n    <g id=\"ytick_1\">\r\n     <g id=\"line2d_9\">\r\n      <defs>\r\n       <path d=\"M 0 0 \r\nL -3.5 0 \r\n\" id=\"m1523f328f5\" style=\"stroke:#000000;stroke-width:0.8;\"/>\r\n      </defs>\r\n      <g>\r\n       <use style=\"stroke:#000000;stroke-width:0.8;\" x=\"125.134375\" xlink:href=\"#m1523f328f5\" y=\"197.46\"/>\r\n      </g>\r\n     </g>\r\n     <g id=\"text_10\">\r\n      <!-- Segment[urban_hip] -->\r\n      <g transform=\"translate(15.603125 201.259219)scale(0.1 -0.1)\">\r\n       <defs>\r\n        <path d=\"M 3425 4513 \r\nL 3425 3897 \r\nQ 3066 4069 2747 4153 \r\nQ 2428 4238 2131 4238 \r\nQ 1616 4238 1336 4038 \r\nQ 1056 3838 1056 3469 \r\nQ 1056 3159 1242 3001 \r\nQ 1428 2844 1947 2747 \r\nL 2328 2669 \r\nQ 3034 2534 3370 2195 \r\nQ 3706 1856 3706 1288 \r\nQ 3706 609 3251 259 \r\nQ 2797 -91 1919 -91 \r\nQ 1588 -91 1214 -16 \r\nQ 841 59 441 206 \r\nL 441 856 \r\nQ 825 641 1194 531 \r\nQ 1563 422 1919 422 \r\nQ 2459 422 2753 634 \r\nQ 3047 847 3047 1241 \r\nQ 3047 1584 2836 1778 \r\nQ 2625 1972 2144 2069 \r\nL 1759 2144 \r\nQ 1053 2284 737 2584 \r\nQ 422 2884 422 3419 \r\nQ 422 4038 858 4394 \r\nQ 1294 4750 2059 4750 \r\nQ 2388 4750 2728 4690 \r\nQ 3069 4631 3425 4513 \r\nz\r\n\" id=\"DejaVuSans-53\" transform=\"scale(0.015625)\"/>\r\n        <path d=\"M 2906 1791 \r\nQ 2906 2416 2648 2759 \r\nQ 2391 3103 1925 3103 \r\nQ 1463 3103 1205 2759 \r\nQ 947 2416 947 1791 \r\nQ 947 1169 1205 825 \r\nQ 1463 481 1925 481 \r\nQ 2391 481 2648 825 \r\nQ 2906 1169 2906 1791 \r\nz\r\nM 3481 434 \r\nQ 3481 -459 3084 -895 \r\nQ 2688 -1331 1869 -1331 \r\nQ 1566 -1331 1297 -1286 \r\nQ 1028 -1241 775 -1147 \r\nL 775 -588 \r\nQ 1028 -725 1275 -790 \r\nQ 1522 -856 1778 -856 \r\nQ 2344 -856 2625 -561 \r\nQ 2906 -266 2906 331 \r\nL 2906 616 \r\nQ 2728 306 2450 153 \r\nQ 2172 0 1784 0 \r\nQ 1141 0 747 490 \r\nQ 353 981 353 1791 \r\nQ 353 2603 747 3093 \r\nQ 1141 3584 1784 3584 \r\nQ 2172 3584 2450 3431 \r\nQ 2728 3278 2906 2969 \r\nL 2906 3500 \r\nL 3481 3500 \r\nL 3481 434 \r\nz\r\n\" id=\"DejaVuSans-67\" transform=\"scale(0.015625)\"/>\r\n        <path d=\"M 1172 4494 \r\nL 1172 3500 \r\nL 2356 3500 \r\nL 2356 3053 \r\nL 1172 3053 \r\nL 1172 1153 \r\nQ 1172 725 1289 603 \r\nQ 1406 481 1766 481 \r\nL 2356 481 \r\nL 2356 0 \r\nL 1766 0 \r\nQ 1100 0 847 248 \r\nQ 594 497 594 1153 \r\nL 594 3053 \r\nL 172 3053 \r\nL 172 3500 \r\nL 594 3500 \r\nL 594 4494 \r\nL 1172 4494 \r\nz\r\n\" id=\"DejaVuSans-74\" transform=\"scale(0.015625)\"/>\r\n        <path d=\"M 550 4863 \r\nL 1875 4863 \r\nL 1875 4416 \r\nL 1125 4416 \r\nL 1125 -397 \r\nL 1875 -397 \r\nL 1875 -844 \r\nL 550 -844 \r\nL 550 4863 \r\nz\r\n\" id=\"DejaVuSans-5b\" transform=\"scale(0.015625)\"/>\r\n        <path d=\"M 544 1381 \r\nL 544 3500 \r\nL 1119 3500 \r\nL 1119 1403 \r\nQ 1119 906 1312 657 \r\nQ 1506 409 1894 409 \r\nQ 2359 409 2629 706 \r\nQ 2900 1003 2900 1516 \r\nL 2900 3500 \r\nL 3475 3500 \r\nL 3475 0 \r\nL 2900 0 \r\nL 2900 538 \r\nQ 2691 219 2414 64 \r\nQ 2138 -91 1772 -91 \r\nQ 1169 -91 856 284 \r\nQ 544 659 544 1381 \r\nz\r\nM 1991 3584 \r\nL 1991 3584 \r\nz\r\n\" id=\"DejaVuSans-75\" transform=\"scale(0.015625)\"/>\r\n        <path d=\"M 2631 2963 \r\nQ 2534 3019 2420 3045 \r\nQ 2306 3072 2169 3072 \r\nQ 1681 3072 1420 2755 \r\nQ 1159 2438 1159 1844 \r\nL 1159 0 \r\nL 581 0 \r\nL 581 3500 \r\nL 1159 3500 \r\nL 1159 2956 \r\nQ 1341 3275 1631 3429 \r\nQ 1922 3584 2338 3584 \r\nQ 2397 3584 2469 3576 \r\nQ 2541 3569 2628 3553 \r\nL 2631 2963 \r\nz\r\n\" id=\"DejaVuSans-72\" transform=\"scale(0.015625)\"/>\r\n        <path d=\"M 3116 1747 \r\nQ 3116 2381 2855 2742 \r\nQ 2594 3103 2138 3103 \r\nQ 1681 3103 1420 2742 \r\nQ 1159 2381 1159 1747 \r\nQ 1159 1113 1420 752 \r\nQ 1681 391 2138 391 \r\nQ 2594 391 2855 752 \r\nQ 3116 1113 3116 1747 \r\nz\r\nM 1159 2969 \r\nQ 1341 3281 1617 3432 \r\nQ 1894 3584 2278 3584 \r\nQ 2916 3584 3314 3078 \r\nQ 3713 2572 3713 1747 \r\nQ 3713 922 3314 415 \r\nQ 2916 -91 2278 -91 \r\nQ 1894 -91 1617 61 \r\nQ 1341 213 1159 525 \r\nL 1159 0 \r\nL 581 0 \r\nL 581 4863 \r\nL 1159 4863 \r\nL 1159 2969 \r\nz\r\n\" id=\"DejaVuSans-62\" transform=\"scale(0.015625)\"/>\r\n        <path d=\"M 2194 1759 \r\nQ 1497 1759 1228 1600 \r\nQ 959 1441 959 1056 \r\nQ 959 750 1161 570 \r\nQ 1363 391 1709 391 \r\nQ 2188 391 2477 730 \r\nQ 2766 1069 2766 1631 \r\nL 2766 1759 \r\nL 2194 1759 \r\nz\r\nM 3341 1997 \r\nL 3341 0 \r\nL 2766 0 \r\nL 2766 531 \r\nQ 2569 213 2275 61 \r\nQ 1981 -91 1556 -91 \r\nQ 1019 -91 701 211 \r\nQ 384 513 384 1019 \r\nQ 384 1609 779 1909 \r\nQ 1175 2209 1959 2209 \r\nL 2766 2209 \r\nL 2766 2266 \r\nQ 2766 2663 2505 2880 \r\nQ 2244 3097 1772 3097 \r\nQ 1472 3097 1187 3025 \r\nQ 903 2953 641 2809 \r\nL 641 3341 \r\nQ 956 3463 1253 3523 \r\nQ 1550 3584 1831 3584 \r\nQ 2591 3584 2966 3190 \r\nQ 3341 2797 3341 1997 \r\nz\r\n\" id=\"DejaVuSans-61\" transform=\"scale(0.015625)\"/>\r\n        <path d=\"M 3263 -1063 \r\nL 3263 -1509 \r\nL -63 -1509 \r\nL -63 -1063 \r\nL 3263 -1063 \r\nz\r\n\" id=\"DejaVuSans-5f\" transform=\"scale(0.015625)\"/>\r\n        <path d=\"M 3513 2113 \r\nL 3513 0 \r\nL 2938 0 \r\nL 2938 2094 \r\nQ 2938 2591 2744 2837 \r\nQ 2550 3084 2163 3084 \r\nQ 1697 3084 1428 2787 \r\nQ 1159 2491 1159 1978 \r\nL 1159 0 \r\nL 581 0 \r\nL 581 4863 \r\nL 1159 4863 \r\nL 1159 2956 \r\nQ 1366 3272 1645 3428 \r\nQ 1925 3584 2291 3584 \r\nQ 2894 3584 3203 3211 \r\nQ 3513 2838 3513 2113 \r\nz\r\n\" id=\"DejaVuSans-68\" transform=\"scale(0.015625)\"/>\r\n        <path d=\"M 1159 525 \r\nL 1159 -1331 \r\nL 581 -1331 \r\nL 581 3500 \r\nL 1159 3500 \r\nL 1159 2969 \r\nQ 1341 3281 1617 3432 \r\nQ 1894 3584 2278 3584 \r\nQ 2916 3584 3314 3078 \r\nQ 3713 2572 3713 1747 \r\nQ 3713 922 3314 415 \r\nQ 2916 -91 2278 -91 \r\nQ 1894 -91 1617 61 \r\nQ 1341 213 1159 525 \r\nz\r\nM 3116 1747 \r\nQ 3116 2381 2855 2742 \r\nQ 2594 3103 2138 3103 \r\nQ 1681 3103 1420 2742 \r\nQ 1159 2381 1159 1747 \r\nQ 1159 1113 1420 752 \r\nQ 1681 391 2138 391 \r\nQ 2594 391 2855 752 \r\nQ 3116 1113 3116 1747 \r\nz\r\n\" id=\"DejaVuSans-70\" transform=\"scale(0.015625)\"/>\r\n        <path d=\"M 1947 4863 \r\nL 1947 -844 \r\nL 622 -844 \r\nL 622 -397 \r\nL 1369 -397 \r\nL 1369 4416 \r\nL 622 4416 \r\nL 622 4863 \r\nL 1947 4863 \r\nz\r\n\" id=\"DejaVuSans-5d\" transform=\"scale(0.015625)\"/>\r\n       </defs>\r\n       <use xlink:href=\"#DejaVuSans-53\"/>\r\n       <use x=\"63.476562\" xlink:href=\"#DejaVuSans-65\"/>\r\n       <use x=\"125\" xlink:href=\"#DejaVuSans-67\"/>\r\n       <use x=\"188.476562\" xlink:href=\"#DejaVuSans-6d\"/>\r\n       <use x=\"285.888672\" xlink:href=\"#DejaVuSans-65\"/>\r\n       <use x=\"347.412109\" xlink:href=\"#DejaVuSans-6e\"/>\r\n       <use x=\"410.791016\" xlink:href=\"#DejaVuSans-74\"/>\r\n       <use x=\"450\" xlink:href=\"#DejaVuSans-5b\"/>\r\n       <use x=\"489.013672\" xlink:href=\"#DejaVuSans-75\"/>\r\n       <use x=\"552.392578\" xlink:href=\"#DejaVuSans-72\"/>\r\n       <use x=\"593.505859\" xlink:href=\"#DejaVuSans-62\"/>\r\n       <use x=\"656.982422\" xlink:href=\"#DejaVuSans-61\"/>\r\n       <use x=\"718.261719\" xlink:href=\"#DejaVuSans-6e\"/>\r\n       <use x=\"781.640625\" xlink:href=\"#DejaVuSans-5f\"/>\r\n       <use x=\"831.640625\" xlink:href=\"#DejaVuSans-68\"/>\r\n       <use x=\"895.019531\" xlink:href=\"#DejaVuSans-69\"/>\r\n       <use x=\"922.802734\" xlink:href=\"#DejaVuSans-70\"/>\r\n       <use x=\"986.279297\" xlink:href=\"#DejaVuSans-5d\"/>\r\n      </g>\r\n     </g>\r\n    </g>\r\n    <g id=\"ytick_2\">\r\n     <g id=\"line2d_10\">\r\n      <g>\r\n       <use style=\"stroke:#000000;stroke-width:0.8;\" x=\"125.134375\" xlink:href=\"#m1523f328f5\" y=\"143.1\"/>\r\n      </g>\r\n     </g>\r\n     <g id=\"text_11\">\r\n      <!-- Segment[moving_up] -->\r\n      <g transform=\"translate(10.401562 146.899219)scale(0.1 -0.1)\">\r\n       <defs>\r\n        <path d=\"M 191 3500 \r\nL 800 3500 \r\nL 1894 563 \r\nL 2988 3500 \r\nL 3597 3500 \r\nL 2284 0 \r\nL 1503 0 \r\nL 191 3500 \r\nz\r\n\" id=\"DejaVuSans-76\" transform=\"scale(0.015625)\"/>\r\n       </defs>\r\n       <use xlink:href=\"#DejaVuSans-53\"/>\r\n       <use x=\"63.476562\" xlink:href=\"#DejaVuSans-65\"/>\r\n       <use x=\"125\" xlink:href=\"#DejaVuSans-67\"/>\r\n       <use x=\"188.476562\" xlink:href=\"#DejaVuSans-6d\"/>\r\n       <use x=\"285.888672\" xlink:href=\"#DejaVuSans-65\"/>\r\n       <use x=\"347.412109\" xlink:href=\"#DejaVuSans-6e\"/>\r\n       <use x=\"410.791016\" xlink:href=\"#DejaVuSans-74\"/>\r\n       <use x=\"450\" xlink:href=\"#DejaVuSans-5b\"/>\r\n       <use x=\"489.013672\" xlink:href=\"#DejaVuSans-6d\"/>\r\n       <use x=\"586.425781\" xlink:href=\"#DejaVuSans-6f\"/>\r\n       <use x=\"647.607422\" xlink:href=\"#DejaVuSans-76\"/>\r\n       <use x=\"706.787109\" xlink:href=\"#DejaVuSans-69\"/>\r\n       <use x=\"734.570312\" xlink:href=\"#DejaVuSans-6e\"/>\r\n       <use x=\"797.949219\" xlink:href=\"#DejaVuSans-67\"/>\r\n       <use x=\"861.425781\" xlink:href=\"#DejaVuSans-5f\"/>\r\n       <use x=\"911.425781\" xlink:href=\"#DejaVuSans-75\"/>\r\n       <use x=\"974.804688\" xlink:href=\"#DejaVuSans-70\"/>\r\n       <use x=\"1038.28125\" xlink:href=\"#DejaVuSans-5d\"/>\r\n      </g>\r\n     </g>\r\n    </g>\r\n    <g id=\"ytick_3\">\r\n     <g id=\"line2d_11\">\r\n      <g>\r\n       <use style=\"stroke:#000000;stroke-width:0.8;\" x=\"125.134375\" xlink:href=\"#m1523f328f5\" y=\"88.74\"/>\r\n      </g>\r\n     </g>\r\n     <g id=\"text_12\">\r\n      <!-- Segment[suburb_mix] -->\r\n      <g transform=\"translate(7.2 92.539219)scale(0.1 -0.1)\">\r\n       <defs>\r\n        <path d=\"M 2834 3397 \r\nL 2834 2853 \r\nQ 2591 2978 2328 3040 \r\nQ 2066 3103 1784 3103 \r\nQ 1356 3103 1142 2972 \r\nQ 928 2841 928 2578 \r\nQ 928 2378 1081 2264 \r\nQ 1234 2150 1697 2047 \r\nL 1894 2003 \r\nQ 2506 1872 2764 1633 \r\nQ 3022 1394 3022 966 \r\nQ 3022 478 2636 193 \r\nQ 2250 -91 1575 -91 \r\nQ 1294 -91 989 -36 \r\nQ 684 19 347 128 \r\nL 347 722 \r\nQ 666 556 975 473 \r\nQ 1284 391 1588 391 \r\nQ 1994 391 2212 530 \r\nQ 2431 669 2431 922 \r\nQ 2431 1156 2273 1281 \r\nQ 2116 1406 1581 1522 \r\nL 1381 1569 \r\nQ 847 1681 609 1914 \r\nQ 372 2147 372 2553 \r\nQ 372 3047 722 3315 \r\nQ 1072 3584 1716 3584 \r\nQ 2034 3584 2315 3537 \r\nQ 2597 3491 2834 3397 \r\nz\r\n\" id=\"DejaVuSans-73\" transform=\"scale(0.015625)\"/>\r\n        <path d=\"M 3513 3500 \r\nL 2247 1797 \r\nL 3578 0 \r\nL 2900 0 \r\nL 1881 1375 \r\nL 863 0 \r\nL 184 0 \r\nL 1544 1831 \r\nL 300 3500 \r\nL 978 3500 \r\nL 1906 2253 \r\nL 2834 3500 \r\nL 3513 3500 \r\nz\r\n\" id=\"DejaVuSans-78\" transform=\"scale(0.015625)\"/>\r\n       </defs>\r\n       <use xlink:href=\"#DejaVuSans-53\"/>\r\n       <use x=\"63.476562\" xlink:href=\"#DejaVuSans-65\"/>\r\n       <use x=\"125\" xlink:href=\"#DejaVuSans-67\"/>\r\n       <use x=\"188.476562\" xlink:href=\"#DejaVuSans-6d\"/>\r\n       <use x=\"285.888672\" xlink:href=\"#DejaVuSans-65\"/>\r\n       <use x=\"347.412109\" xlink:href=\"#DejaVuSans-6e\"/>\r\n       <use x=\"410.791016\" xlink:href=\"#DejaVuSans-74\"/>\r\n       <use x=\"450\" xlink:href=\"#DejaVuSans-5b\"/>\r\n       <use x=\"489.013672\" xlink:href=\"#DejaVuSans-73\"/>\r\n       <use x=\"541.113281\" xlink:href=\"#DejaVuSans-75\"/>\r\n       <use x=\"604.492188\" xlink:href=\"#DejaVuSans-62\"/>\r\n       <use x=\"667.96875\" xlink:href=\"#DejaVuSans-75\"/>\r\n       <use x=\"731.347656\" xlink:href=\"#DejaVuSans-72\"/>\r\n       <use x=\"772.460938\" xlink:href=\"#DejaVuSans-62\"/>\r\n       <use x=\"835.9375\" xlink:href=\"#DejaVuSans-5f\"/>\r\n       <use x=\"885.9375\" xlink:href=\"#DejaVuSans-6d\"/>\r\n       <use x=\"983.349609\" xlink:href=\"#DejaVuSans-69\"/>\r\n       <use x=\"1011.132812\" xlink:href=\"#DejaVuSans-78\"/>\r\n       <use x=\"1070.3125\" xlink:href=\"#DejaVuSans-5d\"/>\r\n      </g>\r\n     </g>\r\n    </g>\r\n    <g id=\"ytick_4\">\r\n     <g id=\"line2d_12\">\r\n      <g>\r\n       <use style=\"stroke:#000000;stroke-width:0.8;\" x=\"125.134375\" xlink:href=\"#m1523f328f5\" y=\"34.38\"/>\r\n      </g>\r\n     </g>\r\n     <g id=\"text_13\">\r\n      <!-- Segment[travelers] -->\r\n      <g transform=\"translate(20.846875 38.179219)scale(0.1 -0.1)\">\r\n       <defs>\r\n        <path d=\"M 603 4863 \r\nL 1178 4863 \r\nL 1178 0 \r\nL 603 0 \r\nL 603 4863 \r\nz\r\n\" id=\"DejaVuSans-6c\" transform=\"scale(0.015625)\"/>\r\n       </defs>\r\n       <use xlink:href=\"#DejaVuSans-53\"/>\r\n       <use x=\"63.476562\" xlink:href=\"#DejaVuSans-65\"/>\r\n       <use x=\"125\" xlink:href=\"#DejaVuSans-67\"/>\r\n       <use x=\"188.476562\" xlink:href=\"#DejaVuSans-6d\"/>\r\n       <use x=\"285.888672\" xlink:href=\"#DejaVuSans-65\"/>\r\n       <use x=\"347.412109\" xlink:href=\"#DejaVuSans-6e\"/>\r\n       <use x=\"410.791016\" xlink:href=\"#DejaVuSans-74\"/>\r\n       <use x=\"450\" xlink:href=\"#DejaVuSans-5b\"/>\r\n       <use x=\"489.013672\" xlink:href=\"#DejaVuSans-74\"/>\r\n       <use x=\"528.222656\" xlink:href=\"#DejaVuSans-72\"/>\r\n       <use x=\"569.335938\" xlink:href=\"#DejaVuSans-61\"/>\r\n       <use x=\"630.615234\" xlink:href=\"#DejaVuSans-76\"/>\r\n       <use x=\"689.794922\" xlink:href=\"#DejaVuSans-65\"/>\r\n       <use x=\"751.318359\" xlink:href=\"#DejaVuSans-6c\"/>\r\n       <use x=\"779.101562\" xlink:href=\"#DejaVuSans-65\"/>\r\n       <use x=\"840.625\" xlink:href=\"#DejaVuSans-72\"/>\r\n       <use x=\"881.738281\" xlink:href=\"#DejaVuSans-73\"/>\r\n       <use x=\"933.837891\" xlink:href=\"#DejaVuSans-5d\"/>\r\n      </g>\r\n     </g>\r\n    </g>\r\n   </g>\r\n   <g id=\"line2d_13\">\r\n    <defs>\r\n     <path d=\"M 0 3 \r\nC 0.795609 3 1.55874 2.683901 2.12132 2.12132 \r\nC 2.683901 1.55874 3 0.795609 3 0 \r\nC 3 -0.795609 2.683901 -1.55874 2.12132 -2.12132 \r\nC 1.55874 -2.683901 0.795609 -3 0 -3 \r\nC -0.795609 -3 -1.55874 -2.683901 -2.12132 -2.12132 \r\nC -2.683901 -1.55874 -3 -0.795609 -3 0 \r\nC -3 0.795609 -2.683901 1.55874 -2.12132 2.12132 \r\nC -1.55874 2.683901 -0.795609 3 0 3 \r\nz\r\n\" id=\"mf3db16d3fe\" style=\"stroke:#ff0000;\"/>\r\n    </defs>\r\n    <g clip-path=\"url(#p52ab57a7e6)\">\r\n     <use style=\"fill:#ff0000;stroke:#ff0000;\" x=\"250.673178\" xlink:href=\"#mf3db16d3fe\" y=\"197.46\"/>\r\n     <use style=\"fill:#ff0000;stroke:#ff0000;\" x=\"445.758458\" xlink:href=\"#mf3db16d3fe\" y=\"143.1\"/>\r\n     <use style=\"fill:#ff0000;stroke:#ff0000;\" x=\"469.225877\" xlink:href=\"#mf3db16d3fe\" y=\"88.74\"/>\r\n     <use style=\"fill:#ff0000;stroke:#ff0000;\" x=\"512.939287\" xlink:href=\"#mf3db16d3fe\" y=\"34.38\"/>\r\n    </g>\r\n   </g>\r\n   <g id=\"line2d_14\">\r\n    <path clip-path=\"url(#p52ab57a7e6)\" d=\"M 125.134685 224.64 \r\nL 125.134685 7.2 \r\n\" style=\"fill:none;stroke:#808080;stroke-dasharray:5.55,2.4;stroke-dashoffset:0;stroke-width:1.5;\"/>\r\n   </g>\r\n   <g id=\"patch_7\">\r\n    <path d=\"M 125.134375 224.64 \r\nL 125.134375 7.2 \r\n\" style=\"fill:none;stroke:#000000;stroke-linecap:square;stroke-linejoin:miter;stroke-width:0.8;\"/>\r\n   </g>\r\n   <g id=\"patch_8\">\r\n    <path d=\"M 571.534375 224.64 \r\nL 571.534375 7.2 \r\n\" style=\"fill:none;stroke:#000000;stroke-linecap:square;stroke-linejoin:miter;stroke-width:0.8;\"/>\r\n   </g>\r\n   <g id=\"patch_9\">\r\n    <path d=\"M 125.134375 224.64 \r\nL 571.534375 224.64 \r\n\" style=\"fill:none;stroke:#000000;stroke-linecap:square;stroke-linejoin:miter;stroke-width:0.8;\"/>\r\n   </g>\r\n   <g id=\"patch_10\">\r\n    <path d=\"M 125.134375 7.2 \r\nL 571.534375 7.2 \r\n\" style=\"fill:none;stroke:#000000;stroke-linecap:square;stroke-linejoin:miter;stroke-width:0.8;\"/>\r\n   </g>\r\n  </g>\r\n </g>\r\n <defs>\r\n  <clipPath id=\"p52ab57a7e6\">\r\n   <rect height=\"217.44\" width=\"446.4\" x=\"125.134375\" y=\"7.2\"/>\r\n  </clipPath>\r\n </defs>\r\n</svg>\r\n",
            "image/png": "[encoded data removed]"
          },
          "metadata": {
            "needs_background": "light"
          }
        }
      ],
      "metadata": {
        "id": "jrKWRQoH3Tj3",
        "colab_type": "code",
        "colab": {}
      }
    }
  ]
}